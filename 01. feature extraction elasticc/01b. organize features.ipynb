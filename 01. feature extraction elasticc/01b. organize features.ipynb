{
 "cells": [
  {
   "cell_type": "code",
   "execution_count": 1,
   "id": "f5ccc20a-c46f-4098-9a40-a89e71645d76",
   "metadata": {
    "execution": {
     "iopub.execute_input": "2025-05-06T02:23:49.351552Z",
     "iopub.status.busy": "2025-05-06T02:23:49.350106Z",
     "iopub.status.idle": "2025-05-06T02:23:50.258382Z",
     "shell.execute_reply": "2025-05-06T02:23:50.258047Z",
     "shell.execute_reply.started": "2025-05-06T02:23:49.351494Z"
    }
   },
   "outputs": [],
   "source": [
    "import numpy as np\n",
    "import pandas as pd\n",
    "import matplotlib.pyplot as plt\n",
    "import sys\n",
    "import os\n",
    "import glob\n",
    "from tqdm.auto import tqdm"
   ]
  },
  {
   "cell_type": "code",
   "execution_count": 2,
   "id": "9055c177-d589-43de-93d7-96815f8e5993",
   "metadata": {
    "execution": {
     "iopub.execute_input": "2025-05-06T02:23:50.825422Z",
     "iopub.status.busy": "2025-05-06T02:23:50.824359Z",
     "iopub.status.idle": "2025-05-06T02:23:50.832196Z",
     "shell.execute_reply": "2025-05-06T02:23:50.831327Z",
     "shell.execute_reply.started": "2025-05-06T02:23:50.825391Z"
    }
   },
   "outputs": [],
   "source": [
    "cep_df = pd.read_parquet(\"../data/Cepheid_features.parquet\")\n",
    "dsct_df = pd.read_parquet(\"../data/d-Sct_features.parquet\")\n",
    "rrl_df = pd.read_parquet(\"../data/RRL_features.parquet\")\n",
    "eb_df = pd.read_parquet(\"../data/EB_features.parquet\")"
   ]
  },
  {
   "cell_type": "code",
   "execution_count": 3,
   "id": "030f2191-7377-4870-ae84-820afccf53d7",
   "metadata": {
    "execution": {
     "iopub.execute_input": "2025-05-06T02:23:53.371537Z",
     "iopub.status.busy": "2025-05-06T02:23:53.370930Z",
     "iopub.status.idle": "2025-05-06T02:23:53.379864Z",
     "shell.execute_reply": "2025-05-06T02:23:53.378638Z",
     "shell.execute_reply.started": "2025-05-06T02:23:53.371506Z"
    }
   },
   "outputs": [],
   "source": [
    "cep_df[\"class\"] = \"CEP\"\n",
    "dsct_df[\"class\"] = \"DSCT\"\n",
    "rrl_df[\"class\"] = \"RRL\"\n",
    "eb_df[\"class\"] = \"EB\""
   ]
  },
  {
   "cell_type": "code",
   "execution_count": 4,
   "id": "56601a15-dc7f-4812-80eb-8bdbddce6bee",
   "metadata": {
    "execution": {
     "iopub.execute_input": "2025-05-06T02:23:55.490453Z",
     "iopub.status.busy": "2025-05-06T02:23:55.490069Z",
     "iopub.status.idle": "2025-05-06T02:23:55.494619Z",
     "shell.execute_reply": "2025-05-06T02:23:55.493554Z",
     "shell.execute_reply.started": "2025-05-06T02:23:55.490427Z"
    }
   },
   "outputs": [],
   "source": [
    "features_df = pd.concat([cep_df, dsct_df, rrl_df, eb_df]).reset_index(drop=True)\n",
    "del (cep_df, dsct_df, rrl_df, eb_df)"
   ]
  },
  {
   "cell_type": "code",
   "execution_count": 5,
   "id": "0f9b75c5-89f5-4c63-b323-0e1506c9a1df",
   "metadata": {
    "execution": {
     "iopub.execute_input": "2025-05-06T02:23:57.856979Z",
     "iopub.status.busy": "2025-05-06T02:23:57.856354Z",
     "iopub.status.idle": "2025-05-06T02:23:57.863966Z",
     "shell.execute_reply": "2025-05-06T02:23:57.863233Z",
     "shell.execute_reply.started": "2025-05-06T02:23:57.856932Z"
    }
   },
   "outputs": [],
   "source": [
    "features_df.to_parquet(\"../data/allfeatures.parquet\")"
   ]
  }
 ],
 "metadata": {
  "kernelspec": {
   "display_name": "Python 3 (ipykernel)",
   "language": "python",
   "name": "python3"
  },
  "language_info": {
   "codemirror_mode": {
    "name": "ipython",
    "version": 3
   },
   "file_extension": ".py",
   "mimetype": "text/x-python",
   "name": "python",
   "nbconvert_exporter": "python",
   "pygments_lexer": "ipython3",
   "version": "3.12.4"
  }
 },
 "nbformat": 4,
 "nbformat_minor": 5
}
