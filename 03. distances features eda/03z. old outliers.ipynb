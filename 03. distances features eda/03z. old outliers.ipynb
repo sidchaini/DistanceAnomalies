{
 "cells": [
  {
   "cell_type": "code",
   "execution_count": 1,
   "id": "2cac55de-d790-41de-ab77-5f21a1d880aa",
   "metadata": {
    "execution": {
     "iopub.execute_input": "2025-05-14T02:53:26.978697Z",
     "iopub.status.busy": "2025-05-14T02:53:26.978025Z",
     "iopub.status.idle": "2025-05-14T02:53:28.467864Z",
     "shell.execute_reply": "2025-05-14T02:53:28.467519Z",
     "shell.execute_reply.started": "2025-05-14T02:53:26.978645Z"
    }
   },
   "outputs": [],
   "source": [
    "import numpy as np\n",
    "import pandas as pd\n",
    "import matplotlib.pyplot as plt\n",
    "import seaborn as sns\n",
    "import json\n",
    "import os\n",
    "from sklearn.model_selection import cross_val_predict, train_test_split\n",
    "from sklearn.metrics import accuracy_score, f1_score, matthews_corrcoef\n",
    "import distclassipy as dcpy\n",
    "from tqdm.auto import tqdm\n",
    "\n",
    "os.chdir(\"../\")\n",
    "from pathlib import Path\n",
    "import matplotlib.gridspec as gridspec\n",
    "import sys\n",
    "\n",
    "sys.path.append(\"scripts\")\n",
    "import utils"
   ]
  },
  {
   "cell_type": "code",
   "execution_count": 2,
   "id": "62d3b4c3-2136-4f60-934d-dfa1d1841e3a",
   "metadata": {
    "execution": {
     "iopub.execute_input": "2025-05-14T02:53:28.468958Z",
     "iopub.status.busy": "2025-05-14T02:53:28.468747Z",
     "iopub.status.idle": "2025-05-14T02:53:28.472590Z",
     "shell.execute_reply": "2025-05-14T02:53:28.471940Z",
     "shell.execute_reply.started": "2025-05-14T02:53:28.468928Z"
    }
   },
   "outputs": [],
   "source": [
    "with open(\"settings.txt\") as f:\n",
    "    settings_dict = json.load(f)\n",
    "seed_val = settings_dict[\"seed_choice\"]\n",
    "np.random.seed(seed_val)\n",
    "sns_dict = settings_dict[\"sns_dict\"]\n",
    "sns.set_theme(**sns_dict)"
   ]
  },
  {
   "cell_type": "code",
   "execution_count": 3,
   "id": "a936f3d6-84ea-4695-a2e0-47ff74e7ebf0",
   "metadata": {
    "execution": {
     "iopub.execute_input": "2025-05-14T02:53:28.473388Z",
     "iopub.status.busy": "2025-05-14T02:53:28.473290Z",
     "iopub.status.idle": "2025-05-14T02:53:28.477853Z",
     "shell.execute_reply": "2025-05-14T02:53:28.477097Z",
     "shell.execute_reply.started": "2025-05-14T02:53:28.473380Z"
    }
   },
   "outputs": [],
   "source": [
    "# custom_hues = [\"#3B4CC0\", \"#1FA187\", \"#FBAE17\", \"#D21F26\"]\n",
    "ibm_palette_hues = [\"#648FFF\", \"#785EF0\", \"#DC267F\", \"#FE6100\", \"#FFB000\"]\n",
    "# https://davidmathlogic.com/colorblind/\n",
    "sns.set_palette(ibm_palette_hues)"
   ]
  },
  {
   "cell_type": "code",
   "execution_count": 4,
   "id": "0bcf863e-a588-4e70-9089-afae935891f2",
   "metadata": {
    "execution": {
     "iopub.execute_input": "2025-05-14T02:53:28.480145Z",
     "iopub.status.busy": "2025-05-14T02:53:28.479961Z",
     "iopub.status.idle": "2025-05-14T02:53:28.486698Z",
     "shell.execute_reply": "2025-05-14T02:53:28.485008Z",
     "shell.execute_reply.started": "2025-05-14T02:53:28.480135Z"
    }
   },
   "outputs": [],
   "source": [
    "# all_metrics = settings_dict[\"all_metrics\"]\n",
    "# all_metrics = dcpy._ALL_METRICS\n",
    "all_metrics = ['euclidean', 'braycurtis', 'canberra', 'cityblock', 'chebyshev',\n",
    "       'clark', 'correlation', 'cosine', 'hellinger', 'jaccard',\n",
    "       'lorentzian', 'meehl', 'soergel', 'wave_hedges', 'kulczynski',\n",
    "       'add_chisq', 'acc', 'divergence', 'google', 'jeffreys',\n",
    "       'kumarjohnson', 'penroseshape', 'squared_chisq', 'squaredchord',\n",
    "       'squared_euclidean', 'taneja', 'topsoe', 'vicis_symmetric_chisq',\n",
    "       'vicis_wave_hedges']"
   ]
  },
  {
   "cell_type": "code",
   "execution_count": 5,
   "id": "3eb86188-440a-42a0-97ea-cd8eec16e134",
   "metadata": {
    "execution": {
     "iopub.execute_input": "2025-05-14T02:53:28.488065Z",
     "iopub.status.busy": "2025-05-14T02:53:28.487188Z",
     "iopub.status.idle": "2025-05-14T02:53:28.655056Z",
     "shell.execute_reply": "2025-05-14T02:53:28.654792Z",
     "shell.execute_reply.started": "2025-05-14T02:53:28.488050Z"
    }
   },
   "outputs": [
    {
     "data": {
      "text/plain": [
       "class\n",
       "EB      50278\n",
       "RRL     42698\n",
       "DSCT     7756\n",
       "CEP       683\n",
       "Name: count, dtype: int64"
      ]
     },
     "execution_count": 5,
     "metadata": {},
     "output_type": "execute_result"
    }
   ],
   "source": [
    "features = pd.read_parquet(\"data/reduced_features_LATEST.parquet\")\n",
    "features[\"class\"].value_counts()"
   ]
  },
  {
   "cell_type": "code",
   "execution_count": 6,
   "id": "47eb954f-8a79-490f-b6f1-2b26b506dbf8",
   "metadata": {
    "execution": {
     "iopub.execute_input": "2025-05-14T02:53:28.827935Z",
     "iopub.status.busy": "2025-05-14T02:53:28.827700Z",
     "iopub.status.idle": "2025-05-14T02:53:28.878389Z",
     "shell.execute_reply": "2025-05-14T02:53:28.877731Z",
     "shell.execute_reply.started": "2025-05-14T02:53:28.827919Z"
    }
   },
   "outputs": [],
   "source": [
    "features = features.sample(frac=1)\n",
    "\n",
    "y_df = features[\"class\"]\n",
    "X_df = features.drop([\"Coordinate_x\", \"Coordinate_y\", \"Coordinate_z\", \"class\"], axis=1)"
   ]
  },
  {
   "cell_type": "code",
   "execution_count": 7,
   "id": "5a3983a0-a3e6-41c4-9a39-617d5c730018",
   "metadata": {
    "execution": {
     "iopub.execute_input": "2025-05-14T02:53:29.647391Z",
     "iopub.status.busy": "2025-05-14T02:53:29.646685Z",
     "iopub.status.idle": "2025-05-14T02:53:29.656144Z",
     "shell.execute_reply": "2025-05-14T02:53:29.654779Z",
     "shell.execute_reply.started": "2025-05-14T02:53:29.647348Z"
    }
   },
   "outputs": [],
   "source": [
    "y = y_df.to_numpy()\n",
    "X = X_df.to_numpy()"
   ]
  },
  {
   "cell_type": "code",
   "execution_count": 8,
   "id": "d76a95bc-3cb7-4a7a-9eb0-a23d24d70d11",
   "metadata": {
    "execution": {
     "iopub.execute_input": "2025-05-14T02:53:29.827149Z",
     "iopub.status.busy": "2025-05-14T02:53:29.826656Z",
     "iopub.status.idle": "2025-05-14T02:53:29.831638Z",
     "shell.execute_reply": "2025-05-14T02:53:29.830874Z",
     "shell.execute_reply.started": "2025-05-14T02:53:29.827123Z"
    }
   },
   "outputs": [],
   "source": [
    "lcdc = dcpy.DistanceMetricClassifier(\n",
    "    scale=True,\n",
    "    central_stat=\"median\",\n",
    "    dispersion_stat=\"std\",\n",
    ")"
   ]
  },
  {
   "cell_type": "code",
   "execution_count": 9,
   "id": "656bf062-4b54-4185-9670-0a2e85495f75",
   "metadata": {
    "execution": {
     "iopub.execute_input": "2025-05-14T02:53:30.521689Z",
     "iopub.status.busy": "2025-05-14T02:53:30.520453Z",
     "iopub.status.idle": "2025-05-14T02:53:30.746627Z",
     "shell.execute_reply": "2025-05-14T02:53:30.746346Z",
     "shell.execute_reply.started": "2025-05-14T02:53:30.521649Z"
    }
   },
   "outputs": [
    {
     "data": {
      "text/html": [
       "<style>#sk-container-id-1 {\n",
       "  /* Definition of color scheme common for light and dark mode */\n",
       "  --sklearn-color-text: #000;\n",
       "  --sklearn-color-text-muted: #666;\n",
       "  --sklearn-color-line: gray;\n",
       "  /* Definition of color scheme for unfitted estimators */\n",
       "  --sklearn-color-unfitted-level-0: #fff5e6;\n",
       "  --sklearn-color-unfitted-level-1: #f6e4d2;\n",
       "  --sklearn-color-unfitted-level-2: #ffe0b3;\n",
       "  --sklearn-color-unfitted-level-3: chocolate;\n",
       "  /* Definition of color scheme for fitted estimators */\n",
       "  --sklearn-color-fitted-level-0: #f0f8ff;\n",
       "  --sklearn-color-fitted-level-1: #d4ebff;\n",
       "  --sklearn-color-fitted-level-2: #b3dbfd;\n",
       "  --sklearn-color-fitted-level-3: cornflowerblue;\n",
       "\n",
       "  /* Specific color for light theme */\n",
       "  --sklearn-color-text-on-default-background: var(--sg-text-color, var(--theme-code-foreground, var(--jp-content-font-color1, black)));\n",
       "  --sklearn-color-background: var(--sg-background-color, var(--theme-background, var(--jp-layout-color0, white)));\n",
       "  --sklearn-color-border-box: var(--sg-text-color, var(--theme-code-foreground, var(--jp-content-font-color1, black)));\n",
       "  --sklearn-color-icon: #696969;\n",
       "\n",
       "  @media (prefers-color-scheme: dark) {\n",
       "    /* Redefinition of color scheme for dark theme */\n",
       "    --sklearn-color-text-on-default-background: var(--sg-text-color, var(--theme-code-foreground, var(--jp-content-font-color1, white)));\n",
       "    --sklearn-color-background: var(--sg-background-color, var(--theme-background, var(--jp-layout-color0, #111)));\n",
       "    --sklearn-color-border-box: var(--sg-text-color, var(--theme-code-foreground, var(--jp-content-font-color1, white)));\n",
       "    --sklearn-color-icon: #878787;\n",
       "  }\n",
       "}\n",
       "\n",
       "#sk-container-id-1 {\n",
       "  color: var(--sklearn-color-text);\n",
       "}\n",
       "\n",
       "#sk-container-id-1 pre {\n",
       "  padding: 0;\n",
       "}\n",
       "\n",
       "#sk-container-id-1 input.sk-hidden--visually {\n",
       "  border: 0;\n",
       "  clip: rect(1px 1px 1px 1px);\n",
       "  clip: rect(1px, 1px, 1px, 1px);\n",
       "  height: 1px;\n",
       "  margin: -1px;\n",
       "  overflow: hidden;\n",
       "  padding: 0;\n",
       "  position: absolute;\n",
       "  width: 1px;\n",
       "}\n",
       "\n",
       "#sk-container-id-1 div.sk-dashed-wrapped {\n",
       "  border: 1px dashed var(--sklearn-color-line);\n",
       "  margin: 0 0.4em 0.5em 0.4em;\n",
       "  box-sizing: border-box;\n",
       "  padding-bottom: 0.4em;\n",
       "  background-color: var(--sklearn-color-background);\n",
       "}\n",
       "\n",
       "#sk-container-id-1 div.sk-container {\n",
       "  /* jupyter's `normalize.less` sets `[hidden] { display: none; }`\n",
       "     but bootstrap.min.css set `[hidden] { display: none !important; }`\n",
       "     so we also need the `!important` here to be able to override the\n",
       "     default hidden behavior on the sphinx rendered scikit-learn.org.\n",
       "     See: https://github.com/scikit-learn/scikit-learn/issues/21755 */\n",
       "  display: inline-block !important;\n",
       "  position: relative;\n",
       "}\n",
       "\n",
       "#sk-container-id-1 div.sk-text-repr-fallback {\n",
       "  display: none;\n",
       "}\n",
       "\n",
       "div.sk-parallel-item,\n",
       "div.sk-serial,\n",
       "div.sk-item {\n",
       "  /* draw centered vertical line to link estimators */\n",
       "  background-image: linear-gradient(var(--sklearn-color-text-on-default-background), var(--sklearn-color-text-on-default-background));\n",
       "  background-size: 2px 100%;\n",
       "  background-repeat: no-repeat;\n",
       "  background-position: center center;\n",
       "}\n",
       "\n",
       "/* Parallel-specific style estimator block */\n",
       "\n",
       "#sk-container-id-1 div.sk-parallel-item::after {\n",
       "  content: \"\";\n",
       "  width: 100%;\n",
       "  border-bottom: 2px solid var(--sklearn-color-text-on-default-background);\n",
       "  flex-grow: 1;\n",
       "}\n",
       "\n",
       "#sk-container-id-1 div.sk-parallel {\n",
       "  display: flex;\n",
       "  align-items: stretch;\n",
       "  justify-content: center;\n",
       "  background-color: var(--sklearn-color-background);\n",
       "  position: relative;\n",
       "}\n",
       "\n",
       "#sk-container-id-1 div.sk-parallel-item {\n",
       "  display: flex;\n",
       "  flex-direction: column;\n",
       "}\n",
       "\n",
       "#sk-container-id-1 div.sk-parallel-item:first-child::after {\n",
       "  align-self: flex-end;\n",
       "  width: 50%;\n",
       "}\n",
       "\n",
       "#sk-container-id-1 div.sk-parallel-item:last-child::after {\n",
       "  align-self: flex-start;\n",
       "  width: 50%;\n",
       "}\n",
       "\n",
       "#sk-container-id-1 div.sk-parallel-item:only-child::after {\n",
       "  width: 0;\n",
       "}\n",
       "\n",
       "/* Serial-specific style estimator block */\n",
       "\n",
       "#sk-container-id-1 div.sk-serial {\n",
       "  display: flex;\n",
       "  flex-direction: column;\n",
       "  align-items: center;\n",
       "  background-color: var(--sklearn-color-background);\n",
       "  padding-right: 1em;\n",
       "  padding-left: 1em;\n",
       "}\n",
       "\n",
       "\n",
       "/* Toggleable style: style used for estimator/Pipeline/ColumnTransformer box that is\n",
       "clickable and can be expanded/collapsed.\n",
       "- Pipeline and ColumnTransformer use this feature and define the default style\n",
       "- Estimators will overwrite some part of the style using the `sk-estimator` class\n",
       "*/\n",
       "\n",
       "/* Pipeline and ColumnTransformer style (default) */\n",
       "\n",
       "#sk-container-id-1 div.sk-toggleable {\n",
       "  /* Default theme specific background. It is overwritten whether we have a\n",
       "  specific estimator or a Pipeline/ColumnTransformer */\n",
       "  background-color: var(--sklearn-color-background);\n",
       "}\n",
       "\n",
       "/* Toggleable label */\n",
       "#sk-container-id-1 label.sk-toggleable__label {\n",
       "  cursor: pointer;\n",
       "  display: flex;\n",
       "  width: 100%;\n",
       "  margin-bottom: 0;\n",
       "  padding: 0.5em;\n",
       "  box-sizing: border-box;\n",
       "  text-align: center;\n",
       "  align-items: start;\n",
       "  justify-content: space-between;\n",
       "  gap: 0.5em;\n",
       "}\n",
       "\n",
       "#sk-container-id-1 label.sk-toggleable__label .caption {\n",
       "  font-size: 0.6rem;\n",
       "  font-weight: lighter;\n",
       "  color: var(--sklearn-color-text-muted);\n",
       "}\n",
       "\n",
       "#sk-container-id-1 label.sk-toggleable__label-arrow:before {\n",
       "  /* Arrow on the left of the label */\n",
       "  content: \"▸\";\n",
       "  float: left;\n",
       "  margin-right: 0.25em;\n",
       "  color: var(--sklearn-color-icon);\n",
       "}\n",
       "\n",
       "#sk-container-id-1 label.sk-toggleable__label-arrow:hover:before {\n",
       "  color: var(--sklearn-color-text);\n",
       "}\n",
       "\n",
       "/* Toggleable content - dropdown */\n",
       "\n",
       "#sk-container-id-1 div.sk-toggleable__content {\n",
       "  max-height: 0;\n",
       "  max-width: 0;\n",
       "  overflow: hidden;\n",
       "  text-align: left;\n",
       "  /* unfitted */\n",
       "  background-color: var(--sklearn-color-unfitted-level-0);\n",
       "}\n",
       "\n",
       "#sk-container-id-1 div.sk-toggleable__content.fitted {\n",
       "  /* fitted */\n",
       "  background-color: var(--sklearn-color-fitted-level-0);\n",
       "}\n",
       "\n",
       "#sk-container-id-1 div.sk-toggleable__content pre {\n",
       "  margin: 0.2em;\n",
       "  border-radius: 0.25em;\n",
       "  color: var(--sklearn-color-text);\n",
       "  /* unfitted */\n",
       "  background-color: var(--sklearn-color-unfitted-level-0);\n",
       "}\n",
       "\n",
       "#sk-container-id-1 div.sk-toggleable__content.fitted pre {\n",
       "  /* unfitted */\n",
       "  background-color: var(--sklearn-color-fitted-level-0);\n",
       "}\n",
       "\n",
       "#sk-container-id-1 input.sk-toggleable__control:checked~div.sk-toggleable__content {\n",
       "  /* Expand drop-down */\n",
       "  max-height: 200px;\n",
       "  max-width: 100%;\n",
       "  overflow: auto;\n",
       "}\n",
       "\n",
       "#sk-container-id-1 input.sk-toggleable__control:checked~label.sk-toggleable__label-arrow:before {\n",
       "  content: \"▾\";\n",
       "}\n",
       "\n",
       "/* Pipeline/ColumnTransformer-specific style */\n",
       "\n",
       "#sk-container-id-1 div.sk-label input.sk-toggleable__control:checked~label.sk-toggleable__label {\n",
       "  color: var(--sklearn-color-text);\n",
       "  background-color: var(--sklearn-color-unfitted-level-2);\n",
       "}\n",
       "\n",
       "#sk-container-id-1 div.sk-label.fitted input.sk-toggleable__control:checked~label.sk-toggleable__label {\n",
       "  background-color: var(--sklearn-color-fitted-level-2);\n",
       "}\n",
       "\n",
       "/* Estimator-specific style */\n",
       "\n",
       "/* Colorize estimator box */\n",
       "#sk-container-id-1 div.sk-estimator input.sk-toggleable__control:checked~label.sk-toggleable__label {\n",
       "  /* unfitted */\n",
       "  background-color: var(--sklearn-color-unfitted-level-2);\n",
       "}\n",
       "\n",
       "#sk-container-id-1 div.sk-estimator.fitted input.sk-toggleable__control:checked~label.sk-toggleable__label {\n",
       "  /* fitted */\n",
       "  background-color: var(--sklearn-color-fitted-level-2);\n",
       "}\n",
       "\n",
       "#sk-container-id-1 div.sk-label label.sk-toggleable__label,\n",
       "#sk-container-id-1 div.sk-label label {\n",
       "  /* The background is the default theme color */\n",
       "  color: var(--sklearn-color-text-on-default-background);\n",
       "}\n",
       "\n",
       "/* On hover, darken the color of the background */\n",
       "#sk-container-id-1 div.sk-label:hover label.sk-toggleable__label {\n",
       "  color: var(--sklearn-color-text);\n",
       "  background-color: var(--sklearn-color-unfitted-level-2);\n",
       "}\n",
       "\n",
       "/* Label box, darken color on hover, fitted */\n",
       "#sk-container-id-1 div.sk-label.fitted:hover label.sk-toggleable__label.fitted {\n",
       "  color: var(--sklearn-color-text);\n",
       "  background-color: var(--sklearn-color-fitted-level-2);\n",
       "}\n",
       "\n",
       "/* Estimator label */\n",
       "\n",
       "#sk-container-id-1 div.sk-label label {\n",
       "  font-family: monospace;\n",
       "  font-weight: bold;\n",
       "  display: inline-block;\n",
       "  line-height: 1.2em;\n",
       "}\n",
       "\n",
       "#sk-container-id-1 div.sk-label-container {\n",
       "  text-align: center;\n",
       "}\n",
       "\n",
       "/* Estimator-specific */\n",
       "#sk-container-id-1 div.sk-estimator {\n",
       "  font-family: monospace;\n",
       "  border: 1px dotted var(--sklearn-color-border-box);\n",
       "  border-radius: 0.25em;\n",
       "  box-sizing: border-box;\n",
       "  margin-bottom: 0.5em;\n",
       "  /* unfitted */\n",
       "  background-color: var(--sklearn-color-unfitted-level-0);\n",
       "}\n",
       "\n",
       "#sk-container-id-1 div.sk-estimator.fitted {\n",
       "  /* fitted */\n",
       "  background-color: var(--sklearn-color-fitted-level-0);\n",
       "}\n",
       "\n",
       "/* on hover */\n",
       "#sk-container-id-1 div.sk-estimator:hover {\n",
       "  /* unfitted */\n",
       "  background-color: var(--sklearn-color-unfitted-level-2);\n",
       "}\n",
       "\n",
       "#sk-container-id-1 div.sk-estimator.fitted:hover {\n",
       "  /* fitted */\n",
       "  background-color: var(--sklearn-color-fitted-level-2);\n",
       "}\n",
       "\n",
       "/* Specification for estimator info (e.g. \"i\" and \"?\") */\n",
       "\n",
       "/* Common style for \"i\" and \"?\" */\n",
       "\n",
       ".sk-estimator-doc-link,\n",
       "a:link.sk-estimator-doc-link,\n",
       "a:visited.sk-estimator-doc-link {\n",
       "  float: right;\n",
       "  font-size: smaller;\n",
       "  line-height: 1em;\n",
       "  font-family: monospace;\n",
       "  background-color: var(--sklearn-color-background);\n",
       "  border-radius: 1em;\n",
       "  height: 1em;\n",
       "  width: 1em;\n",
       "  text-decoration: none !important;\n",
       "  margin-left: 0.5em;\n",
       "  text-align: center;\n",
       "  /* unfitted */\n",
       "  border: var(--sklearn-color-unfitted-level-1) 1pt solid;\n",
       "  color: var(--sklearn-color-unfitted-level-1);\n",
       "}\n",
       "\n",
       ".sk-estimator-doc-link.fitted,\n",
       "a:link.sk-estimator-doc-link.fitted,\n",
       "a:visited.sk-estimator-doc-link.fitted {\n",
       "  /* fitted */\n",
       "  border: var(--sklearn-color-fitted-level-1) 1pt solid;\n",
       "  color: var(--sklearn-color-fitted-level-1);\n",
       "}\n",
       "\n",
       "/* On hover */\n",
       "div.sk-estimator:hover .sk-estimator-doc-link:hover,\n",
       ".sk-estimator-doc-link:hover,\n",
       "div.sk-label-container:hover .sk-estimator-doc-link:hover,\n",
       ".sk-estimator-doc-link:hover {\n",
       "  /* unfitted */\n",
       "  background-color: var(--sklearn-color-unfitted-level-3);\n",
       "  color: var(--sklearn-color-background);\n",
       "  text-decoration: none;\n",
       "}\n",
       "\n",
       "div.sk-estimator.fitted:hover .sk-estimator-doc-link.fitted:hover,\n",
       ".sk-estimator-doc-link.fitted:hover,\n",
       "div.sk-label-container:hover .sk-estimator-doc-link.fitted:hover,\n",
       ".sk-estimator-doc-link.fitted:hover {\n",
       "  /* fitted */\n",
       "  background-color: var(--sklearn-color-fitted-level-3);\n",
       "  color: var(--sklearn-color-background);\n",
       "  text-decoration: none;\n",
       "}\n",
       "\n",
       "/* Span, style for the box shown on hovering the info icon */\n",
       ".sk-estimator-doc-link span {\n",
       "  display: none;\n",
       "  z-index: 9999;\n",
       "  position: relative;\n",
       "  font-weight: normal;\n",
       "  right: .2ex;\n",
       "  padding: .5ex;\n",
       "  margin: .5ex;\n",
       "  width: min-content;\n",
       "  min-width: 20ex;\n",
       "  max-width: 50ex;\n",
       "  color: var(--sklearn-color-text);\n",
       "  box-shadow: 2pt 2pt 4pt #999;\n",
       "  /* unfitted */\n",
       "  background: var(--sklearn-color-unfitted-level-0);\n",
       "  border: .5pt solid var(--sklearn-color-unfitted-level-3);\n",
       "}\n",
       "\n",
       ".sk-estimator-doc-link.fitted span {\n",
       "  /* fitted */\n",
       "  background: var(--sklearn-color-fitted-level-0);\n",
       "  border: var(--sklearn-color-fitted-level-3);\n",
       "}\n",
       "\n",
       ".sk-estimator-doc-link:hover span {\n",
       "  display: block;\n",
       "}\n",
       "\n",
       "/* \"?\"-specific style due to the `<a>` HTML tag */\n",
       "\n",
       "#sk-container-id-1 a.estimator_doc_link {\n",
       "  float: right;\n",
       "  font-size: 1rem;\n",
       "  line-height: 1em;\n",
       "  font-family: monospace;\n",
       "  background-color: var(--sklearn-color-background);\n",
       "  border-radius: 1rem;\n",
       "  height: 1rem;\n",
       "  width: 1rem;\n",
       "  text-decoration: none;\n",
       "  /* unfitted */\n",
       "  color: var(--sklearn-color-unfitted-level-1);\n",
       "  border: var(--sklearn-color-unfitted-level-1) 1pt solid;\n",
       "}\n",
       "\n",
       "#sk-container-id-1 a.estimator_doc_link.fitted {\n",
       "  /* fitted */\n",
       "  border: var(--sklearn-color-fitted-level-1) 1pt solid;\n",
       "  color: var(--sklearn-color-fitted-level-1);\n",
       "}\n",
       "\n",
       "/* On hover */\n",
       "#sk-container-id-1 a.estimator_doc_link:hover {\n",
       "  /* unfitted */\n",
       "  background-color: var(--sklearn-color-unfitted-level-3);\n",
       "  color: var(--sklearn-color-background);\n",
       "  text-decoration: none;\n",
       "}\n",
       "\n",
       "#sk-container-id-1 a.estimator_doc_link.fitted:hover {\n",
       "  /* fitted */\n",
       "  background-color: var(--sklearn-color-fitted-level-3);\n",
       "}\n",
       "</style><div id=\"sk-container-id-1\" class=\"sk-top-container\"><div class=\"sk-text-repr-fallback\"><pre>DistanceMetricClassifier()</pre><b>In a Jupyter environment, please rerun this cell to show the HTML representation or trust the notebook. <br />On GitHub, the HTML representation is unable to render, please try loading this page with nbviewer.org.</b></div><div class=\"sk-container\" hidden><div class=\"sk-item\"><div class=\"sk-estimator fitted sk-toggleable\"><input class=\"sk-toggleable__control sk-hidden--visually\" id=\"sk-estimator-id-1\" type=\"checkbox\" checked><label for=\"sk-estimator-id-1\" class=\"sk-toggleable__label fitted sk-toggleable__label-arrow\"><div><div>DistanceMetricClassifier</div></div><div><span class=\"sk-estimator-doc-link fitted\">i<span>Fitted</span></span></div></label><div class=\"sk-toggleable__content fitted\"><pre>DistanceMetricClassifier()</pre></div> </div></div></div></div>"
      ],
      "text/plain": [
       "DistanceMetricClassifier()"
      ]
     },
     "execution_count": 9,
     "metadata": {},
     "output_type": "execute_result"
    }
   ],
   "source": [
    "lcdc.fit(X,y)"
   ]
  },
  {
   "cell_type": "code",
   "execution_count": 10,
   "id": "b2c0452a-762e-4663-a063-e3f9d7602f95",
   "metadata": {
    "execution": {
     "iopub.execute_input": "2025-05-14T02:53:30.940370Z",
     "iopub.status.busy": "2025-05-14T02:53:30.939710Z",
     "iopub.status.idle": "2025-05-14T02:53:31.051569Z",
     "shell.execute_reply": "2025-05-14T02:53:31.051245Z",
     "shell.execute_reply.started": "2025-05-14T02:53:30.940334Z"
    }
   },
   "outputs": [],
   "source": [
    "y_pred_test = lcdc.predict_and_analyse(X, metric=\"canberra\")\n",
    "y_testdf = pd.DataFrame(data=y, columns=[\"class\"])\n",
    "y_testdf[\"pred\"] = y_pred_test"
   ]
  },
  {
   "cell_type": "code",
   "execution_count": 11,
   "id": "8d9948ea-8344-4910-ac97-0c8e957d5078",
   "metadata": {
    "execution": {
     "iopub.execute_input": "2025-05-14T02:53:31.141589Z",
     "iopub.status.busy": "2025-05-14T02:53:31.141408Z",
     "iopub.status.idle": "2025-05-14T02:53:31.523380Z",
     "shell.execute_reply": "2025-05-14T02:53:31.523074Z",
     "shell.execute_reply.started": "2025-05-14T02:53:31.141576Z"
    }
   },
   "outputs": [
    {
     "data": {
      "image/png": "[encoded data removed]",
      "text/plain": [
       "<Figure size 640x480 with 1 Axes>"
      ]
     },
     "metadata": {},
     "output_type": "display_data"
    },
    {
     "name": "stdout",
     "output_type": "stream",
     "text": [
      "F1 = 63.13 %\n",
      "Accuracy = 78.37 %\n",
      "Matthew's Coefficient = 66.25 %\n"
     ]
    }
   ],
   "source": [
    "acc = accuracy_score(y, y_pred_test)\n",
    "f1score = f1_score(y, y_pred_test, average=\"macro\")\n",
    "matthew_coef = matthews_corrcoef(y, y_pred_test)\n",
    "\n",
    "ax = utils.plot_cm(y_true=y, y_pred=y_pred_test)\n",
    "ax.set_title(f\"Canberra metric\")\n",
    "plt.show()\n",
    "\n",
    "print(\n",
    "    f\"F1 = {f1score*100:.2f} %\\nAccuracy = {acc*100:.2f} %\\nMatthew's Coefficient = {matthew_coef*100:.2f} %\"\n",
    ")"
   ]
  },
  {
   "cell_type": "code",
   "execution_count": 12,
   "id": "fe15b93a-8d0b-4838-909b-4f110f585790",
   "metadata": {
    "execution": {
     "iopub.execute_input": "2025-05-14T02:53:32.144824Z",
     "iopub.status.busy": "2025-05-14T02:53:32.144195Z",
     "iopub.status.idle": "2025-05-14T02:54:46.541119Z",
     "shell.execute_reply": "2025-05-14T02:54:46.540723Z",
     "shell.execute_reply.started": "2025-05-14T02:53:32.144795Z"
    }
   },
   "outputs": [
    {
     "data": {
      "application/vnd.jupyter.widget-view+json": {
       "model_id": "56b323ab35e9485cb6b4ccbecf5a5866",
       "version_major": 2,
       "version_minor": 0
      },
      "text/plain": [
       "Metric:   0%|          | 0/29 [00:00<?, ?it/s]"
      ]
     },
     "metadata": {},
     "output_type": "display_data"
    },
    {
     "name": "stdout",
     "output_type": "stream",
     "text": [
      "******************** Euclidean ********************\n",
      "******************** Braycurtis ********************\n",
      "******************** Canberra ********************\n",
      "******************** Cityblock ********************\n",
      "******************** Chebyshev ********************\n",
      "******************** Clark ********************\n",
      "******************** Correlation ********************\n",
      "******************** Cosine ********************\n",
      "******************** Hellinger ********************\n",
      "******************** Jaccard ********************\n",
      "******************** Lorentzian ********************\n",
      "******************** Meehl ********************\n",
      "******************** Soergel ********************\n",
      "******************** Wave_Hedges ********************\n",
      "******************** Kulczynski ********************\n",
      "******************** Add_Chisq ********************\n",
      "******************** Acc ********************\n",
      "******************** Divergence ********************\n",
      "******************** Google ********************\n",
      "******************** Jeffreys ********************\n",
      "******************** Kumarjohnson ********************\n",
      "******************** Penroseshape ********************\n",
      "******************** Squared_Chisq ********************\n",
      "******************** Squaredchord ********************\n",
      "******************** Squared_Euclidean ********************\n",
      "******************** Taneja ********************\n",
      "******************** Topsoe ********************\n",
      "******************** Vicis_Symmetric_Chisq ********************\n",
      "******************** Vicis_Wave_Hedges ********************\n"
     ]
    }
   ],
   "source": [
    "check_sigma = 5\n",
    "outlier_info_by_snid = {}\n",
    "\n",
    "for metric in tqdm(all_metrics, desc=\"Metric\", leave=True):\n",
    "    metric_str = utils.get_metric_name(metric)\n",
    "    locpath = os.path.join(\"results\", metric_str)\n",
    "    print(\"*\" * 20, metric_str, \"*\" * 20)\n",
    "    Path(locpath).mkdir(parents=True, exist_ok=True)\n",
    "    \n",
    "    lcdc.fit(X, y)\n",
    "    _ = lcdc.predict_and_analyse(X, metric=metric)\n",
    "\n",
    "    dist_df = lcdc.centroid_dist_df_\n",
    "    dist_df.index=X_df.index\n",
    "    mean_distdf = dist_df.mean() # try median\n",
    "    sig_distdf = dist_df.std() # try iqr\n",
    "    \n",
    "    is_outlier_df = (dist_df < (mean_distdf - check_sigma / 2 * sig_distdf)) | (dist_df > (mean_distdf + check_sigma / 2 * sig_distdf))\n",
    "    row_has_an_outlier = is_outlier_df.all(axis=1) # far away from ALL other classes!\n",
    "    current_metric_outliers_df = dist_df.loc[row_has_an_outlier] \n",
    "    \n",
    "    # Record which metric flagged which SNID\n",
    "    for snid_val in current_metric_outliers_df.index:\n",
    "        outlier_info_by_snid.setdefault(snid_val, []).append(metric_str)\n",
    "            \n",
    "    current_metric_outliers_df.to_csv(os.path.join(f\"{locpath}/outliers.csv\"))"
   ]
  },
  {
   "cell_type": "code",
   "execution_count": 13,
   "id": "468182a1-364c-4667-a933-18ce03778af2",
   "metadata": {
    "execution": {
     "iopub.execute_input": "2025-05-14T02:54:46.561702Z",
     "iopub.status.busy": "2025-05-14T02:54:46.561481Z",
     "iopub.status.idle": "2025-05-14T02:54:46.570395Z",
     "shell.execute_reply": "2025-05-14T02:54:46.569364Z",
     "shell.execute_reply.started": "2025-05-14T02:54:46.561590Z"
    }
   },
   "outputs": [],
   "source": [
    "# Convert the dictionary of outlier information to a DataFrame\n",
    "records = []\n",
    "for snid_val, metrics_list in outlier_info_by_snid.items():\n",
    "    records.append({'snid': snid_val, \n",
    "                    'flagged_by_metrics': metrics_list, \n",
    "                    'num_flagging_metrics': len(metrics_list)})"
   ]
  },
  {
   "cell_type": "code",
   "execution_count": 14,
   "id": "f7ab99ae-a41a-4340-a133-d32dccc8403c",
   "metadata": {
    "execution": {
     "iopub.execute_input": "2025-05-14T02:54:46.575551Z",
     "iopub.status.busy": "2025-05-14T02:54:46.574773Z",
     "iopub.status.idle": "2025-05-14T02:54:46.593045Z",
     "shell.execute_reply": "2025-05-14T02:54:46.592607Z",
     "shell.execute_reply.started": "2025-05-14T02:54:46.575534Z"
    }
   },
   "outputs": [],
   "source": [
    "snidflagged = pd.DataFrame(records)\n",
    "# Sort by the number of flagging metrics (descending), then by snid (ascending for tie-breaking)\n",
    "snidflagged = snidflagged.sort_values(\n",
    "    by=['num_flagging_metrics', 'snid'], \n",
    "    ascending=[False, True]\n",
    ").reset_index(drop=True)"
   ]
  },
  {
   "cell_type": "code",
   "execution_count": 15,
   "id": "f7a44e51-6937-43bb-b552-50cf033aac74",
   "metadata": {
    "execution": {
     "iopub.execute_input": "2025-05-14T02:54:46.593719Z",
     "iopub.status.busy": "2025-05-14T02:54:46.593626Z",
     "iopub.status.idle": "2025-05-14T02:54:46.605207Z",
     "shell.execute_reply": "2025-05-14T02:54:46.604915Z",
     "shell.execute_reply.started": "2025-05-14T02:54:46.593711Z"
    }
   },
   "outputs": [],
   "source": [
    "records = []\n",
    "for snid_val, metrics_list in outlier_info_by_snid.items():\n",
    "    records.append({'snid': snid_val, \n",
    "                    'flagged_by_metrics': metrics_list, \n",
    "                    'num_flagging_metrics': len(metrics_list)})\n",
    "\n",
    "# Define expected columns to handle empty 'records' gracefully without an if/else\n",
    "snidflagged_columns = ['snid', 'flagged_by_metrics', 'num_flagging_metrics']\n",
    "snidflagged = pd.DataFrame(records, columns=snidflagged_columns)\n",
    "\n",
    "# Add 'class' column from the 'temp' DataFrame.\n",
    "# Assumes 'temp' is indexed by SNID and has a 'target' column for class labels.\n",
    "# Adjust temp['target'] if your class column in 'temp' has a different name,\n",
    "# or if class information is directly in the 'y' Series (e.g., using y.loc[snid_val] or snidflagged['snid'].map(y)).\n",
    "snidflagged['class'] = snidflagged['snid'].map(y_df)\n",
    "\n",
    "# Reorder columns for better readability\n",
    "# Ensure 'class' is included, handling the case where it might not have been successfully added\n",
    "final_columns = ['snid', 'class', 'num_flagging_metrics', 'flagged_by_metrics']\n",
    "snidflagged = snidflagged.reindex(columns=final_columns)\n",
    "\n",
    "\n",
    "# Sort by the number of flagging metrics (descending), then by snid (ascending for tie-breaking)\n",
    "# This will work even if snidflagged is empty.\n",
    "snidflagged = snidflagged.sort_values(\n",
    "    by=['num_flagging_metrics', 'snid'], \n",
    "    ascending=[False, True]\n",
    ").reset_index(drop=True)"
   ]
  },
  {
   "cell_type": "code",
   "execution_count": 16,
   "id": "cd5701ca-3de2-4dcc-8e4c-fda94fce8501",
   "metadata": {
    "execution": {
     "iopub.execute_input": "2025-05-14T02:54:46.605875Z",
     "iopub.status.busy": "2025-05-14T02:54:46.605648Z",
     "iopub.status.idle": "2025-05-14T02:54:46.611860Z",
     "shell.execute_reply": "2025-05-14T02:54:46.611323Z",
     "shell.execute_reply.started": "2025-05-14T02:54:46.605831Z"
    }
   },
   "outputs": [
    {
     "data": {
      "text/plain": [
       "class\n",
       "EB     589\n",
       "RRL      4\n",
       "Name: count, dtype: int64"
      ]
     },
     "execution_count": 16,
     "metadata": {},
     "output_type": "execute_result"
    }
   ],
   "source": [
    "snidflagged[\"class\"].value_counts()"
   ]
  },
  {
   "cell_type": "code",
   "execution_count": 17,
   "id": "9853e3cb-bf52-4446-9caa-23371cbb800a",
   "metadata": {
    "execution": {
     "iopub.execute_input": "2025-05-14T02:54:46.612512Z",
     "iopub.status.busy": "2025-05-14T02:54:46.612415Z",
     "iopub.status.idle": "2025-05-14T02:54:46.620090Z",
     "shell.execute_reply": "2025-05-14T02:54:46.618494Z",
     "shell.execute_reply.started": "2025-05-14T02:54:46.612504Z"
    }
   },
   "outputs": [
    {
     "data": {
      "text/plain": [
       "0      127766505\n",
       "1        5296787\n",
       "2       18207054\n",
       "3       38692187\n",
       "4       49022322\n",
       "         ...    \n",
       "588    157792122\n",
       "589    157936243\n",
       "590    158910879\n",
       "591    159305664\n",
       "592    159446326\n",
       "Name: snid, Length: 593, dtype: int64"
      ]
     },
     "execution_count": 17,
     "metadata": {},
     "output_type": "execute_result"
    }
   ],
   "source": [
    "snidflagged[\"snid\"]"
   ]
  },
  {
   "cell_type": "code",
   "execution_count": 18,
   "id": "1cd99ab4-06d4-4907-8bc3-6243c9ca6914",
   "metadata": {
    "execution": {
     "iopub.execute_input": "2025-05-14T02:54:46.625262Z",
     "iopub.status.busy": "2025-05-14T02:54:46.624710Z",
     "iopub.status.idle": "2025-05-14T02:54:46.630927Z",
     "shell.execute_reply": "2025-05-14T02:54:46.630620Z",
     "shell.execute_reply.started": "2025-05-14T02:54:46.625248Z"
    }
   },
   "outputs": [
    {
     "data": {
      "text/plain": [
       "snid\n",
       "127766505    0.034483\n",
       "27985074     0.034483\n",
       "30194999     0.034483\n",
       "30284382     0.034483\n",
       "34843740     0.034483\n",
       "               ...   \n",
       "149093921    0.034483\n",
       "149617369    0.034483\n",
       "152403307    0.034483\n",
       "154230880    0.034483\n",
       "159446326    0.034483\n",
       "Name: count, Length: 593, dtype: float64"
      ]
     },
     "execution_count": 18,
     "metadata": {},
     "output_type": "execute_result"
    }
   ],
   "source": [
    "snidflagged[\"snid\"].value_counts() / len(all_metrics)\n",
    "# Percentage of metrics which flagged it as an outlier"
   ]
  },
  {
   "cell_type": "code",
   "execution_count": 19,
   "id": "0fdcf219-6273-44d2-8a01-2a6b4abe9fcf",
   "metadata": {
    "execution": {
     "iopub.execute_input": "2025-05-14T02:54:46.632818Z",
     "iopub.status.busy": "2025-05-14T02:54:46.632388Z",
     "iopub.status.idle": "2025-05-14T02:54:46.637622Z",
     "shell.execute_reply": "2025-05-14T02:54:46.637324Z",
     "shell.execute_reply.started": "2025-05-14T02:54:46.632807Z"
    },
    "scrolled": true
   },
   "outputs": [],
   "source": [
    "outlier_classes = X_df.loc[snidflagged[\"snid\"].to_numpy().ravel()]"
   ]
  },
  {
   "cell_type": "code",
   "execution_count": null,
   "id": "222a9270-c4f8-4e0e-9876-c1a08502e871",
   "metadata": {
    "execution": {
     "iopub.status.busy": "2025-05-14T02:39:48.582268Z",
     "iopub.status.idle": "2025-05-14T02:39:48.582371Z",
     "shell.execute_reply": "2025-05-14T02:39:48.582319Z",
     "shell.execute_reply.started": "2025-05-14T02:39:48.582315Z"
    },
    "scrolled": true
   },
   "outputs": [],
   "source": [
    "np.argwhere(outlier_classes==\"CEP\")"
   ]
  },
  {
   "cell_type": "code",
   "execution_count": null,
   "id": "c77262c2-6901-4068-9086-e6fd011f02c7",
   "metadata": {
    "execution": {
     "iopub.status.busy": "2025-05-14T02:39:48.582683Z",
     "iopub.status.idle": "2025-05-14T02:39:48.582866Z",
     "shell.execute_reply": "2025-05-14T02:39:48.582791Z",
     "shell.execute_reply.started": "2025-05-14T02:39:48.582786Z"
    }
   },
   "outputs": [],
   "source": [
    "snidflagged.iloc[61]"
   ]
  },
  {
   "cell_type": "markdown",
   "id": "e4ac18f2-070a-4eba-8887-ed49ce5b2768",
   "metadata": {},
   "source": [
    "---"
   ]
  },
  {
   "cell_type": "code",
   "execution_count": null,
   "id": "bdef4779-5ba1-42aa-937a-591ed740b458",
   "metadata": {
    "execution": {
     "iopub.status.busy": "2025-05-14T02:39:48.583737Z",
     "iopub.status.idle": "2025-05-14T02:39:48.583844Z",
     "shell.execute_reply": "2025-05-14T02:39:48.583791Z",
     "shell.execute_reply.started": "2025-05-14T02:39:48.583787Z"
    }
   },
   "outputs": [],
   "source": [
    "snid = 56961335"
   ]
  },
  {
   "cell_type": "code",
   "execution_count": null,
   "id": "1bb26e18-6220-44d4-915c-362838170a50",
   "metadata": {
    "execution": {
     "iopub.status.busy": "2025-05-14T02:39:48.584212Z",
     "iopub.status.idle": "2025-05-14T02:39:48.584362Z",
     "shell.execute_reply": "2025-05-14T02:39:48.584270Z",
     "shell.execute_reply.started": "2025-05-14T02:39:48.584265Z"
    }
   },
   "outputs": [],
   "source": [
    "lcdf = pd.read_parquet(\"data/Cepheid.parquet\")\n",
    "lcdf=lcdf.set_index(\"SNID\")"
   ]
  },
  {
   "cell_type": "code",
   "execution_count": null,
   "id": "0fe904dd-ddf8-41e0-a5ed-3bba4607ff8c",
   "metadata": {
    "execution": {
     "iopub.status.busy": "2025-05-14T02:39:48.584650Z",
     "iopub.status.idle": "2025-05-14T02:39:48.584764Z",
     "shell.execute_reply": "2025-05-14T02:39:48.584694Z",
     "shell.execute_reply.started": "2025-05-14T02:39:48.584690Z"
    }
   },
   "outputs": [],
   "source": [
    "def plot_lc(lcdf, snid):\n",
    "    chosen_df = lcdf.loc[snid]\n",
    "    cols = [\"MJD\", \"FLUXCAL\", \"FLUXCALERR\", \"BAND\", \"PHOTFLAG\", \"ZEROPT\"]\n",
    "    dat = []\n",
    "    for col in cols:\n",
    "        if col in cols:\n",
    "            dat.append(chosen_df.loc[col])\n",
    "    dat = np.array(dat).T\n",
    "    lc = pd.DataFrame(data=dat,columns=cols).sort_values(by=\"MJD\")\n",
    "\n",
    "    for band in \"ugrizY\":\n",
    "        lc_band = lc[lc[\"BAND\"] == band]\n",
    "        plt.errorbar(\n",
    "            x=lc_band[\"MJD\"],\n",
    "            y=lc_band[\"FLUXCAL\"],\n",
    "            yerr=lc_band[\"FLUXCALERR\"],\n",
    "            fmt=\"o\",\n",
    "            label=f\"{band}\",\n",
    "        )\n",
    "    plt.xlabel(\"Time (in days)\")\n",
    "    plt.ylabel(\"Brightness (flux)\")\n",
    "    plt.legend()\n",
    "    # plt.title(f\"OID {objid} ({cur_cl})\")\n",
    "    # plt.xlim(peak_mjd - 40, peak_mjd + 90)\n",
    "    # plt.grid()\n",
    "    # plt.savefig(\"rawlc_crop.pdf\", bbox_inches=\"tight\")\n",
    "    plt.show()"
   ]
  },
  {
   "cell_type": "code",
   "execution_count": null,
   "id": "d258d0f3-62e2-4fce-baeb-dd629fd980f3",
   "metadata": {
    "execution": {
     "iopub.status.busy": "2025-05-14T02:39:48.585168Z",
     "iopub.status.idle": "2025-05-14T02:39:48.585261Z",
     "shell.execute_reply": "2025-05-14T02:39:48.585211Z",
     "shell.execute_reply.started": "2025-05-14T02:39:48.585206Z"
    }
   },
   "outputs": [],
   "source": [
    "plot_lc(lcdf,56961335)"
   ]
  }
 ],
 "metadata": {
  "kernelspec": {
   "display_name": "Python 3 (ipykernel)",
   "language": "python",
   "name": "python3"
  },
  "language_info": {
   "codemirror_mode": {
    "name": "ipython",
    "version": 3
   },
   "file_extension": ".py",
   "mimetype": "text/x-python",
   "name": "python",
   "nbconvert_exporter": "python",
   "pygments_lexer": "ipython3",
   "version": "3.12.4"
  }
 },
 "nbformat": 4,
 "nbformat_minor": 5
}
