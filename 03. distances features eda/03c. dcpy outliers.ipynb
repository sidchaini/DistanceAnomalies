{
 "cells": [
  {
   "cell_type": "markdown",
   "id": "8efde3ec-e51f-4317-9da4-2d29f46cc19c",
   "metadata": {},
   "source": [
    "### 0. Setup"
   ]
  },
  {
   "cell_type": "code",
   "execution_count": 1,
   "id": "c292389c-318b-4b6a-abec-725676e8e20c",
   "metadata": {
    "execution": {
     "iopub.execute_input": "2025-05-14T16:20:05.302233Z",
     "iopub.status.busy": "2025-05-14T16:20:05.301912Z",
     "iopub.status.idle": "2025-05-14T16:20:06.721900Z",
     "shell.execute_reply": "2025-05-14T16:20:06.721615Z",
     "shell.execute_reply.started": "2025-05-14T16:20:05.302211Z"
    }
   },
   "outputs": [],
   "source": [
    "import numpy as np\n",
    "import pandas as pd\n",
    "import matplotlib.pyplot as plt\n",
    "import seaborn as sns\n",
    "import json\n",
    "import os\n",
    "\n",
    "os.chdir(\"../\")\n",
    "from scripts import utils\n",
    "from pathlib import Path\n",
    "import matplotlib.gridspec as gridspec\n",
    "from tqdm.auto import tqdm"
   ]
  },
  {
   "cell_type": "code",
   "execution_count": 2,
   "id": "4360e430-b6bc-4ad2-8d02-c67526ebb658",
   "metadata": {
    "execution": {
     "iopub.execute_input": "2025-05-14T16:20:06.722824Z",
     "iopub.status.busy": "2025-05-14T16:20:06.722474Z",
     "iopub.status.idle": "2025-05-14T16:20:06.724773Z",
     "shell.execute_reply": "2025-05-14T16:20:06.724371Z",
     "shell.execute_reply.started": "2025-05-14T16:20:06.722811Z"
    }
   },
   "outputs": [],
   "source": [
    "import warnings\n",
    "\n",
    "warnings.filterwarnings(\"ignore\", category=FutureWarning)"
   ]
  },
  {
   "cell_type": "code",
   "execution_count": 3,
   "id": "8a7be1a9-9ecd-4211-91f1-37aca1ed9698",
   "metadata": {
    "execution": {
     "iopub.execute_input": "2025-05-14T16:20:06.725673Z",
     "iopub.status.busy": "2025-05-14T16:20:06.725575Z",
     "iopub.status.idle": "2025-05-14T16:20:07.215803Z",
     "shell.execute_reply": "2025-05-14T16:20:07.215475Z",
     "shell.execute_reply.started": "2025-05-14T16:20:06.725661Z"
    }
   },
   "outputs": [],
   "source": [
    "from mlxtend.evaluate import feature_importance_permutation\n",
    "from mlxtend.plotting import plot_sequential_feature_selection as plot_sfs\n",
    "from sklearn.utils.estimator_checks import check_estimator\n",
    "from mlxtend.feature_selection import (\n",
    "    SequentialFeatureSelector,\n",
    ")\n",
    "from sklearn.model_selection import cross_val_predict, train_test_split\n",
    "from sklearn.metrics import accuracy_score, f1_score, matthews_corrcoef\n",
    "import matplotlib.ticker as ticker\n",
    "import distclassipy as dcpy"
   ]
  },
  {
   "cell_type": "code",
   "execution_count": 4,
   "id": "5ef54ddc-609f-4a3f-ba6a-99a19e8f8021",
   "metadata": {
    "execution": {
     "iopub.execute_input": "2025-05-14T16:20:07.216473Z",
     "iopub.status.busy": "2025-05-14T16:20:07.216335Z",
     "iopub.status.idle": "2025-05-14T16:20:07.219309Z",
     "shell.execute_reply": "2025-05-14T16:20:07.219037Z",
     "shell.execute_reply.started": "2025-05-14T16:20:07.216463Z"
    }
   },
   "outputs": [],
   "source": [
    "with open(\"settings.txt\") as f:\n",
    "    settings_dict = json.load(f)\n",
    "seed_val = settings_dict[\"seed_choice\"]\n",
    "np.random.seed(seed_val)\n",
    "sns_dict = settings_dict[\"sns_dict\"]\n",
    "sns.set_theme(**sns_dict)"
   ]
  },
  {
   "cell_type": "code",
   "execution_count": 5,
   "id": "b2b42b7c-7024-460a-a89f-813ee8361c22",
   "metadata": {
    "execution": {
     "iopub.execute_input": "2025-05-14T16:20:07.219896Z",
     "iopub.status.busy": "2025-05-14T16:20:07.219766Z",
     "iopub.status.idle": "2025-05-14T16:20:07.221408Z",
     "shell.execute_reply": "2025-05-14T16:20:07.221166Z",
     "shell.execute_reply.started": "2025-05-14T16:20:07.219886Z"
    }
   },
   "outputs": [],
   "source": [
    "all_metrics = settings_dict[\"all_metrics\"]"
   ]
  },
  {
   "cell_type": "code",
   "execution_count": 6,
   "id": "1a86a21f-2c92-473d-80ee-96e207d9f5d2",
   "metadata": {
    "execution": {
     "iopub.execute_input": "2025-05-14T16:20:07.225777Z",
     "iopub.status.busy": "2025-05-14T16:20:07.225511Z",
     "iopub.status.idle": "2025-05-14T16:20:07.329686Z",
     "shell.execute_reply": "2025-05-14T16:20:07.329396Z",
     "shell.execute_reply.started": "2025-05-14T16:20:07.225762Z"
    }
   },
   "outputs": [
    {
     "data": {
      "text/plain": [
       "class\n",
       "CEP     683\n",
       "DSCT    683\n",
       "EB      683\n",
       "RRL     683\n",
       "Name: count, dtype: int64"
      ]
     },
     "execution_count": 6,
     "metadata": {},
     "output_type": "execute_result"
    }
   ],
   "source": [
    "features = pd.read_parquet(\"data/reduced_balancedfeatures_LATEST.parquet\")\n",
    "features[\"class\"].value_counts()"
   ]
  },
  {
   "cell_type": "code",
   "execution_count": 7,
   "id": "a533fe64-38f4-4dd3-96d1-25b17e94e494",
   "metadata": {
    "execution": {
     "iopub.execute_input": "2025-05-14T16:20:07.330312Z",
     "iopub.status.busy": "2025-05-14T16:20:07.330210Z",
     "iopub.status.idle": "2025-05-14T16:20:07.334510Z",
     "shell.execute_reply": "2025-05-14T16:20:07.333609Z",
     "shell.execute_reply.started": "2025-05-14T16:20:07.330304Z"
    }
   },
   "outputs": [],
   "source": [
    "features = features.sample(frac=1)"
   ]
  },
  {
   "cell_type": "code",
   "execution_count": 8,
   "id": "31293a35-badc-4128-9576-d294b46cf480",
   "metadata": {
    "execution": {
     "iopub.execute_input": "2025-05-14T16:20:07.335326Z",
     "iopub.status.busy": "2025-05-14T16:20:07.335229Z",
     "iopub.status.idle": "2025-05-14T16:20:07.341211Z",
     "shell.execute_reply": "2025-05-14T16:20:07.339750Z",
     "shell.execute_reply.started": "2025-05-14T16:20:07.335318Z"
    }
   },
   "outputs": [],
   "source": [
    "y_df = features[\"class\"]\n",
    "X_df = features.drop([\"Coordinate_x\", \"Coordinate_y\", \"Coordinate_z\", \"class\"], axis=1)"
   ]
  },
  {
   "cell_type": "code",
   "execution_count": 9,
   "id": "186a33d7-08fc-41c6-ac57-4ea806d42616",
   "metadata": {
    "execution": {
     "iopub.execute_input": "2025-05-14T16:20:07.342875Z",
     "iopub.status.busy": "2025-05-14T16:20:07.342698Z",
     "iopub.status.idle": "2025-05-14T16:20:07.345255Z",
     "shell.execute_reply": "2025-05-14T16:20:07.344810Z",
     "shell.execute_reply.started": "2025-05-14T16:20:07.342862Z"
    }
   },
   "outputs": [],
   "source": [
    "y = y_df.to_numpy()\n",
    "X = X_df.to_numpy()"
   ]
  },
  {
   "cell_type": "markdown",
   "id": "990c4a6a-d1ad-4365-8b5e-fbc5247ce67f",
   "metadata": {},
   "source": [
    "### 1. Isolation Forest"
   ]
  },
  {
   "cell_type": "code",
   "execution_count": 10,
   "id": "2e694bdd-192c-4602-b4e9-960955f82c2b",
   "metadata": {
    "execution": {
     "iopub.execute_input": "2025-05-14T16:20:07.345738Z",
     "iopub.status.busy": "2025-05-14T16:20:07.345645Z",
     "iopub.status.idle": "2025-05-14T16:20:07.349162Z",
     "shell.execute_reply": "2025-05-14T16:20:07.348112Z",
     "shell.execute_reply.started": "2025-05-14T16:20:07.345730Z"
    }
   },
   "outputs": [],
   "source": [
    "from sklearn.ensemble import IsolationForest\n",
    "from scipy import stats"
   ]
  },
  {
   "cell_type": "code",
   "execution_count": 11,
   "id": "82fe3778-bbe2-4bbd-b958-6491aac274b1",
   "metadata": {
    "execution": {
     "iopub.execute_input": "2025-05-14T16:20:07.350139Z",
     "iopub.status.busy": "2025-05-14T16:20:07.349829Z",
     "iopub.status.idle": "2025-05-14T16:20:07.450421Z",
     "shell.execute_reply": "2025-05-14T16:20:07.449925Z",
     "shell.execute_reply.started": "2025-05-14T16:20:07.350126Z"
    }
   },
   "outputs": [],
   "source": [
    "clf = IsolationForest(max_samples=100, contamination=0.1, random_state=100)\n",
    "clf.fit(X) #, sample_weight=1.0/(Xfixed[:,2,:])**2)\n",
    "scores_pred_Norm = clf.decision_function(X)\n",
    "#scores_pred_Norm = clf.score_samples(X)\n",
    "#.sample_score(X)\n",
    "\n",
    "threshold_Norm  = stats.scoreatpercentile(scores_pred_Norm ,100 * 0.1)\n",
    "y_predNorm = clf.predict(X)"
   ]
  },
  {
   "cell_type": "code",
   "execution_count": 12,
   "id": "ba577acf-ce6b-4e9c-a1f8-1bbcd0a5de59",
   "metadata": {
    "execution": {
     "iopub.execute_input": "2025-05-14T16:20:07.450963Z",
     "iopub.status.busy": "2025-05-14T16:20:07.450869Z",
     "iopub.status.idle": "2025-05-14T16:20:07.457676Z",
     "shell.execute_reply": "2025-05-14T16:20:07.456698Z",
     "shell.execute_reply.started": "2025-05-14T16:20:07.450954Z"
    }
   },
   "outputs": [],
   "source": [
    "abornmality = -scores_pred_Norm\n",
    "iforest_df = pd.DataFrame(abornmality, columns=[\"abnormality\"]) # higher is more abnormal\n",
    "iforest_df.index.name = \"sample_num\"\n",
    "iforest_df=iforest_df.sort_values(by=\"abnormality\", ascending=False)"
   ]
  },
  {
   "cell_type": "code",
   "execution_count": 13,
   "id": "a2b27678-c38b-433b-909f-91c6a19b0411",
   "metadata": {
    "execution": {
     "iopub.execute_input": "2025-05-14T16:20:07.458455Z",
     "iopub.status.busy": "2025-05-14T16:20:07.458274Z",
     "iopub.status.idle": "2025-05-14T16:20:07.466812Z",
     "shell.execute_reply": "2025-05-14T16:20:07.466457Z",
     "shell.execute_reply.started": "2025-05-14T16:20:07.458444Z"
    }
   },
   "outputs": [
    {
     "data": {
      "text/html": [
       "<div>\n",
       "<style scoped>\n",
       "    .dataframe tbody tr th:only-of-type {\n",
       "        vertical-align: middle;\n",
       "    }\n",
       "\n",
       "    .dataframe tbody tr th {\n",
       "        vertical-align: top;\n",
       "    }\n",
       "\n",
       "    .dataframe thead th {\n",
       "        text-align: right;\n",
       "    }\n",
       "</style>\n",
       "<table border=\"1\" class=\"dataframe\">\n",
       "  <thead>\n",
       "    <tr style=\"text-align: right;\">\n",
       "      <th></th>\n",
       "      <th>abnormality</th>\n",
       "    </tr>\n",
       "    <tr>\n",
       "      <th>sample_num</th>\n",
       "      <th></th>\n",
       "    </tr>\n",
       "  </thead>\n",
       "  <tbody>\n",
       "    <tr>\n",
       "      <th>817</th>\n",
       "      <td>0.146213</td>\n",
       "    </tr>\n",
       "    <tr>\n",
       "      <th>2157</th>\n",
       "      <td>0.138299</td>\n",
       "    </tr>\n",
       "    <tr>\n",
       "      <th>1969</th>\n",
       "      <td>0.128877</td>\n",
       "    </tr>\n",
       "    <tr>\n",
       "      <th>157</th>\n",
       "      <td>0.122814</td>\n",
       "    </tr>\n",
       "    <tr>\n",
       "      <th>2543</th>\n",
       "      <td>0.118233</td>\n",
       "    </tr>\n",
       "    <tr>\n",
       "      <th>...</th>\n",
       "      <td>...</td>\n",
       "    </tr>\n",
       "    <tr>\n",
       "      <th>1220</th>\n",
       "      <td>-0.135107</td>\n",
       "    </tr>\n",
       "    <tr>\n",
       "      <th>1320</th>\n",
       "      <td>-0.135398</td>\n",
       "    </tr>\n",
       "    <tr>\n",
       "      <th>1806</th>\n",
       "      <td>-0.135956</td>\n",
       "    </tr>\n",
       "    <tr>\n",
       "      <th>1540</th>\n",
       "      <td>-0.136520</td>\n",
       "    </tr>\n",
       "    <tr>\n",
       "      <th>1289</th>\n",
       "      <td>-0.138272</td>\n",
       "    </tr>\n",
       "  </tbody>\n",
       "</table>\n",
       "<p>2732 rows × 1 columns</p>\n",
       "</div>"
      ],
      "text/plain": [
       "            abnormality\n",
       "sample_num             \n",
       "817            0.146213\n",
       "2157           0.138299\n",
       "1969           0.128877\n",
       "157            0.122814\n",
       "2543           0.118233\n",
       "...                 ...\n",
       "1220          -0.135107\n",
       "1320          -0.135398\n",
       "1806          -0.135956\n",
       "1540          -0.136520\n",
       "1289          -0.138272\n",
       "\n",
       "[2732 rows x 1 columns]"
      ]
     },
     "execution_count": 13,
     "metadata": {},
     "output_type": "execute_result"
    }
   ],
   "source": [
    "iforest_df"
   ]
  },
  {
   "cell_type": "code",
   "execution_count": 14,
   "id": "00c0ee2e-fe81-407a-a2cd-ef13f82800c4",
   "metadata": {
    "execution": {
     "iopub.execute_input": "2025-05-14T16:20:07.467475Z",
     "iopub.status.busy": "2025-05-14T16:20:07.467386Z",
     "iopub.status.idle": "2025-05-14T16:20:07.603695Z",
     "shell.execute_reply": "2025-05-14T16:20:07.601993Z",
     "shell.execute_reply.started": "2025-05-14T16:20:07.467467Z"
    }
   },
   "outputs": [
    {
     "data": {
      "image/png": "[encoded data removed]",
      "text/plain": [
       "<Figure size 640x480 with 1 Axes>"
      ]
     },
     "metadata": {},
     "output_type": "display_data"
    }
   ],
   "source": [
    "sns.histplot(iforest_df)\n",
    "plt.axvline(x=0, color=\"red\",label=\"outlier boundary\")\n",
    "plt.show()"
   ]
  },
  {
   "cell_type": "markdown",
   "id": "8245a4d7-dced-4ad2-a3bc-ddcd8f6acd8c",
   "metadata": {},
   "source": [
    "### 2. Single DCPY Mean Distance"
   ]
  },
  {
   "cell_type": "code",
   "execution_count": 15,
   "id": "e032fbbf-59b3-4df5-8de3-8f61bf55ff06",
   "metadata": {
    "execution": {
     "iopub.execute_input": "2025-05-14T16:20:07.605105Z",
     "iopub.status.busy": "2025-05-14T16:20:07.604991Z",
     "iopub.status.idle": "2025-05-14T16:20:07.641737Z",
     "shell.execute_reply": "2025-05-14T16:20:07.640748Z",
     "shell.execute_reply.started": "2025-05-14T16:20:07.605096Z"
    }
   },
   "outputs": [
    {
     "data": {
      "text/html": [
       "<style>#sk-container-id-1 {\n",
       "  /* Definition of color scheme common for light and dark mode */\n",
       "  --sklearn-color-text: #000;\n",
       "  --sklearn-color-text-muted: #666;\n",
       "  --sklearn-color-line: gray;\n",
       "  /* Definition of color scheme for unfitted estimators */\n",
       "  --sklearn-color-unfitted-level-0: #fff5e6;\n",
       "  --sklearn-color-unfitted-level-1: #f6e4d2;\n",
       "  --sklearn-color-unfitted-level-2: #ffe0b3;\n",
       "  --sklearn-color-unfitted-level-3: chocolate;\n",
       "  /* Definition of color scheme for fitted estimators */\n",
       "  --sklearn-color-fitted-level-0: #f0f8ff;\n",
       "  --sklearn-color-fitted-level-1: #d4ebff;\n",
       "  --sklearn-color-fitted-level-2: #b3dbfd;\n",
       "  --sklearn-color-fitted-level-3: cornflowerblue;\n",
       "\n",
       "  /* Specific color for light theme */\n",
       "  --sklearn-color-text-on-default-background: var(--sg-text-color, var(--theme-code-foreground, var(--jp-content-font-color1, black)));\n",
       "  --sklearn-color-background: var(--sg-background-color, var(--theme-background, var(--jp-layout-color0, white)));\n",
       "  --sklearn-color-border-box: var(--sg-text-color, var(--theme-code-foreground, var(--jp-content-font-color1, black)));\n",
       "  --sklearn-color-icon: #696969;\n",
       "\n",
       "  @media (prefers-color-scheme: dark) {\n",
       "    /* Redefinition of color scheme for dark theme */\n",
       "    --sklearn-color-text-on-default-background: var(--sg-text-color, var(--theme-code-foreground, var(--jp-content-font-color1, white)));\n",
       "    --sklearn-color-background: var(--sg-background-color, var(--theme-background, var(--jp-layout-color0, #111)));\n",
       "    --sklearn-color-border-box: var(--sg-text-color, var(--theme-code-foreground, var(--jp-content-font-color1, white)));\n",
       "    --sklearn-color-icon: #878787;\n",
       "  }\n",
       "}\n",
       "\n",
       "#sk-container-id-1 {\n",
       "  color: var(--sklearn-color-text);\n",
       "}\n",
       "\n",
       "#sk-container-id-1 pre {\n",
       "  padding: 0;\n",
       "}\n",
       "\n",
       "#sk-container-id-1 input.sk-hidden--visually {\n",
       "  border: 0;\n",
       "  clip: rect(1px 1px 1px 1px);\n",
       "  clip: rect(1px, 1px, 1px, 1px);\n",
       "  height: 1px;\n",
       "  margin: -1px;\n",
       "  overflow: hidden;\n",
       "  padding: 0;\n",
       "  position: absolute;\n",
       "  width: 1px;\n",
       "}\n",
       "\n",
       "#sk-container-id-1 div.sk-dashed-wrapped {\n",
       "  border: 1px dashed var(--sklearn-color-line);\n",
       "  margin: 0 0.4em 0.5em 0.4em;\n",
       "  box-sizing: border-box;\n",
       "  padding-bottom: 0.4em;\n",
       "  background-color: var(--sklearn-color-background);\n",
       "}\n",
       "\n",
       "#sk-container-id-1 div.sk-container {\n",
       "  /* jupyter's `normalize.less` sets `[hidden] { display: none; }`\n",
       "     but bootstrap.min.css set `[hidden] { display: none !important; }`\n",
       "     so we also need the `!important` here to be able to override the\n",
       "     default hidden behavior on the sphinx rendered scikit-learn.org.\n",
       "     See: https://github.com/scikit-learn/scikit-learn/issues/21755 */\n",
       "  display: inline-block !important;\n",
       "  position: relative;\n",
       "}\n",
       "\n",
       "#sk-container-id-1 div.sk-text-repr-fallback {\n",
       "  display: none;\n",
       "}\n",
       "\n",
       "div.sk-parallel-item,\n",
       "div.sk-serial,\n",
       "div.sk-item {\n",
       "  /* draw centered vertical line to link estimators */\n",
       "  background-image: linear-gradient(var(--sklearn-color-text-on-default-background), var(--sklearn-color-text-on-default-background));\n",
       "  background-size: 2px 100%;\n",
       "  background-repeat: no-repeat;\n",
       "  background-position: center center;\n",
       "}\n",
       "\n",
       "/* Parallel-specific style estimator block */\n",
       "\n",
       "#sk-container-id-1 div.sk-parallel-item::after {\n",
       "  content: \"\";\n",
       "  width: 100%;\n",
       "  border-bottom: 2px solid var(--sklearn-color-text-on-default-background);\n",
       "  flex-grow: 1;\n",
       "}\n",
       "\n",
       "#sk-container-id-1 div.sk-parallel {\n",
       "  display: flex;\n",
       "  align-items: stretch;\n",
       "  justify-content: center;\n",
       "  background-color: var(--sklearn-color-background);\n",
       "  position: relative;\n",
       "}\n",
       "\n",
       "#sk-container-id-1 div.sk-parallel-item {\n",
       "  display: flex;\n",
       "  flex-direction: column;\n",
       "}\n",
       "\n",
       "#sk-container-id-1 div.sk-parallel-item:first-child::after {\n",
       "  align-self: flex-end;\n",
       "  width: 50%;\n",
       "}\n",
       "\n",
       "#sk-container-id-1 div.sk-parallel-item:last-child::after {\n",
       "  align-self: flex-start;\n",
       "  width: 50%;\n",
       "}\n",
       "\n",
       "#sk-container-id-1 div.sk-parallel-item:only-child::after {\n",
       "  width: 0;\n",
       "}\n",
       "\n",
       "/* Serial-specific style estimator block */\n",
       "\n",
       "#sk-container-id-1 div.sk-serial {\n",
       "  display: flex;\n",
       "  flex-direction: column;\n",
       "  align-items: center;\n",
       "  background-color: var(--sklearn-color-background);\n",
       "  padding-right: 1em;\n",
       "  padding-left: 1em;\n",
       "}\n",
       "\n",
       "\n",
       "/* Toggleable style: style used for estimator/Pipeline/ColumnTransformer box that is\n",
       "clickable and can be expanded/collapsed.\n",
       "- Pipeline and ColumnTransformer use this feature and define the default style\n",
       "- Estimators will overwrite some part of the style using the `sk-estimator` class\n",
       "*/\n",
       "\n",
       "/* Pipeline and ColumnTransformer style (default) */\n",
       "\n",
       "#sk-container-id-1 div.sk-toggleable {\n",
       "  /* Default theme specific background. It is overwritten whether we have a\n",
       "  specific estimator or a Pipeline/ColumnTransformer */\n",
       "  background-color: var(--sklearn-color-background);\n",
       "}\n",
       "\n",
       "/* Toggleable label */\n",
       "#sk-container-id-1 label.sk-toggleable__label {\n",
       "  cursor: pointer;\n",
       "  display: flex;\n",
       "  width: 100%;\n",
       "  margin-bottom: 0;\n",
       "  padding: 0.5em;\n",
       "  box-sizing: border-box;\n",
       "  text-align: center;\n",
       "  align-items: start;\n",
       "  justify-content: space-between;\n",
       "  gap: 0.5em;\n",
       "}\n",
       "\n",
       "#sk-container-id-1 label.sk-toggleable__label .caption {\n",
       "  font-size: 0.6rem;\n",
       "  font-weight: lighter;\n",
       "  color: var(--sklearn-color-text-muted);\n",
       "}\n",
       "\n",
       "#sk-container-id-1 label.sk-toggleable__label-arrow:before {\n",
       "  /* Arrow on the left of the label */\n",
       "  content: \"▸\";\n",
       "  float: left;\n",
       "  margin-right: 0.25em;\n",
       "  color: var(--sklearn-color-icon);\n",
       "}\n",
       "\n",
       "#sk-container-id-1 label.sk-toggleable__label-arrow:hover:before {\n",
       "  color: var(--sklearn-color-text);\n",
       "}\n",
       "\n",
       "/* Toggleable content - dropdown */\n",
       "\n",
       "#sk-container-id-1 div.sk-toggleable__content {\n",
       "  max-height: 0;\n",
       "  max-width: 0;\n",
       "  overflow: hidden;\n",
       "  text-align: left;\n",
       "  /* unfitted */\n",
       "  background-color: var(--sklearn-color-unfitted-level-0);\n",
       "}\n",
       "\n",
       "#sk-container-id-1 div.sk-toggleable__content.fitted {\n",
       "  /* fitted */\n",
       "  background-color: var(--sklearn-color-fitted-level-0);\n",
       "}\n",
       "\n",
       "#sk-container-id-1 div.sk-toggleable__content pre {\n",
       "  margin: 0.2em;\n",
       "  border-radius: 0.25em;\n",
       "  color: var(--sklearn-color-text);\n",
       "  /* unfitted */\n",
       "  background-color: var(--sklearn-color-unfitted-level-0);\n",
       "}\n",
       "\n",
       "#sk-container-id-1 div.sk-toggleable__content.fitted pre {\n",
       "  /* unfitted */\n",
       "  background-color: var(--sklearn-color-fitted-level-0);\n",
       "}\n",
       "\n",
       "#sk-container-id-1 input.sk-toggleable__control:checked~div.sk-toggleable__content {\n",
       "  /* Expand drop-down */\n",
       "  max-height: 200px;\n",
       "  max-width: 100%;\n",
       "  overflow: auto;\n",
       "}\n",
       "\n",
       "#sk-container-id-1 input.sk-toggleable__control:checked~label.sk-toggleable__label-arrow:before {\n",
       "  content: \"▾\";\n",
       "}\n",
       "\n",
       "/* Pipeline/ColumnTransformer-specific style */\n",
       "\n",
       "#sk-container-id-1 div.sk-label input.sk-toggleable__control:checked~label.sk-toggleable__label {\n",
       "  color: var(--sklearn-color-text);\n",
       "  background-color: var(--sklearn-color-unfitted-level-2);\n",
       "}\n",
       "\n",
       "#sk-container-id-1 div.sk-label.fitted input.sk-toggleable__control:checked~label.sk-toggleable__label {\n",
       "  background-color: var(--sklearn-color-fitted-level-2);\n",
       "}\n",
       "\n",
       "/* Estimator-specific style */\n",
       "\n",
       "/* Colorize estimator box */\n",
       "#sk-container-id-1 div.sk-estimator input.sk-toggleable__control:checked~label.sk-toggleable__label {\n",
       "  /* unfitted */\n",
       "  background-color: var(--sklearn-color-unfitted-level-2);\n",
       "}\n",
       "\n",
       "#sk-container-id-1 div.sk-estimator.fitted input.sk-toggleable__control:checked~label.sk-toggleable__label {\n",
       "  /* fitted */\n",
       "  background-color: var(--sklearn-color-fitted-level-2);\n",
       "}\n",
       "\n",
       "#sk-container-id-1 div.sk-label label.sk-toggleable__label,\n",
       "#sk-container-id-1 div.sk-label label {\n",
       "  /* The background is the default theme color */\n",
       "  color: var(--sklearn-color-text-on-default-background);\n",
       "}\n",
       "\n",
       "/* On hover, darken the color of the background */\n",
       "#sk-container-id-1 div.sk-label:hover label.sk-toggleable__label {\n",
       "  color: var(--sklearn-color-text);\n",
       "  background-color: var(--sklearn-color-unfitted-level-2);\n",
       "}\n",
       "\n",
       "/* Label box, darken color on hover, fitted */\n",
       "#sk-container-id-1 div.sk-label.fitted:hover label.sk-toggleable__label.fitted {\n",
       "  color: var(--sklearn-color-text);\n",
       "  background-color: var(--sklearn-color-fitted-level-2);\n",
       "}\n",
       "\n",
       "/* Estimator label */\n",
       "\n",
       "#sk-container-id-1 div.sk-label label {\n",
       "  font-family: monospace;\n",
       "  font-weight: bold;\n",
       "  display: inline-block;\n",
       "  line-height: 1.2em;\n",
       "}\n",
       "\n",
       "#sk-container-id-1 div.sk-label-container {\n",
       "  text-align: center;\n",
       "}\n",
       "\n",
       "/* Estimator-specific */\n",
       "#sk-container-id-1 div.sk-estimator {\n",
       "  font-family: monospace;\n",
       "  border: 1px dotted var(--sklearn-color-border-box);\n",
       "  border-radius: 0.25em;\n",
       "  box-sizing: border-box;\n",
       "  margin-bottom: 0.5em;\n",
       "  /* unfitted */\n",
       "  background-color: var(--sklearn-color-unfitted-level-0);\n",
       "}\n",
       "\n",
       "#sk-container-id-1 div.sk-estimator.fitted {\n",
       "  /* fitted */\n",
       "  background-color: var(--sklearn-color-fitted-level-0);\n",
       "}\n",
       "\n",
       "/* on hover */\n",
       "#sk-container-id-1 div.sk-estimator:hover {\n",
       "  /* unfitted */\n",
       "  background-color: var(--sklearn-color-unfitted-level-2);\n",
       "}\n",
       "\n",
       "#sk-container-id-1 div.sk-estimator.fitted:hover {\n",
       "  /* fitted */\n",
       "  background-color: var(--sklearn-color-fitted-level-2);\n",
       "}\n",
       "\n",
       "/* Specification for estimator info (e.g. \"i\" and \"?\") */\n",
       "\n",
       "/* Common style for \"i\" and \"?\" */\n",
       "\n",
       ".sk-estimator-doc-link,\n",
       "a:link.sk-estimator-doc-link,\n",
       "a:visited.sk-estimator-doc-link {\n",
       "  float: right;\n",
       "  font-size: smaller;\n",
       "  line-height: 1em;\n",
       "  font-family: monospace;\n",
       "  background-color: var(--sklearn-color-background);\n",
       "  border-radius: 1em;\n",
       "  height: 1em;\n",
       "  width: 1em;\n",
       "  text-decoration: none !important;\n",
       "  margin-left: 0.5em;\n",
       "  text-align: center;\n",
       "  /* unfitted */\n",
       "  border: var(--sklearn-color-unfitted-level-1) 1pt solid;\n",
       "  color: var(--sklearn-color-unfitted-level-1);\n",
       "}\n",
       "\n",
       ".sk-estimator-doc-link.fitted,\n",
       "a:link.sk-estimator-doc-link.fitted,\n",
       "a:visited.sk-estimator-doc-link.fitted {\n",
       "  /* fitted */\n",
       "  border: var(--sklearn-color-fitted-level-1) 1pt solid;\n",
       "  color: var(--sklearn-color-fitted-level-1);\n",
       "}\n",
       "\n",
       "/* On hover */\n",
       "div.sk-estimator:hover .sk-estimator-doc-link:hover,\n",
       ".sk-estimator-doc-link:hover,\n",
       "div.sk-label-container:hover .sk-estimator-doc-link:hover,\n",
       ".sk-estimator-doc-link:hover {\n",
       "  /* unfitted */\n",
       "  background-color: var(--sklearn-color-unfitted-level-3);\n",
       "  color: var(--sklearn-color-background);\n",
       "  text-decoration: none;\n",
       "}\n",
       "\n",
       "div.sk-estimator.fitted:hover .sk-estimator-doc-link.fitted:hover,\n",
       ".sk-estimator-doc-link.fitted:hover,\n",
       "div.sk-label-container:hover .sk-estimator-doc-link.fitted:hover,\n",
       ".sk-estimator-doc-link.fitted:hover {\n",
       "  /* fitted */\n",
       "  background-color: var(--sklearn-color-fitted-level-3);\n",
       "  color: var(--sklearn-color-background);\n",
       "  text-decoration: none;\n",
       "}\n",
       "\n",
       "/* Span, style for the box shown on hovering the info icon */\n",
       ".sk-estimator-doc-link span {\n",
       "  display: none;\n",
       "  z-index: 9999;\n",
       "  position: relative;\n",
       "  font-weight: normal;\n",
       "  right: .2ex;\n",
       "  padding: .5ex;\n",
       "  margin: .5ex;\n",
       "  width: min-content;\n",
       "  min-width: 20ex;\n",
       "  max-width: 50ex;\n",
       "  color: var(--sklearn-color-text);\n",
       "  box-shadow: 2pt 2pt 4pt #999;\n",
       "  /* unfitted */\n",
       "  background: var(--sklearn-color-unfitted-level-0);\n",
       "  border: .5pt solid var(--sklearn-color-unfitted-level-3);\n",
       "}\n",
       "\n",
       ".sk-estimator-doc-link.fitted span {\n",
       "  /* fitted */\n",
       "  background: var(--sklearn-color-fitted-level-0);\n",
       "  border: var(--sklearn-color-fitted-level-3);\n",
       "}\n",
       "\n",
       ".sk-estimator-doc-link:hover span {\n",
       "  display: block;\n",
       "}\n",
       "\n",
       "/* \"?\"-specific style due to the `<a>` HTML tag */\n",
       "\n",
       "#sk-container-id-1 a.estimator_doc_link {\n",
       "  float: right;\n",
       "  font-size: 1rem;\n",
       "  line-height: 1em;\n",
       "  font-family: monospace;\n",
       "  background-color: var(--sklearn-color-background);\n",
       "  border-radius: 1rem;\n",
       "  height: 1rem;\n",
       "  width: 1rem;\n",
       "  text-decoration: none;\n",
       "  /* unfitted */\n",
       "  color: var(--sklearn-color-unfitted-level-1);\n",
       "  border: var(--sklearn-color-unfitted-level-1) 1pt solid;\n",
       "}\n",
       "\n",
       "#sk-container-id-1 a.estimator_doc_link.fitted {\n",
       "  /* fitted */\n",
       "  border: var(--sklearn-color-fitted-level-1) 1pt solid;\n",
       "  color: var(--sklearn-color-fitted-level-1);\n",
       "}\n",
       "\n",
       "/* On hover */\n",
       "#sk-container-id-1 a.estimator_doc_link:hover {\n",
       "  /* unfitted */\n",
       "  background-color: var(--sklearn-color-unfitted-level-3);\n",
       "  color: var(--sklearn-color-background);\n",
       "  text-decoration: none;\n",
       "}\n",
       "\n",
       "#sk-container-id-1 a.estimator_doc_link.fitted:hover {\n",
       "  /* fitted */\n",
       "  background-color: var(--sklearn-color-fitted-level-3);\n",
       "}\n",
       "</style><div id=\"sk-container-id-1\" class=\"sk-top-container\"><div class=\"sk-text-repr-fallback\"><pre>DistanceMetricClassifier()</pre><b>In a Jupyter environment, please rerun this cell to show the HTML representation or trust the notebook. <br />On GitHub, the HTML representation is unable to render, please try loading this page with nbviewer.org.</b></div><div class=\"sk-container\" hidden><div class=\"sk-item\"><div class=\"sk-estimator fitted sk-toggleable\"><input class=\"sk-toggleable__control sk-hidden--visually\" id=\"sk-estimator-id-1\" type=\"checkbox\" checked><label for=\"sk-estimator-id-1\" class=\"sk-toggleable__label fitted sk-toggleable__label-arrow\"><div><div>DistanceMetricClassifier</div></div><div><span class=\"sk-estimator-doc-link fitted\">i<span>Fitted</span></span></div></label><div class=\"sk-toggleable__content fitted\"><pre>DistanceMetricClassifier()</pre></div> </div></div></div></div>"
      ],
      "text/plain": [
       "DistanceMetricClassifier()"
      ]
     },
     "execution_count": 15,
     "metadata": {},
     "output_type": "execute_result"
    }
   ],
   "source": [
    "lcdc = dcpy.DistanceMetricClassifier(\n",
    "    scale=True,\n",
    "    central_stat=\"median\",\n",
    "    dispersion_stat=\"std\",\n",
    ")\n",
    "lcdc.fit(X,y)"
   ]
  },
  {
   "cell_type": "code",
   "execution_count": 16,
   "id": "d31ffe2e-06cc-43e8-abcf-c884c3234d1d",
   "metadata": {
    "execution": {
     "iopub.execute_input": "2025-05-14T16:20:07.643044Z",
     "iopub.status.busy": "2025-05-14T16:20:07.642776Z",
     "iopub.status.idle": "2025-05-14T16:20:07.680391Z",
     "shell.execute_reply": "2025-05-14T16:20:07.680039Z",
     "shell.execute_reply.started": "2025-05-14T16:20:07.643023Z"
    }
   },
   "outputs": [
    {
     "data": {
      "application/vnd.jupyter.widget-view+json": {
       "model_id": "087c93d87181420aba98cb60327cd814",
       "version_major": 2,
       "version_minor": 0
      },
      "text/plain": [
       "Metric:   0%|          | 0/18 [00:00<?, ?it/s]"
      ]
     },
     "metadata": {},
     "output_type": "display_data"
    }
   ],
   "source": [
    "for metric in tqdm(all_metrics, desc=\"Metric\", leave=True):\n",
    "    metric_str = utils.get_metric_name(metric)\n",
    "    _ = lcdc.predict_and_analyse(X, metric=metric)\n",
    "\n",
    "    dist_df = lcdc.centroid_dist_df_\n",
    "    break"
   ]
  },
  {
   "cell_type": "code",
   "execution_count": 17,
   "id": "be3aae09-f473-4607-b6f1-eea75ae8e2d2",
   "metadata": {
    "execution": {
     "iopub.execute_input": "2025-05-14T16:20:07.681206Z",
     "iopub.status.busy": "2025-05-14T16:20:07.681070Z",
     "iopub.status.idle": "2025-05-14T16:20:07.697009Z",
     "shell.execute_reply": "2025-05-14T16:20:07.696627Z",
     "shell.execute_reply.started": "2025-05-14T16:20:07.681196Z"
    }
   },
   "outputs": [],
   "source": [
    "dist_df['closest_distance'] = dist_df.min(axis=1)\n",
    "\n",
    "# standard scale w/mean?\n",
    "mean = dist_df['closest_distance'].mean()\n",
    "std  = dist_df['closest_distance'].std()\n",
    "dist_df['abnormality_mean'] = (dist_df['closest_distance'] - mean) / std\n",
    "\n",
    "# standard scale w/median?\n",
    "med = dist_df['closest_distance'].median()\n",
    "mad = stats.median_abs_deviation(dist_df['closest_distance'])\n",
    "dist_df['abnormality_median'] = (dist_df['closest_distance'] - med) / mad\n",
    "\n",
    "dist_df.index.name = \"sample_num\"\n",
    "dist_df=(dist_df.sort_values(by=\"abnormality_mean\",ascending=False))"
   ]
  },
  {
   "cell_type": "code",
   "execution_count": 18,
   "id": "afdf8d3e-89cd-4b04-8905-1d22e9eb35db",
   "metadata": {
    "execution": {
     "iopub.execute_input": "2025-05-14T16:20:07.698035Z",
     "iopub.status.busy": "2025-05-14T16:20:07.697891Z",
     "iopub.status.idle": "2025-05-14T16:20:07.708162Z",
     "shell.execute_reply": "2025-05-14T16:20:07.707676Z",
     "shell.execute_reply.started": "2025-05-14T16:20:07.698023Z"
    }
   },
   "outputs": [
    {
     "data": {
      "text/html": [
       "<div>\n",
       "<style scoped>\n",
       "    .dataframe tbody tr th:only-of-type {\n",
       "        vertical-align: middle;\n",
       "    }\n",
       "\n",
       "    .dataframe tbody tr th {\n",
       "        vertical-align: top;\n",
       "    }\n",
       "\n",
       "    .dataframe thead th {\n",
       "        text-align: right;\n",
       "    }\n",
       "</style>\n",
       "<table border=\"1\" class=\"dataframe\">\n",
       "  <thead>\n",
       "    <tr style=\"text-align: right;\">\n",
       "      <th></th>\n",
       "      <th>CEP_dist</th>\n",
       "      <th>DSCT_dist</th>\n",
       "      <th>EB_dist</th>\n",
       "      <th>RRL_dist</th>\n",
       "      <th>closest_distance</th>\n",
       "      <th>abnormality_mean</th>\n",
       "      <th>abnormality_median</th>\n",
       "    </tr>\n",
       "    <tr>\n",
       "      <th>sample_num</th>\n",
       "      <th></th>\n",
       "      <th></th>\n",
       "      <th></th>\n",
       "      <th></th>\n",
       "      <th></th>\n",
       "      <th></th>\n",
       "      <th></th>\n",
       "    </tr>\n",
       "  </thead>\n",
       "  <tbody>\n",
       "    <tr>\n",
       "      <th>1698</th>\n",
       "      <td>2.221283e+06</td>\n",
       "      <td>4.421163e+06</td>\n",
       "      <td>4.555621e+01</td>\n",
       "      <td>5.301515e+06</td>\n",
       "      <td>45.556213</td>\n",
       "      <td>13.357850</td>\n",
       "      <td>34.852994</td>\n",
       "    </tr>\n",
       "    <tr>\n",
       "      <th>1592</th>\n",
       "      <td>3.431627e+01</td>\n",
       "      <td>8.980047e+02</td>\n",
       "      <td>5.600783e+04</td>\n",
       "      <td>1.275726e+04</td>\n",
       "      <td>34.316274</td>\n",
       "      <td>9.352996</td>\n",
       "      <td>24.548565</td>\n",
       "    </tr>\n",
       "    <tr>\n",
       "      <th>1062</th>\n",
       "      <td>3.212941e+01</td>\n",
       "      <td>4.580644e+02</td>\n",
       "      <td>7.057781e+03</td>\n",
       "      <td>2.917023e+03</td>\n",
       "      <td>32.129409</td>\n",
       "      <td>8.573804</td>\n",
       "      <td>22.543715</td>\n",
       "    </tr>\n",
       "    <tr>\n",
       "      <th>568</th>\n",
       "      <td>3.241179e+01</td>\n",
       "      <td>6.444508e+01</td>\n",
       "      <td>2.663454e+02</td>\n",
       "      <td>3.044971e+01</td>\n",
       "      <td>30.449705</td>\n",
       "      <td>7.975316</td>\n",
       "      <td>21.003814</td>\n",
       "    </tr>\n",
       "    <tr>\n",
       "      <th>1242</th>\n",
       "      <td>3.188868e+05</td>\n",
       "      <td>4.514984e+02</td>\n",
       "      <td>5.016597e+07</td>\n",
       "      <td>2.977814e+01</td>\n",
       "      <td>29.778138</td>\n",
       "      <td>7.736033</td>\n",
       "      <td>20.388142</td>\n",
       "    </tr>\n",
       "    <tr>\n",
       "      <th>...</th>\n",
       "      <td>...</td>\n",
       "      <td>...</td>\n",
       "      <td>...</td>\n",
       "      <td>...</td>\n",
       "      <td>...</td>\n",
       "      <td>...</td>\n",
       "      <td>...</td>\n",
       "    </tr>\n",
       "    <tr>\n",
       "      <th>2131</th>\n",
       "      <td>7.834741e+00</td>\n",
       "      <td>2.119640e+01</td>\n",
       "      <td>7.771283e+00</td>\n",
       "      <td>4.064401e+00</td>\n",
       "      <td>4.064401</td>\n",
       "      <td>-1.425917</td>\n",
       "      <td>-3.185419</td>\n",
       "    </tr>\n",
       "    <tr>\n",
       "      <th>1220</th>\n",
       "      <td>7.356471e+00</td>\n",
       "      <td>4.044531e+00</td>\n",
       "      <td>1.146505e+01</td>\n",
       "      <td>7.671534e+00</td>\n",
       "      <td>4.044531</td>\n",
       "      <td>-1.432996</td>\n",
       "      <td>-3.203635</td>\n",
       "    </tr>\n",
       "    <tr>\n",
       "      <th>1762</th>\n",
       "      <td>7.573406e+00</td>\n",
       "      <td>3.821672e+00</td>\n",
       "      <td>7.020998e+00</td>\n",
       "      <td>7.472453e+00</td>\n",
       "      <td>3.821672</td>\n",
       "      <td>-1.512403</td>\n",
       "      <td>-3.407945</td>\n",
       "    </tr>\n",
       "    <tr>\n",
       "      <th>176</th>\n",
       "      <td>3.691251e+00</td>\n",
       "      <td>9.670391e+01</td>\n",
       "      <td>2.460666e+01</td>\n",
       "      <td>2.232662e+01</td>\n",
       "      <td>3.691251</td>\n",
       "      <td>-1.558872</td>\n",
       "      <td>-3.527511</td>\n",
       "    </tr>\n",
       "    <tr>\n",
       "      <th>1289</th>\n",
       "      <td>6.408494e+00</td>\n",
       "      <td>1.726870e+01</td>\n",
       "      <td>7.901371e+00</td>\n",
       "      <td>3.488893e+00</td>\n",
       "      <td>3.488893</td>\n",
       "      <td>-1.630973</td>\n",
       "      <td>-3.713026</td>\n",
       "    </tr>\n",
       "  </tbody>\n",
       "</table>\n",
       "<p>2732 rows × 7 columns</p>\n",
       "</div>"
      ],
      "text/plain": [
       "                CEP_dist     DSCT_dist       EB_dist      RRL_dist  \\\n",
       "sample_num                                                           \n",
       "1698        2.221283e+06  4.421163e+06  4.555621e+01  5.301515e+06   \n",
       "1592        3.431627e+01  8.980047e+02  5.600783e+04  1.275726e+04   \n",
       "1062        3.212941e+01  4.580644e+02  7.057781e+03  2.917023e+03   \n",
       "568         3.241179e+01  6.444508e+01  2.663454e+02  3.044971e+01   \n",
       "1242        3.188868e+05  4.514984e+02  5.016597e+07  2.977814e+01   \n",
       "...                  ...           ...           ...           ...   \n",
       "2131        7.834741e+00  2.119640e+01  7.771283e+00  4.064401e+00   \n",
       "1220        7.356471e+00  4.044531e+00  1.146505e+01  7.671534e+00   \n",
       "1762        7.573406e+00  3.821672e+00  7.020998e+00  7.472453e+00   \n",
       "176         3.691251e+00  9.670391e+01  2.460666e+01  2.232662e+01   \n",
       "1289        6.408494e+00  1.726870e+01  7.901371e+00  3.488893e+00   \n",
       "\n",
       "            closest_distance  abnormality_mean  abnormality_median  \n",
       "sample_num                                                          \n",
       "1698               45.556213         13.357850           34.852994  \n",
       "1592               34.316274          9.352996           24.548565  \n",
       "1062               32.129409          8.573804           22.543715  \n",
       "568                30.449705          7.975316           21.003814  \n",
       "1242               29.778138          7.736033           20.388142  \n",
       "...                      ...               ...                 ...  \n",
       "2131                4.064401         -1.425917           -3.185419  \n",
       "1220                4.044531         -1.432996           -3.203635  \n",
       "1762                3.821672         -1.512403           -3.407945  \n",
       "176                 3.691251         -1.558872           -3.527511  \n",
       "1289                3.488893         -1.630973           -3.713026  \n",
       "\n",
       "[2732 rows x 7 columns]"
      ]
     },
     "execution_count": 18,
     "metadata": {},
     "output_type": "execute_result"
    }
   ],
   "source": [
    "dist_df"
   ]
  },
  {
   "cell_type": "code",
   "execution_count": 19,
   "id": "bfc3b524-ee14-45cd-a323-d7bc57ec18cb",
   "metadata": {
    "execution": {
     "iopub.execute_input": "2025-05-14T16:20:07.710198Z",
     "iopub.status.busy": "2025-05-14T16:20:07.709410Z",
     "iopub.status.idle": "2025-05-14T16:20:07.896609Z",
     "shell.execute_reply": "2025-05-14T16:20:07.895944Z",
     "shell.execute_reply.started": "2025-05-14T16:20:07.710043Z"
    }
   },
   "outputs": [
    {
     "data": {
      "image/png": "[encoded data removed]",
      "text/plain": [
       "<Figure size 640x480 with 1 Axes>"
      ]
     },
     "metadata": {},
     "output_type": "display_data"
    }
   ],
   "source": [
    "sns.histplot(dist_df,x=\"abnormality_median\")\n",
    "sns.histplot(dist_df,x=\"abnormality_mean\")\n",
    "plt.axvline(x=0, color=\"red\")\n",
    "# plt.yscale(\"log\")\n",
    "plt.show()"
   ]
  },
  {
   "cell_type": "code",
   "execution_count": 20,
   "id": "0239c0e8-8305-49f7-a975-9bae1e38d128",
   "metadata": {
    "execution": {
     "iopub.execute_input": "2025-05-14T16:20:07.897784Z",
     "iopub.status.busy": "2025-05-14T16:20:07.897674Z",
     "iopub.status.idle": "2025-05-14T16:20:07.916441Z",
     "shell.execute_reply": "2025-05-14T16:20:07.914911Z",
     "shell.execute_reply.started": "2025-05-14T16:20:07.897776Z"
    }
   },
   "outputs": [],
   "source": [
    "dist_df[\"abnormality_iforest\"] = iforest_df.loc[dist_df.index]"
   ]
  },
  {
   "cell_type": "code",
   "execution_count": 21,
   "id": "181a0052-8376-41e3-a9f0-ae9d194bd967",
   "metadata": {
    "execution": {
     "iopub.execute_input": "2025-05-14T16:20:07.936289Z",
     "iopub.status.busy": "2025-05-14T16:20:07.935877Z",
     "iopub.status.idle": "2025-05-14T16:20:07.964170Z",
     "shell.execute_reply": "2025-05-14T16:20:07.963240Z",
     "shell.execute_reply.started": "2025-05-14T16:20:07.936267Z"
    }
   },
   "outputs": [],
   "source": [
    "anomaly_df = dist_df.loc[:,[\"abnormality_mean\",\"abnormality_median\",\"abnormality_iforest\"]]\n",
    "anomaly_df=anomaly_df.sort_values(by=[\"abnormality_mean\",\"abnormality_median\",\"abnormality_iforest\"],ascending=False)"
   ]
  },
  {
   "cell_type": "code",
   "execution_count": 22,
   "id": "4b427580-1fca-44d7-bf50-8e5a183b79fa",
   "metadata": {
    "execution": {
     "iopub.execute_input": "2025-05-14T16:20:07.975950Z",
     "iopub.status.busy": "2025-05-14T16:20:07.975022Z",
     "iopub.status.idle": "2025-05-14T16:20:08.018536Z",
     "shell.execute_reply": "2025-05-14T16:20:08.002834Z",
     "shell.execute_reply.started": "2025-05-14T16:20:07.975931Z"
    }
   },
   "outputs": [
    {
     "data": {
      "text/html": [
       "<div>\n",
       "<style scoped>\n",
       "    .dataframe tbody tr th:only-of-type {\n",
       "        vertical-align: middle;\n",
       "    }\n",
       "\n",
       "    .dataframe tbody tr th {\n",
       "        vertical-align: top;\n",
       "    }\n",
       "\n",
       "    .dataframe thead th {\n",
       "        text-align: right;\n",
       "    }\n",
       "</style>\n",
       "<table border=\"1\" class=\"dataframe\">\n",
       "  <thead>\n",
       "    <tr style=\"text-align: right;\">\n",
       "      <th></th>\n",
       "      <th>abnormality_mean</th>\n",
       "      <th>abnormality_median</th>\n",
       "      <th>abnormality_iforest</th>\n",
       "    </tr>\n",
       "    <tr>\n",
       "      <th>sample_num</th>\n",
       "      <th></th>\n",
       "      <th></th>\n",
       "      <th></th>\n",
       "    </tr>\n",
       "  </thead>\n",
       "  <tbody>\n",
       "    <tr>\n",
       "      <th>1698</th>\n",
       "      <td>13.357850</td>\n",
       "      <td>34.852994</td>\n",
       "      <td>0.065768</td>\n",
       "    </tr>\n",
       "    <tr>\n",
       "      <th>1592</th>\n",
       "      <td>9.352996</td>\n",
       "      <td>24.548565</td>\n",
       "      <td>0.055202</td>\n",
       "    </tr>\n",
       "    <tr>\n",
       "      <th>1062</th>\n",
       "      <td>8.573804</td>\n",
       "      <td>22.543715</td>\n",
       "      <td>0.037101</td>\n",
       "    </tr>\n",
       "    <tr>\n",
       "      <th>568</th>\n",
       "      <td>7.975316</td>\n",
       "      <td>21.003814</td>\n",
       "      <td>0.000071</td>\n",
       "    </tr>\n",
       "    <tr>\n",
       "      <th>1242</th>\n",
       "      <td>7.736033</td>\n",
       "      <td>20.388142</td>\n",
       "      <td>0.042030</td>\n",
       "    </tr>\n",
       "    <tr>\n",
       "      <th>...</th>\n",
       "      <td>...</td>\n",
       "      <td>...</td>\n",
       "      <td>...</td>\n",
       "    </tr>\n",
       "    <tr>\n",
       "      <th>480</th>\n",
       "      <td>-0.333006</td>\n",
       "      <td>-0.373376</td>\n",
       "      <td>0.006184</td>\n",
       "    </tr>\n",
       "    <tr>\n",
       "      <th>462</th>\n",
       "      <td>-0.351599</td>\n",
       "      <td>-0.421214</td>\n",
       "      <td>0.002476</td>\n",
       "    </tr>\n",
       "    <tr>\n",
       "      <th>2602</th>\n",
       "      <td>-0.354475</td>\n",
       "      <td>-0.428615</td>\n",
       "      <td>0.005951</td>\n",
       "    </tr>\n",
       "    <tr>\n",
       "      <th>1037</th>\n",
       "      <td>-0.467725</td>\n",
       "      <td>-0.720005</td>\n",
       "      <td>0.000567</td>\n",
       "    </tr>\n",
       "    <tr>\n",
       "      <th>288</th>\n",
       "      <td>-0.707180</td>\n",
       "      <td>-1.336119</td>\n",
       "      <td>0.005885</td>\n",
       "    </tr>\n",
       "  </tbody>\n",
       "</table>\n",
       "<p>1372 rows × 3 columns</p>\n",
       "</div>"
      ],
      "text/plain": [
       "            abnormality_mean  abnormality_median  abnormality_iforest\n",
       "sample_num                                                           \n",
       "1698               13.357850           34.852994             0.065768\n",
       "1592                9.352996           24.548565             0.055202\n",
       "1062                8.573804           22.543715             0.037101\n",
       "568                 7.975316           21.003814             0.000071\n",
       "1242                7.736033           20.388142             0.042030\n",
       "...                      ...                 ...                  ...\n",
       "480                -0.333006           -0.373376             0.006184\n",
       "462                -0.351599           -0.421214             0.002476\n",
       "2602               -0.354475           -0.428615             0.005951\n",
       "1037               -0.467725           -0.720005             0.000567\n",
       "288                -0.707180           -1.336119             0.005885\n",
       "\n",
       "[1372 rows x 3 columns]"
      ]
     },
     "execution_count": 22,
     "metadata": {},
     "output_type": "execute_result"
    }
   ],
   "source": [
    "anomaly_df[(anomaly_df[\"abnormality_mean\"] > 0) | (anomaly_df[\"abnormality_median\"] > 0) | (anomaly_df[\"abnormality_iforest\"] > 0)]"
   ]
  },
  {
   "cell_type": "code",
   "execution_count": 23,
   "id": "e1fab466-2103-49de-9ea1-834b7e9d49c4",
   "metadata": {
    "execution": {
     "iopub.execute_input": "2025-05-14T16:20:08.031274Z",
     "iopub.status.busy": "2025-05-14T16:20:08.031124Z",
     "iopub.status.idle": "2025-05-14T16:20:08.034868Z",
     "shell.execute_reply": "2025-05-14T16:20:08.033237Z",
     "shell.execute_reply.started": "2025-05-14T16:20:08.031264Z"
    }
   },
   "outputs": [],
   "source": [
    "from sklearn.preprocessing import MinMaxScaler"
   ]
  },
  {
   "cell_type": "code",
   "execution_count": 24,
   "id": "1505dcbb-77b4-4207-8195-e9c4082c8253",
   "metadata": {
    "execution": {
     "iopub.execute_input": "2025-05-14T16:20:08.037253Z",
     "iopub.status.busy": "2025-05-14T16:20:08.036314Z",
     "iopub.status.idle": "2025-05-14T16:20:08.057155Z",
     "shell.execute_reply": "2025-05-14T16:20:08.056692Z",
     "shell.execute_reply.started": "2025-05-14T16:20:08.037228Z"
    }
   },
   "outputs": [],
   "source": [
    "for col in anomaly_df.columns:\n",
    "    scaler = MinMaxScaler(feature_range=(-1, 1))\n",
    "    anomaly_df[col] = scaler.fit_transform(anomaly_df[[col]]).ravel()"
   ]
  },
  {
   "cell_type": "code",
   "execution_count": 25,
   "id": "9793d904-fdfd-4d41-bcf4-a8c25c9b9353",
   "metadata": {
    "execution": {
     "iopub.execute_input": "2025-05-14T16:20:08.059721Z",
     "iopub.status.busy": "2025-05-14T16:20:08.059578Z",
     "iopub.status.idle": "2025-05-14T16:20:08.211574Z",
     "shell.execute_reply": "2025-05-14T16:20:08.211085Z",
     "shell.execute_reply.started": "2025-05-14T16:20:08.059712Z"
    }
   },
   "outputs": [
    {
     "data": {
      "text/plain": [
       "<Axes: ylabel='sample_num'>"
      ]
     },
     "execution_count": 25,
     "metadata": {},
     "output_type": "execute_result"
    },
    {
     "data": {
      "image/png": "[encoded data removed]",
      "text/plain": [
       "<Figure size 640x480 with 2 Axes>"
      ]
     },
     "metadata": {},
     "output_type": "display_data"
    }
   ],
   "source": [
    "sns.heatmap(anomaly_df.iloc[:20],cmap=\"RdBu\", annot=True, fmt=\".2f\",vmin=-1,vmax=1)"
   ]
  },
  {
   "cell_type": "code",
   "execution_count": 26,
   "id": "50f5d90e-49ed-48e2-b173-d8dae1b8a34d",
   "metadata": {
    "execution": {
     "iopub.execute_input": "2025-05-14T16:20:08.212287Z",
     "iopub.status.busy": "2025-05-14T16:20:08.212187Z",
     "iopub.status.idle": "2025-05-14T16:20:08.381182Z",
     "shell.execute_reply": "2025-05-14T16:20:08.380912Z",
     "shell.execute_reply.started": "2025-05-14T16:20:08.212279Z"
    }
   },
   "outputs": [
    {
     "data": {
      "text/plain": [
       "<Axes: ylabel='sample_num'>"
      ]
     },
     "execution_count": 26,
     "metadata": {},
     "output_type": "execute_result"
    },
    {
     "data": {
      "image/png": "[encoded data removed]",
      "text/plain": [
       "<Figure size 640x480 with 2 Axes>"
      ]
     },
     "metadata": {},
     "output_type": "display_data"
    }
   ],
   "source": [
    "sns.heatmap(anomaly_df.sort_values(\"abnormality_iforest\",ascending=False).iloc[:30],cmap=\"RdBu\", annot=True, fmt=\".2f\",vmin=-1,vmax=1)"
   ]
  },
  {
   "cell_type": "markdown",
   "id": "507c9edf-422e-44ea-806a-c75268b50322",
   "metadata": {},
   "source": [
    "### 3. Many DCPY Distance"
   ]
  },
  {
   "cell_type": "code",
   "execution_count": 27,
   "id": "79ec3059-9128-4886-b58c-0c072aafbd34",
   "metadata": {
    "execution": {
     "iopub.execute_input": "2025-05-14T16:20:08.382574Z",
     "iopub.status.busy": "2025-05-14T16:20:08.382037Z",
     "iopub.status.idle": "2025-05-14T16:20:09.221524Z",
     "shell.execute_reply": "2025-05-14T16:20:09.221245Z",
     "shell.execute_reply.started": "2025-05-14T16:20:08.382561Z"
    }
   },
   "outputs": [
    {
     "data": {
      "application/vnd.jupyter.widget-view+json": {
       "model_id": "305207bf736648ddb10105c940236515",
       "version_major": 2,
       "version_minor": 0
      },
      "text/plain": [
       "Metric:   0%|          | 0/18 [00:00<?, ?it/s]"
      ]
     },
     "metadata": {},
     "output_type": "display_data"
    }
   ],
   "source": [
    "dist_df_dict = {}\n",
    "for metric in tqdm(all_metrics, desc=\"Metric\", leave=True):\n",
    "    metric_str = utils.get_metric_name(metric)\n",
    "    _ = lcdc.predict_and_analyse(X, metric=metric)\n",
    "\n",
    "    dist_df = lcdc.centroid_dist_df_\n",
    "\n",
    "    dist_df['closest_distance'] = dist_df.min(axis=1)\n",
    "    \n",
    "    # standard scale w/mean?\n",
    "    mean = dist_df['closest_distance'].mean()\n",
    "    std  = dist_df['closest_distance'].std()\n",
    "    dist_df['abnormality_mean'] = (dist_df['closest_distance'] - mean) / std\n",
    "    \n",
    "    # standard scale w/median?\n",
    "    med = dist_df['closest_distance'].median()\n",
    "    mad = stats.median_abs_deviation(dist_df['closest_distance'])\n",
    "    dist_df['abnormality_median'] = (dist_df['closest_distance'] - med) / mad\n",
    "    \n",
    "    dist_df.index.name = \"sample_num\"\n",
    "    #dist_df=(dist_df.sort_values(by=\"abnormality_mean\",ascending=False))\n",
    "    dist_df_dict[metric_str] = dist_df"
   ]
  },
  {
   "cell_type": "code",
   "execution_count": 28,
   "id": "20c11213-78c7-497f-bcb6-65a014a30fea",
   "metadata": {
    "execution": {
     "iopub.execute_input": "2025-05-14T16:20:09.222139Z",
     "iopub.status.busy": "2025-05-14T16:20:09.222037Z",
     "iopub.status.idle": "2025-05-14T16:20:09.236669Z",
     "shell.execute_reply": "2025-05-14T16:20:09.235866Z",
     "shell.execute_reply.started": "2025-05-14T16:20:09.222131Z"
    }
   },
   "outputs": [
    {
     "data": {
      "application/vnd.jupyter.widget-view+json": {
       "model_id": "ea618eb0a9074812befecb9927642258",
       "version_major": 2,
       "version_minor": 0
      },
      "text/plain": [
       "Metric:   0%|          | 0/18 [00:00<?, ?it/s]"
      ]
     },
     "metadata": {},
     "output_type": "display_data"
    }
   ],
   "source": [
    "bigarr = []\n",
    "for metric in tqdm(all_metrics, desc=\"Metric\", leave=True):\n",
    "    metric_str = utils.get_metric_name(metric)\n",
    "    bigarr.append(dist_df_dict[metric_str].loc[:,[\"abnormality_mean\",\"abnormality_median\"]].to_numpy())"
   ]
  },
  {
   "cell_type": "code",
   "execution_count": 29,
   "id": "77016be1-046f-4074-ae7f-7ee3537b406d",
   "metadata": {
    "execution": {
     "iopub.execute_input": "2025-05-14T16:20:09.237515Z",
     "iopub.status.busy": "2025-05-14T16:20:09.237408Z",
     "iopub.status.idle": "2025-05-14T16:20:09.243405Z",
     "shell.execute_reply": "2025-05-14T16:20:09.242815Z",
     "shell.execute_reply.started": "2025-05-14T16:20:09.237507Z"
    }
   },
   "outputs": [],
   "source": [
    "mean_alldist_abnormalities = np.array(bigarr).mean(axis=0)\n",
    "median_alldist_abnormalities = np.median(np.array(bigarr),axis=0)"
   ]
  },
  {
   "cell_type": "code",
   "execution_count": 30,
   "id": "844de90c-75cf-4072-a1be-2ebdf103784d",
   "metadata": {
    "execution": {
     "iopub.execute_input": "2025-05-14T16:20:09.244020Z",
     "iopub.status.busy": "2025-05-14T16:20:09.243876Z",
     "iopub.status.idle": "2025-05-14T16:20:09.250677Z",
     "shell.execute_reply": "2025-05-14T16:20:09.249409Z",
     "shell.execute_reply.started": "2025-05-14T16:20:09.244010Z"
    }
   },
   "outputs": [
    {
     "ename": "SyntaxError",
     "evalue": "invalid syntax (2442082617.py, line 1)",
     "output_type": "error",
     "traceback": [
      "\u001b[0;36m  Cell \u001b[0;32mIn[30], line 1\u001b[0;36m\u001b[0m\n\u001b[0;31m    pd.DataFrame(,index=dist_df_dict[metric_str].index, column)\u001b[0m\n\u001b[0m                 ^\u001b[0m\n\u001b[0;31mSyntaxError\u001b[0m\u001b[0;31m:\u001b[0m invalid syntax\n"
     ]
    }
   ],
   "source": [
    "pd.DataFrame(,index=dist_df_dict[metric_str].index, column)"
   ]
  },
  {
   "cell_type": "code",
   "execution_count": null,
   "id": "ace1b550-dd0a-4bdc-94e5-6749425ce8b0",
   "metadata": {},
   "outputs": [],
   "source": []
  },
  {
   "cell_type": "code",
   "execution_count": null,
   "id": "d54dead1-f838-4d97-9188-7e6df3e3dabb",
   "metadata": {},
   "outputs": [],
   "source": []
  }
 ],
 "metadata": {
  "kernelspec": {
   "display_name": "Python 3 (ipykernel)",
   "language": "python",
   "name": "python3"
  },
  "language_info": {
   "codemirror_mode": {
    "name": "ipython",
    "version": 3
   },
   "file_extension": ".py",
   "mimetype": "text/x-python",
   "name": "python",
   "nbconvert_exporter": "python",
   "pygments_lexer": "ipython3",
   "version": "3.12.4"
  }
 },
 "nbformat": 4,
 "nbformat_minor": 5
}
