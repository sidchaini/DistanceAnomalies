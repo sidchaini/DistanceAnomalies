{
 "cells": [
  {
   "cell_type": "code",
   "execution_count": 1,
   "id": "da8d78b5-9d60-476e-be14-2f05b2fcd27e",
   "metadata": {
    "execution": {
     "iopub.execute_input": "2025-05-14T02:12:19.002046Z",
     "iopub.status.busy": "2025-05-14T02:12:19.001606Z",
     "iopub.status.idle": "2025-05-14T02:12:20.361651Z",
     "shell.execute_reply": "2025-05-14T02:12:20.361384Z",
     "shell.execute_reply.started": "2025-05-14T02:12:19.002006Z"
    }
   },
   "outputs": [],
   "source": [
    "import numpy as np\n",
    "import pandas as pd\n",
    "import matplotlib.pyplot as plt\n",
    "import seaborn as sns\n",
    "import json\n",
    "import os\n",
    "from sklearn.model_selection import cross_val_predict, train_test_split\n",
    "from sklearn.metrics import accuracy_score, f1_score, matthews_corrcoef\n",
    "import distclassipy as dcpy\n",
    "\n",
    "os.chdir(\"../\")\n",
    "from pathlib import Path\n",
    "import matplotlib.gridspec as gridspec\n",
    "import sys\n",
    "from tqdm.auto import tqdm\n",
    "sys.path.append(\"scripts\")\n",
    "import utils"
   ]
  },
  {
   "cell_type": "code",
   "execution_count": 2,
   "id": "cdf15da7-405d-4158-ad61-e42a23697347",
   "metadata": {
    "execution": {
     "iopub.execute_input": "2025-05-14T02:12:20.362173Z",
     "iopub.status.busy": "2025-05-14T02:12:20.362027Z",
     "iopub.status.idle": "2025-05-14T02:12:20.364921Z",
     "shell.execute_reply": "2025-05-14T02:12:20.364645Z",
     "shell.execute_reply.started": "2025-05-14T02:12:20.362164Z"
    }
   },
   "outputs": [],
   "source": [
    "with open(\"settings.txt\") as f:\n",
    "    settings_dict = json.load(f)\n",
    "seed_val = settings_dict[\"seed_choice\"]\n",
    "np.random.seed(seed_val)\n",
    "sns_dict = settings_dict[\"sns_dict\"]\n",
    "sns.set_theme(**sns_dict)"
   ]
  },
  {
   "cell_type": "code",
   "execution_count": 3,
   "id": "8cbf5a60-b34b-44d9-a338-917dae53fb7f",
   "metadata": {
    "execution": {
     "iopub.execute_input": "2025-05-14T02:12:20.365323Z",
     "iopub.status.busy": "2025-05-14T02:12:20.365247Z",
     "iopub.status.idle": "2025-05-14T02:12:20.367309Z",
     "shell.execute_reply": "2025-05-14T02:12:20.367070Z",
     "shell.execute_reply.started": "2025-05-14T02:12:20.365315Z"
    }
   },
   "outputs": [],
   "source": [
    "# custom_hues = [\"#3B4CC0\", \"#1FA187\", \"#FBAE17\", \"#D21F26\"]\n",
    "ibm_palette_hues = [\"#648FFF\", \"#785EF0\", \"#DC267F\", \"#FE6100\", \"#FFB000\"]\n",
    "# https://davidmathlogic.com/colorblind/\n",
    "sns.set_palette(ibm_palette_hues)"
   ]
  },
  {
   "cell_type": "code",
   "execution_count": 4,
   "id": "c325b6da-593b-4998-90ed-591a619173d7",
   "metadata": {
    "execution": {
     "iopub.execute_input": "2025-05-14T02:12:20.367883Z",
     "iopub.status.busy": "2025-05-14T02:12:20.367774Z",
     "iopub.status.idle": "2025-05-14T02:12:20.451155Z",
     "shell.execute_reply": "2025-05-14T02:12:20.450883Z",
     "shell.execute_reply.started": "2025-05-14T02:12:20.367876Z"
    }
   },
   "outputs": [
    {
     "data": {
      "text/plain": [
       "class\n",
       "CEP     683\n",
       "DSCT    683\n",
       "EB      683\n",
       "RRL     683\n",
       "Name: count, dtype: int64"
      ]
     },
     "execution_count": 4,
     "metadata": {},
     "output_type": "execute_result"
    }
   ],
   "source": [
    "features = pd.read_parquet(\"data/reduced_balancedfeatures_LATEST.parquet\")\n",
    "features[\"class\"].value_counts()"
   ]
  },
  {
   "cell_type": "code",
   "execution_count": 5,
   "id": "9ef2fb38-a426-49d2-bf5c-74926997fceb",
   "metadata": {
    "execution": {
     "iopub.execute_input": "2025-05-14T02:12:20.451672Z",
     "iopub.status.busy": "2025-05-14T02:12:20.451591Z",
     "iopub.status.idle": "2025-05-14T02:12:20.454080Z",
     "shell.execute_reply": "2025-05-14T02:12:20.453716Z",
     "shell.execute_reply.started": "2025-05-14T02:12:20.451664Z"
    }
   },
   "outputs": [],
   "source": [
    "features = features.sample(frac=1)"
   ]
  },
  {
   "cell_type": "code",
   "execution_count": 6,
   "id": "b3c2d0e0-8e7b-434d-a264-cc7f7754aac5",
   "metadata": {
    "execution": {
     "iopub.execute_input": "2025-05-14T02:12:20.457357Z",
     "iopub.status.busy": "2025-05-14T02:12:20.457203Z",
     "iopub.status.idle": "2025-05-14T02:12:20.460821Z",
     "shell.execute_reply": "2025-05-14T02:12:20.459982Z",
     "shell.execute_reply.started": "2025-05-14T02:12:20.457340Z"
    }
   },
   "outputs": [],
   "source": [
    "final_features = ['SPM_A_Y',\n",
    " 'Multiband_period',\n",
    " 'r-i',\n",
    " 'Harmonics_phase_4_i',\n",
    " 'Harmonics_phase_2_r',\n",
    " 'Power_rate_4']"
   ]
  },
  {
   "cell_type": "code",
   "execution_count": 7,
   "id": "b2480d53-0fb0-42f5-bdbc-1663c334cdaf",
   "metadata": {
    "execution": {
     "iopub.execute_input": "2025-05-14T02:12:20.462715Z",
     "iopub.status.busy": "2025-05-14T02:12:20.462284Z",
     "iopub.status.idle": "2025-05-14T02:12:20.469171Z",
     "shell.execute_reply": "2025-05-14T02:12:20.467821Z",
     "shell.execute_reply.started": "2025-05-14T02:12:20.462702Z"
    }
   },
   "outputs": [],
   "source": [
    "X_df = features.loc[:,final_features]\n",
    "y_df = features[\"class\"]"
   ]
  },
  {
   "cell_type": "code",
   "execution_count": 8,
   "id": "f4c94c36-5066-4f03-8916-240808967168",
   "metadata": {
    "execution": {
     "iopub.execute_input": "2025-05-14T02:12:20.470144Z",
     "iopub.status.busy": "2025-05-14T02:12:20.470043Z",
     "iopub.status.idle": "2025-05-14T02:12:20.472227Z",
     "shell.execute_reply": "2025-05-14T02:12:20.471776Z",
     "shell.execute_reply.started": "2025-05-14T02:12:20.470135Z"
    }
   },
   "outputs": [],
   "source": [
    "X = X_df.to_numpy()\n",
    "y = y_df.to_numpy()"
   ]
  },
  {
   "cell_type": "code",
   "execution_count": 12,
   "id": "200246ef-e83f-4a3a-aeb6-ce5272d8ca4d",
   "metadata": {
    "execution": {
     "iopub.execute_input": "2025-05-14T02:12:31.897473Z",
     "iopub.status.busy": "2025-05-14T02:12:31.896678Z",
     "iopub.status.idle": "2025-05-14T02:12:31.905897Z",
     "shell.execute_reply": "2025-05-14T02:12:31.904968Z",
     "shell.execute_reply.started": "2025-05-14T02:12:31.897442Z"
    }
   },
   "outputs": [],
   "source": [
    "all_metrics = dcpy._ALL_METRICS"
   ]
  },
  {
   "cell_type": "markdown",
   "id": "d7e1d593-8e2a-41ea-9ac5-6732785bfe96",
   "metadata": {},
   "source": [
    "---"
   ]
  },
  {
   "cell_type": "code",
   "execution_count": 15,
   "id": "d258d0f3-62e2-4fce-baeb-dd629fd980f3",
   "metadata": {
    "execution": {
     "iopub.execute_input": "2025-05-14T02:12:51.530765Z",
     "iopub.status.busy": "2025-05-14T02:12:51.530578Z",
     "iopub.status.idle": "2025-05-14T02:12:54.056525Z",
     "shell.execute_reply": "2025-05-14T02:12:54.056135Z",
     "shell.execute_reply.started": "2025-05-14T02:12:51.530755Z"
    }
   },
   "outputs": [
    {
     "data": {
      "application/vnd.jupyter.widget-view+json": {
       "model_id": "1778605324be458fa162a8364f95fa09",
       "version_major": 2,
       "version_minor": 0
      },
      "text/plain": [
       "Metric:   0%|          | 0/43 [00:00<?, ?it/s]"
      ]
     },
     "metadata": {},
     "output_type": "display_data"
    }
   ],
   "source": [
    "all_metric_dfs = {}\n",
    "all_metric_preds = {}\n",
    "\n",
    "for metric in tqdm(all_metrics, desc=\"Metric\", leave=True):\n",
    "    lcdc = dcpy.DistanceMetricClassifier(\n",
    "        scale=True,\n",
    "        central_stat=\"median\",\n",
    "        dispersion_stat=\"std\",\n",
    "    )\n",
    "    metric_str = utils.get_metric_name(metric)\n",
    "    lcdc.fit(X, y)\n",
    "    _ = lcdc.predict_and_analyse(X, metric=metric)\n",
    "\n",
    "    dist_df = lcdc.centroid_dist_df_\n",
    "    all_metric_dfs[metric_str] = dist_df\n",
    "\n",
    "    # Calculate preds for the current metric\n",
    "    class_names = [col.replace(\"_dist\", \"\") for col in dist_df.columns]\n",
    "    # Use .to_numpy() for robust operation with np.argmin\n",
    "    argmin_preds = np.argmin(dist_df.to_numpy(), axis=1)\n",
    "    preds = np.array([class_names[idx] for idx in argmin_preds])\n",
    "    all_metric_preds[metric_str] = preds"
   ]
  },
  {
   "cell_type": "code",
   "execution_count": 16,
   "id": "b2cb371e-a533-4a26-9aa4-f7c0e7e8a0a0",
   "metadata": {
    "execution": {
     "iopub.execute_input": "2025-05-14T02:18:52.297596Z",
     "iopub.status.busy": "2025-05-14T02:18:52.294342Z",
     "iopub.status.idle": "2025-05-14T02:18:52.792439Z",
     "shell.execute_reply": "2025-05-14T02:18:52.792161Z",
     "shell.execute_reply.started": "2025-05-14T02:18:52.297521Z"
    }
   },
   "outputs": [
    {
     "name": "stdout",
     "output_type": "stream",
     "text": [
      "Metrics that produced identical DataFrames AFTER column-wise Min-Max normalization:\n",
      "- Metrics: Euclidean, Minkowski\n",
      "- Metrics: Braycurtis, Motyka, Czekanowski, Sorensen\n",
      "- Metrics: Cityblock, Gower\n",
      "- Metrics: Hellinger, Matusita\n",
      "- Metrics: Soergel, Ruzicka, Tanimoto\n",
      "- Metrics: Jensenshannon_Divergence, Jensen_Difference, Topsoe\n",
      "- Metrics: Prob_Chisq, Squared_Chisq\n"
     ]
    }
   ],
   "source": [
    "def normalize_dataframe_columns(df):\n",
    "    \"\"\"Applies Min-Max normalization to each column of a DataFrame.\"\"\"\n",
    "    if df.empty:\n",
    "        return df\n",
    "    df_norm = df.copy()\n",
    "    for column in df_norm.columns:\n",
    "        min_val = df_norm[column].min()\n",
    "        max_val = df_norm[column].max()\n",
    "        if max_val - min_val == 0:\n",
    "            # If all values in a column are the same, scale to 1\n",
    "            df_norm[column] = 1\n",
    "        else:\n",
    "            df_norm[column] = (df_norm[column] - min_val) / (max_val - min_val)\n",
    "    return df_norm\n",
    "\n",
    "grouped_identical_normalized_dfs = []\n",
    "processed_metric_names_norm = set()\n",
    "\n",
    "metric_names_list_norm = list(all_metric_dfs.keys())\n",
    "\n",
    "for i in range(len(metric_names_list_norm)):\n",
    "    name1 = metric_names_list_norm[i]\n",
    "    \n",
    "    if name1 in processed_metric_names_norm:\n",
    "        continue\n",
    "\n",
    "    current_group_norm = [name1]\n",
    "    df1_original = all_metric_dfs[name1]\n",
    "    \n",
    "    # Normalize df1 before comparison\n",
    "    norm_df1 = normalize_dataframe_columns(df1_original.copy()) # Operate on a copy\n",
    "\n",
    "    for j in range(i + 1, len(metric_names_list_norm)):\n",
    "        name2 = metric_names_list_norm[j]\n",
    "        \n",
    "        if name2 in processed_metric_names_norm:\n",
    "            continue\n",
    "\n",
    "        df2_original = all_metric_dfs[name2]\n",
    "        norm_df2 = normalize_dataframe_columns(df2_original.copy())\n",
    "\n",
    "        # Compare shapes first, then use np.allclose for numerical arrays\n",
    "        if np.allclose(norm_df1.to_numpy(dtype=float), norm_df2.to_numpy(dtype=float), equal_nan=True):\n",
    "            current_group_norm.append(name2)\n",
    "            processed_metric_names_norm.add(name2)\n",
    "    \n",
    "    processed_metric_names_norm.add(name1)\n",
    "    grouped_identical_normalized_dfs.append(current_group_norm)\n",
    "\n",
    "duplicate_normalized_groups = [group for group in grouped_identical_normalized_dfs if len(group) > 1]\n",
    "\n",
    "if duplicate_normalized_groups:\n",
    "    print(\"Metrics that produced identical DataFrames AFTER column-wise Min-Max normalization:\")\n",
    "    for group in duplicate_normalized_groups:\n",
    "        print(f\"- Metrics: {', '.join(group)}\")\n",
    "else:\n",
    "    print(\"All metrics produced unique DataFrames after column-wise Min-Max normalization.\")"
   ]
  },
  {
   "cell_type": "code",
   "execution_count": 13,
   "id": "a9fa7067-d049-43e4-867a-00edba338cb8",
   "metadata": {
    "execution": {
     "iopub.execute_input": "2025-05-13T02:55:17.278031Z",
     "iopub.status.busy": "2025-05-13T02:55:17.277196Z",
     "iopub.status.idle": "2025-05-13T02:55:17.289156Z",
     "shell.execute_reply": "2025-05-13T02:55:17.288252Z",
     "shell.execute_reply.started": "2025-05-13T02:55:17.277996Z"
    }
   },
   "outputs": [],
   "source": [
    "# dcpy.distances._ALL_METRICS"
   ]
  },
  {
   "cell_type": "code",
   "execution_count": 21,
   "id": "9fe44f05-a1f6-47df-ac29-944ba8999ebf",
   "metadata": {
    "execution": {
     "iopub.execute_input": "2025-05-14T02:23:21.753057Z",
     "iopub.status.busy": "2025-05-14T02:23:21.752373Z",
     "iopub.status.idle": "2025-05-14T02:23:21.770731Z",
     "shell.execute_reply": "2025-05-14T02:23:21.769762Z",
     "shell.execute_reply.started": "2025-05-14T02:23:21.753030Z"
    }
   },
   "outputs": [],
   "source": [
    "throw_metrics = ['minkowski', 'motyka', 'czekanowski', 'sorensen', 'gower', 'matusita', 'ruzicka', 'tanimoto', 'jensenshannon_divergence', 'jensen_difference', 'prob_chisq']\n",
    "unique_metrics = []\n",
    "for metric in all_metrics:\n",
    "    if metric not in throw_metrics:\n",
    "        unique_metrics.append(metric)"
   ]
  },
  {
   "cell_type": "code",
   "execution_count": 22,
   "id": "e7a14f42-04b4-4353-931d-c920cc0c3e75",
   "metadata": {
    "execution": {
     "iopub.execute_input": "2025-05-14T02:23:27.879084Z",
     "iopub.status.busy": "2025-05-14T02:23:27.878483Z",
     "iopub.status.idle": "2025-05-14T02:23:27.891785Z",
     "shell.execute_reply": "2025-05-14T02:23:27.890815Z",
     "shell.execute_reply.started": "2025-05-14T02:23:27.879055Z"
    }
   },
   "outputs": [
    {
     "data": {
      "text/plain": [
       "['euclidean',\n",
       " 'braycurtis',\n",
       " 'canberra',\n",
       " 'cityblock',\n",
       " 'chebyshev',\n",
       " 'clark',\n",
       " 'correlation',\n",
       " 'cosine',\n",
       " 'hellinger',\n",
       " 'jaccard',\n",
       " 'lorentzian',\n",
       " 'marylandbridge',\n",
       " 'meehl',\n",
       " 'soergel',\n",
       " 'wave_hedges',\n",
       " 'kulczynski',\n",
       " 'add_chisq',\n",
       " 'acc',\n",
       " 'chebyshev_min',\n",
       " 'dice',\n",
       " 'divergence',\n",
       " 'google',\n",
       " 'jeffreys',\n",
       " 'kumarjohnson',\n",
       " 'penroseshape',\n",
       " 'squared_chisq',\n",
       " 'squaredchord',\n",
       " 'squared_euclidean',\n",
       " 'taneja',\n",
       " 'topsoe',\n",
       " 'vicis_symmetric_chisq',\n",
       " 'vicis_wave_hedges']"
      ]
     },
     "execution_count": 22,
     "metadata": {},
     "output_type": "execute_result"
    }
   ],
   "source": [
    "unique_metrics"
   ]
  }
 ],
 "metadata": {
  "kernelspec": {
   "display_name": "Python 3 (ipykernel)",
   "language": "python",
   "name": "python3"
  },
  "language_info": {
   "codemirror_mode": {
    "name": "ipython",
    "version": 3
   },
   "file_extension": ".py",
   "mimetype": "text/x-python",
   "name": "python",
   "nbconvert_exporter": "python",
   "pygments_lexer": "ipython3",
   "version": "3.12.4"
  }
 },
 "nbformat": 4,
 "nbformat_minor": 5
}
