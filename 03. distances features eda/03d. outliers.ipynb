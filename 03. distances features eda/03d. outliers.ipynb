{
 "cells": [
  {
   "cell_type": "code",
   "execution_count": 1,
   "id": "2cac55de-d790-41de-ab77-5f21a1d880aa",
   "metadata": {
    "execution": {
     "iopub.execute_input": "2025-05-13T02:55:58.927345Z",
     "iopub.status.busy": "2025-05-13T02:55:58.926950Z",
     "iopub.status.idle": "2025-05-13T02:56:00.174681Z",
     "shell.execute_reply": "2025-05-13T02:56:00.174376Z",
     "shell.execute_reply.started": "2025-05-13T02:55:58.927307Z"
    }
   },
   "outputs": [],
   "source": [
    "import numpy as np\n",
    "import pandas as pd\n",
    "import matplotlib.pyplot as plt\n",
    "import seaborn as sns\n",
    "import json\n",
    "import os\n",
    "from sklearn.model_selection import cross_val_predict, train_test_split\n",
    "from sklearn.metrics import accuracy_score, f1_score, matthews_corrcoef\n",
    "import distclassipy as dcpy\n",
    "from tqdm.auto import tqdm\n",
    "\n",
    "os.chdir(\"../\")\n",
    "from pathlib import Path\n",
    "import matplotlib.gridspec as gridspec\n",
    "import sys\n",
    "\n",
    "sys.path.append(\"scripts\")\n",
    "import utils"
   ]
  },
  {
   "cell_type": "code",
   "execution_count": 2,
   "id": "62d3b4c3-2136-4f60-934d-dfa1d1841e3a",
   "metadata": {
    "execution": {
     "iopub.execute_input": "2025-05-13T02:56:00.175206Z",
     "iopub.status.busy": "2025-05-13T02:56:00.175081Z",
     "iopub.status.idle": "2025-05-13T02:56:00.177800Z",
     "shell.execute_reply": "2025-05-13T02:56:00.177563Z",
     "shell.execute_reply.started": "2025-05-13T02:56:00.175197Z"
    }
   },
   "outputs": [],
   "source": [
    "with open(\"settings.txt\") as f:\n",
    "    settings_dict = json.load(f)\n",
    "seed_val = settings_dict[\"seed_choice\"]\n",
    "np.random.seed(seed_val)\n",
    "sns_dict = settings_dict[\"sns_dict\"]\n",
    "sns.set_theme(**sns_dict)"
   ]
  },
  {
   "cell_type": "code",
   "execution_count": 3,
   "id": "a936f3d6-84ea-4695-a2e0-47ff74e7ebf0",
   "metadata": {
    "execution": {
     "iopub.execute_input": "2025-05-13T02:56:00.178189Z",
     "iopub.status.busy": "2025-05-13T02:56:00.178107Z",
     "iopub.status.idle": "2025-05-13T02:56:00.181795Z",
     "shell.execute_reply": "2025-05-13T02:56:00.180477Z",
     "shell.execute_reply.started": "2025-05-13T02:56:00.178181Z"
    }
   },
   "outputs": [],
   "source": [
    "# custom_hues = [\"#3B4CC0\", \"#1FA187\", \"#FBAE17\", \"#D21F26\"]\n",
    "ibm_palette_hues = [\"#648FFF\", \"#785EF0\", \"#DC267F\", \"#FE6100\", \"#FFB000\"]\n",
    "# https://davidmathlogic.com/colorblind/\n",
    "sns.set_palette(ibm_palette_hues)"
   ]
  },
  {
   "cell_type": "code",
   "execution_count": 4,
   "id": "0bcf863e-a588-4e70-9089-afae935891f2",
   "metadata": {
    "execution": {
     "iopub.execute_input": "2025-05-13T02:56:00.183535Z",
     "iopub.status.busy": "2025-05-13T02:56:00.183405Z",
     "iopub.status.idle": "2025-05-13T02:56:00.189297Z",
     "shell.execute_reply": "2025-05-13T02:56:00.187576Z",
     "shell.execute_reply.started": "2025-05-13T02:56:00.183510Z"
    }
   },
   "outputs": [],
   "source": [
    "# all_metrics = settings_dict[\"all_metrics\"]\n",
    "# all_metrics = dcpy._ALL_METRICS\n",
    "all_metrics = ['euclidean',\n",
    " 'braycurtis',\n",
    " 'canberra',\n",
    " 'cityblock',\n",
    " 'chebyshev',\n",
    " 'clark',\n",
    " 'correlation',\n",
    " 'cosine',\n",
    " 'hellinger',\n",
    " 'jaccard',\n",
    " 'lorentzian',\n",
    " 'marylandbridge',\n",
    " 'meehl',\n",
    " # 'motyka',\n",
    " 'soergel',\n",
    " 'wave_hedges',\n",
    " 'kulczynski',\n",
    " 'add_chisq',\n",
    " 'acc',\n",
    " 'chebyshev_min',\n",
    " # 'czekanowski',\n",
    " 'dice',\n",
    " 'divergence',\n",
    " 'google',\n",
    " # 'gower',\n",
    " 'jeffreys',\n",
    " # 'jensenshannon_divergence',\n",
    " # 'jensen_difference',\n",
    " 'kumarjohnson',\n",
    " # 'matusita',\n",
    " # 'minkowski',\n",
    " 'penroseshape',\n",
    " # 'prob_chisq',\n",
    " # 'ruzicka',\n",
    " # 'sorensen',\n",
    " 'squared_chisq',\n",
    " 'squaredchord',\n",
    " 'squared_euclidean',\n",
    " 'taneja',\n",
    " # 'tanimoto',\n",
    " 'topsoe',\n",
    " 'vicis_symmetric_chisq',\n",
    " 'vicis_wave_hedges']\n"
   ]
  },
  {
   "cell_type": "code",
   "execution_count": 5,
   "id": "3eb86188-440a-42a0-97ea-cd8eec16e134",
   "metadata": {
    "execution": {
     "iopub.execute_input": "2025-05-13T02:56:00.190881Z",
     "iopub.status.busy": "2025-05-13T02:56:00.190769Z",
     "iopub.status.idle": "2025-05-13T02:56:00.505616Z",
     "shell.execute_reply": "2025-05-13T02:56:00.505230Z",
     "shell.execute_reply.started": "2025-05-13T02:56:00.190872Z"
    }
   },
   "outputs": [
    {
     "data": {
      "text/plain": [
       "class\n",
       "EB      98473\n",
       "RRL     45096\n",
       "DSCT     8245\n",
       "CEP      1662\n",
       "Name: count, dtype: int64"
      ]
     },
     "execution_count": 5,
     "metadata": {},
     "output_type": "execute_result"
    }
   ],
   "source": [
    "reduced_features = pd.read_parquet(\"data/reduced_features.parquet\")\n",
    "reduced_features[\"class\"].value_counts()"
   ]
  },
  {
   "cell_type": "code",
   "execution_count": 6,
   "id": "47eb954f-8a79-490f-b6f1-2b26b506dbf8",
   "metadata": {
    "execution": {
     "iopub.execute_input": "2025-05-13T02:56:00.508422Z",
     "iopub.status.busy": "2025-05-13T02:56:00.508336Z",
     "iopub.status.idle": "2025-05-13T02:56:00.527302Z",
     "shell.execute_reply": "2025-05-13T02:56:00.526887Z",
     "shell.execute_reply.started": "2025-05-13T02:56:00.508413Z"
    }
   },
   "outputs": [
    {
     "name": "stdout",
     "output_type": "stream",
     "text": [
      "Features: ['Power_rate_4', 'Harmonics_mag_5_Y', 'r-i', 'Multiband_period']\n"
     ]
    }
   ],
   "source": [
    "# n_cols = 5\n",
    "n_objs = 1000\n",
    "\n",
    "# 69% Features: ['Harmonics_phase_5_Y', 'Harmonics_mse_Y', 'Harmonics_mag_7_Y', 'Harmonics_phase_3_z', 'n_forced_phot_band_after_Y', 'Harmonics_phase_4_g', 'max_brightness_after_band_g', 'Harmonics_phase_2_z', 'Harmonics_phase_2_z', 'Harmonics_phase_3_z']\n",
    "# 65% Features: ['Harmonics_phase_6_r', 'Power_rate_4', 'Harmonics_mag_5_Y', 'Harmonics_phase_3_g', 'r-i']\n",
    "# 80% Features: ['Power_rate_4', 'Harmonics_mag_5_Y', 'Harmonics_phase_3_r', 'r-i']\n",
    "\n",
    "col_select = [\"Power_rate_4\", \"Harmonics_mag_5_Y\", \"r-i\", \"Multiband_period\"]\n",
    "print(f\"Features: {col_select}\")\n",
    "temp = reduced_features.loc[:, col_select + [\"class\"]].dropna()\n",
    "assert (temp[\"class\"].value_counts() > n_objs).all()"
   ]
  },
  {
   "cell_type": "code",
   "execution_count": 7,
   "id": "6e2fd435-f19d-4c7a-8420-5f48d1143171",
   "metadata": {
    "execution": {
     "iopub.execute_input": "2025-05-13T02:56:00.662001Z",
     "iopub.status.busy": "2025-05-13T02:56:00.661799Z",
     "iopub.status.idle": "2025-05-13T02:56:00.672695Z",
     "shell.execute_reply": "2025-05-13T02:56:00.672337Z",
     "shell.execute_reply.started": "2025-05-13T02:56:00.661986Z"
    }
   },
   "outputs": [],
   "source": [
    "# temp = temp.groupby(\"class\").sample(n=n_objs)\n",
    "temp = temp.sample(frac=1, random_state=seed_val)"
   ]
  },
  {
   "cell_type": "code",
   "execution_count": 8,
   "id": "b6c19a5f-3641-4f35-9b8a-d5486aff57ed",
   "metadata": {
    "execution": {
     "iopub.execute_input": "2025-05-13T02:56:01.605251Z",
     "iopub.status.busy": "2025-05-13T02:56:01.604447Z",
     "iopub.status.idle": "2025-05-13T02:56:01.617850Z",
     "shell.execute_reply": "2025-05-13T02:56:01.615925Z",
     "shell.execute_reply.started": "2025-05-13T02:56:01.605220Z"
    }
   },
   "outputs": [],
   "source": [
    "X = temp[col_select].to_numpy()\n",
    "y = temp[\"class\"].to_numpy()"
   ]
  },
  {
   "cell_type": "code",
   "execution_count": 9,
   "id": "6bc6759e-41dc-47d1-abc7-b2c5250ea7aa",
   "metadata": {
    "execution": {
     "iopub.execute_input": "2025-05-13T02:56:02.010945Z",
     "iopub.status.busy": "2025-05-13T02:56:02.010303Z",
     "iopub.status.idle": "2025-05-13T02:56:02.116022Z",
     "shell.execute_reply": "2025-05-13T02:56:02.115735Z",
     "shell.execute_reply.started": "2025-05-13T02:56:02.010914Z"
    }
   },
   "outputs": [],
   "source": [
    "X_train, X_test, y_train, y_test = train_test_split(\n",
    "    X, y, test_size=0.2, stratify=y, random_state=settings_dict[\"seed_choice\"]\n",
    ")"
   ]
  },
  {
   "cell_type": "code",
   "execution_count": 10,
   "id": "d76a95bc-3cb7-4a7a-9eb0-a23d24d70d11",
   "metadata": {
    "execution": {
     "iopub.execute_input": "2025-05-13T02:56:02.766086Z",
     "iopub.status.busy": "2025-05-13T02:56:02.765710Z",
     "iopub.status.idle": "2025-05-13T02:56:02.770476Z",
     "shell.execute_reply": "2025-05-13T02:56:02.769784Z",
     "shell.execute_reply.started": "2025-05-13T02:56:02.766063Z"
    }
   },
   "outputs": [],
   "source": [
    "lcdc = dcpy.DistanceMetricClassifier(\n",
    "    scale=True,\n",
    "    central_stat=\"median\",\n",
    "    dispersion_stat=\"std\",\n",
    ")"
   ]
  },
  {
   "cell_type": "code",
   "execution_count": 11,
   "id": "656bf062-4b54-4185-9670-0a2e85495f75",
   "metadata": {
    "execution": {
     "iopub.execute_input": "2025-05-13T02:56:03.158070Z",
     "iopub.status.busy": "2025-05-13T02:56:03.157287Z",
     "iopub.status.idle": "2025-05-13T02:56:03.247308Z",
     "shell.execute_reply": "2025-05-13T02:56:03.246847Z",
     "shell.execute_reply.started": "2025-05-13T02:56:03.158036Z"
    }
   },
   "outputs": [
    {
     "data": {
      "text/html": [
       "<style>#sk-container-id-1 {\n",
       "  /* Definition of color scheme common for light and dark mode */\n",
       "  --sklearn-color-text: #000;\n",
       "  --sklearn-color-text-muted: #666;\n",
       "  --sklearn-color-line: gray;\n",
       "  /* Definition of color scheme for unfitted estimators */\n",
       "  --sklearn-color-unfitted-level-0: #fff5e6;\n",
       "  --sklearn-color-unfitted-level-1: #f6e4d2;\n",
       "  --sklearn-color-unfitted-level-2: #ffe0b3;\n",
       "  --sklearn-color-unfitted-level-3: chocolate;\n",
       "  /* Definition of color scheme for fitted estimators */\n",
       "  --sklearn-color-fitted-level-0: #f0f8ff;\n",
       "  --sklearn-color-fitted-level-1: #d4ebff;\n",
       "  --sklearn-color-fitted-level-2: #b3dbfd;\n",
       "  --sklearn-color-fitted-level-3: cornflowerblue;\n",
       "\n",
       "  /* Specific color for light theme */\n",
       "  --sklearn-color-text-on-default-background: var(--sg-text-color, var(--theme-code-foreground, var(--jp-content-font-color1, black)));\n",
       "  --sklearn-color-background: var(--sg-background-color, var(--theme-background, var(--jp-layout-color0, white)));\n",
       "  --sklearn-color-border-box: var(--sg-text-color, var(--theme-code-foreground, var(--jp-content-font-color1, black)));\n",
       "  --sklearn-color-icon: #696969;\n",
       "\n",
       "  @media (prefers-color-scheme: dark) {\n",
       "    /* Redefinition of color scheme for dark theme */\n",
       "    --sklearn-color-text-on-default-background: var(--sg-text-color, var(--theme-code-foreground, var(--jp-content-font-color1, white)));\n",
       "    --sklearn-color-background: var(--sg-background-color, var(--theme-background, var(--jp-layout-color0, #111)));\n",
       "    --sklearn-color-border-box: var(--sg-text-color, var(--theme-code-foreground, var(--jp-content-font-color1, white)));\n",
       "    --sklearn-color-icon: #878787;\n",
       "  }\n",
       "}\n",
       "\n",
       "#sk-container-id-1 {\n",
       "  color: var(--sklearn-color-text);\n",
       "}\n",
       "\n",
       "#sk-container-id-1 pre {\n",
       "  padding: 0;\n",
       "}\n",
       "\n",
       "#sk-container-id-1 input.sk-hidden--visually {\n",
       "  border: 0;\n",
       "  clip: rect(1px 1px 1px 1px);\n",
       "  clip: rect(1px, 1px, 1px, 1px);\n",
       "  height: 1px;\n",
       "  margin: -1px;\n",
       "  overflow: hidden;\n",
       "  padding: 0;\n",
       "  position: absolute;\n",
       "  width: 1px;\n",
       "}\n",
       "\n",
       "#sk-container-id-1 div.sk-dashed-wrapped {\n",
       "  border: 1px dashed var(--sklearn-color-line);\n",
       "  margin: 0 0.4em 0.5em 0.4em;\n",
       "  box-sizing: border-box;\n",
       "  padding-bottom: 0.4em;\n",
       "  background-color: var(--sklearn-color-background);\n",
       "}\n",
       "\n",
       "#sk-container-id-1 div.sk-container {\n",
       "  /* jupyter's `normalize.less` sets `[hidden] { display: none; }`\n",
       "     but bootstrap.min.css set `[hidden] { display: none !important; }`\n",
       "     so we also need the `!important` here to be able to override the\n",
       "     default hidden behavior on the sphinx rendered scikit-learn.org.\n",
       "     See: https://github.com/scikit-learn/scikit-learn/issues/21755 */\n",
       "  display: inline-block !important;\n",
       "  position: relative;\n",
       "}\n",
       "\n",
       "#sk-container-id-1 div.sk-text-repr-fallback {\n",
       "  display: none;\n",
       "}\n",
       "\n",
       "div.sk-parallel-item,\n",
       "div.sk-serial,\n",
       "div.sk-item {\n",
       "  /* draw centered vertical line to link estimators */\n",
       "  background-image: linear-gradient(var(--sklearn-color-text-on-default-background), var(--sklearn-color-text-on-default-background));\n",
       "  background-size: 2px 100%;\n",
       "  background-repeat: no-repeat;\n",
       "  background-position: center center;\n",
       "}\n",
       "\n",
       "/* Parallel-specific style estimator block */\n",
       "\n",
       "#sk-container-id-1 div.sk-parallel-item::after {\n",
       "  content: \"\";\n",
       "  width: 100%;\n",
       "  border-bottom: 2px solid var(--sklearn-color-text-on-default-background);\n",
       "  flex-grow: 1;\n",
       "}\n",
       "\n",
       "#sk-container-id-1 div.sk-parallel {\n",
       "  display: flex;\n",
       "  align-items: stretch;\n",
       "  justify-content: center;\n",
       "  background-color: var(--sklearn-color-background);\n",
       "  position: relative;\n",
       "}\n",
       "\n",
       "#sk-container-id-1 div.sk-parallel-item {\n",
       "  display: flex;\n",
       "  flex-direction: column;\n",
       "}\n",
       "\n",
       "#sk-container-id-1 div.sk-parallel-item:first-child::after {\n",
       "  align-self: flex-end;\n",
       "  width: 50%;\n",
       "}\n",
       "\n",
       "#sk-container-id-1 div.sk-parallel-item:last-child::after {\n",
       "  align-self: flex-start;\n",
       "  width: 50%;\n",
       "}\n",
       "\n",
       "#sk-container-id-1 div.sk-parallel-item:only-child::after {\n",
       "  width: 0;\n",
       "}\n",
       "\n",
       "/* Serial-specific style estimator block */\n",
       "\n",
       "#sk-container-id-1 div.sk-serial {\n",
       "  display: flex;\n",
       "  flex-direction: column;\n",
       "  align-items: center;\n",
       "  background-color: var(--sklearn-color-background);\n",
       "  padding-right: 1em;\n",
       "  padding-left: 1em;\n",
       "}\n",
       "\n",
       "\n",
       "/* Toggleable style: style used for estimator/Pipeline/ColumnTransformer box that is\n",
       "clickable and can be expanded/collapsed.\n",
       "- Pipeline and ColumnTransformer use this feature and define the default style\n",
       "- Estimators will overwrite some part of the style using the `sk-estimator` class\n",
       "*/\n",
       "\n",
       "/* Pipeline and ColumnTransformer style (default) */\n",
       "\n",
       "#sk-container-id-1 div.sk-toggleable {\n",
       "  /* Default theme specific background. It is overwritten whether we have a\n",
       "  specific estimator or a Pipeline/ColumnTransformer */\n",
       "  background-color: var(--sklearn-color-background);\n",
       "}\n",
       "\n",
       "/* Toggleable label */\n",
       "#sk-container-id-1 label.sk-toggleable__label {\n",
       "  cursor: pointer;\n",
       "  display: flex;\n",
       "  width: 100%;\n",
       "  margin-bottom: 0;\n",
       "  padding: 0.5em;\n",
       "  box-sizing: border-box;\n",
       "  text-align: center;\n",
       "  align-items: start;\n",
       "  justify-content: space-between;\n",
       "  gap: 0.5em;\n",
       "}\n",
       "\n",
       "#sk-container-id-1 label.sk-toggleable__label .caption {\n",
       "  font-size: 0.6rem;\n",
       "  font-weight: lighter;\n",
       "  color: var(--sklearn-color-text-muted);\n",
       "}\n",
       "\n",
       "#sk-container-id-1 label.sk-toggleable__label-arrow:before {\n",
       "  /* Arrow on the left of the label */\n",
       "  content: \"▸\";\n",
       "  float: left;\n",
       "  margin-right: 0.25em;\n",
       "  color: var(--sklearn-color-icon);\n",
       "}\n",
       "\n",
       "#sk-container-id-1 label.sk-toggleable__label-arrow:hover:before {\n",
       "  color: var(--sklearn-color-text);\n",
       "}\n",
       "\n",
       "/* Toggleable content - dropdown */\n",
       "\n",
       "#sk-container-id-1 div.sk-toggleable__content {\n",
       "  max-height: 0;\n",
       "  max-width: 0;\n",
       "  overflow: hidden;\n",
       "  text-align: left;\n",
       "  /* unfitted */\n",
       "  background-color: var(--sklearn-color-unfitted-level-0);\n",
       "}\n",
       "\n",
       "#sk-container-id-1 div.sk-toggleable__content.fitted {\n",
       "  /* fitted */\n",
       "  background-color: var(--sklearn-color-fitted-level-0);\n",
       "}\n",
       "\n",
       "#sk-container-id-1 div.sk-toggleable__content pre {\n",
       "  margin: 0.2em;\n",
       "  border-radius: 0.25em;\n",
       "  color: var(--sklearn-color-text);\n",
       "  /* unfitted */\n",
       "  background-color: var(--sklearn-color-unfitted-level-0);\n",
       "}\n",
       "\n",
       "#sk-container-id-1 div.sk-toggleable__content.fitted pre {\n",
       "  /* unfitted */\n",
       "  background-color: var(--sklearn-color-fitted-level-0);\n",
       "}\n",
       "\n",
       "#sk-container-id-1 input.sk-toggleable__control:checked~div.sk-toggleable__content {\n",
       "  /* Expand drop-down */\n",
       "  max-height: 200px;\n",
       "  max-width: 100%;\n",
       "  overflow: auto;\n",
       "}\n",
       "\n",
       "#sk-container-id-1 input.sk-toggleable__control:checked~label.sk-toggleable__label-arrow:before {\n",
       "  content: \"▾\";\n",
       "}\n",
       "\n",
       "/* Pipeline/ColumnTransformer-specific style */\n",
       "\n",
       "#sk-container-id-1 div.sk-label input.sk-toggleable__control:checked~label.sk-toggleable__label {\n",
       "  color: var(--sklearn-color-text);\n",
       "  background-color: var(--sklearn-color-unfitted-level-2);\n",
       "}\n",
       "\n",
       "#sk-container-id-1 div.sk-label.fitted input.sk-toggleable__control:checked~label.sk-toggleable__label {\n",
       "  background-color: var(--sklearn-color-fitted-level-2);\n",
       "}\n",
       "\n",
       "/* Estimator-specific style */\n",
       "\n",
       "/* Colorize estimator box */\n",
       "#sk-container-id-1 div.sk-estimator input.sk-toggleable__control:checked~label.sk-toggleable__label {\n",
       "  /* unfitted */\n",
       "  background-color: var(--sklearn-color-unfitted-level-2);\n",
       "}\n",
       "\n",
       "#sk-container-id-1 div.sk-estimator.fitted input.sk-toggleable__control:checked~label.sk-toggleable__label {\n",
       "  /* fitted */\n",
       "  background-color: var(--sklearn-color-fitted-level-2);\n",
       "}\n",
       "\n",
       "#sk-container-id-1 div.sk-label label.sk-toggleable__label,\n",
       "#sk-container-id-1 div.sk-label label {\n",
       "  /* The background is the default theme color */\n",
       "  color: var(--sklearn-color-text-on-default-background);\n",
       "}\n",
       "\n",
       "/* On hover, darken the color of the background */\n",
       "#sk-container-id-1 div.sk-label:hover label.sk-toggleable__label {\n",
       "  color: var(--sklearn-color-text);\n",
       "  background-color: var(--sklearn-color-unfitted-level-2);\n",
       "}\n",
       "\n",
       "/* Label box, darken color on hover, fitted */\n",
       "#sk-container-id-1 div.sk-label.fitted:hover label.sk-toggleable__label.fitted {\n",
       "  color: var(--sklearn-color-text);\n",
       "  background-color: var(--sklearn-color-fitted-level-2);\n",
       "}\n",
       "\n",
       "/* Estimator label */\n",
       "\n",
       "#sk-container-id-1 div.sk-label label {\n",
       "  font-family: monospace;\n",
       "  font-weight: bold;\n",
       "  display: inline-block;\n",
       "  line-height: 1.2em;\n",
       "}\n",
       "\n",
       "#sk-container-id-1 div.sk-label-container {\n",
       "  text-align: center;\n",
       "}\n",
       "\n",
       "/* Estimator-specific */\n",
       "#sk-container-id-1 div.sk-estimator {\n",
       "  font-family: monospace;\n",
       "  border: 1px dotted var(--sklearn-color-border-box);\n",
       "  border-radius: 0.25em;\n",
       "  box-sizing: border-box;\n",
       "  margin-bottom: 0.5em;\n",
       "  /* unfitted */\n",
       "  background-color: var(--sklearn-color-unfitted-level-0);\n",
       "}\n",
       "\n",
       "#sk-container-id-1 div.sk-estimator.fitted {\n",
       "  /* fitted */\n",
       "  background-color: var(--sklearn-color-fitted-level-0);\n",
       "}\n",
       "\n",
       "/* on hover */\n",
       "#sk-container-id-1 div.sk-estimator:hover {\n",
       "  /* unfitted */\n",
       "  background-color: var(--sklearn-color-unfitted-level-2);\n",
       "}\n",
       "\n",
       "#sk-container-id-1 div.sk-estimator.fitted:hover {\n",
       "  /* fitted */\n",
       "  background-color: var(--sklearn-color-fitted-level-2);\n",
       "}\n",
       "\n",
       "/* Specification for estimator info (e.g. \"i\" and \"?\") */\n",
       "\n",
       "/* Common style for \"i\" and \"?\" */\n",
       "\n",
       ".sk-estimator-doc-link,\n",
       "a:link.sk-estimator-doc-link,\n",
       "a:visited.sk-estimator-doc-link {\n",
       "  float: right;\n",
       "  font-size: smaller;\n",
       "  line-height: 1em;\n",
       "  font-family: monospace;\n",
       "  background-color: var(--sklearn-color-background);\n",
       "  border-radius: 1em;\n",
       "  height: 1em;\n",
       "  width: 1em;\n",
       "  text-decoration: none !important;\n",
       "  margin-left: 0.5em;\n",
       "  text-align: center;\n",
       "  /* unfitted */\n",
       "  border: var(--sklearn-color-unfitted-level-1) 1pt solid;\n",
       "  color: var(--sklearn-color-unfitted-level-1);\n",
       "}\n",
       "\n",
       ".sk-estimator-doc-link.fitted,\n",
       "a:link.sk-estimator-doc-link.fitted,\n",
       "a:visited.sk-estimator-doc-link.fitted {\n",
       "  /* fitted */\n",
       "  border: var(--sklearn-color-fitted-level-1) 1pt solid;\n",
       "  color: var(--sklearn-color-fitted-level-1);\n",
       "}\n",
       "\n",
       "/* On hover */\n",
       "div.sk-estimator:hover .sk-estimator-doc-link:hover,\n",
       ".sk-estimator-doc-link:hover,\n",
       "div.sk-label-container:hover .sk-estimator-doc-link:hover,\n",
       ".sk-estimator-doc-link:hover {\n",
       "  /* unfitted */\n",
       "  background-color: var(--sklearn-color-unfitted-level-3);\n",
       "  color: var(--sklearn-color-background);\n",
       "  text-decoration: none;\n",
       "}\n",
       "\n",
       "div.sk-estimator.fitted:hover .sk-estimator-doc-link.fitted:hover,\n",
       ".sk-estimator-doc-link.fitted:hover,\n",
       "div.sk-label-container:hover .sk-estimator-doc-link.fitted:hover,\n",
       ".sk-estimator-doc-link.fitted:hover {\n",
       "  /* fitted */\n",
       "  background-color: var(--sklearn-color-fitted-level-3);\n",
       "  color: var(--sklearn-color-background);\n",
       "  text-decoration: none;\n",
       "}\n",
       "\n",
       "/* Span, style for the box shown on hovering the info icon */\n",
       ".sk-estimator-doc-link span {\n",
       "  display: none;\n",
       "  z-index: 9999;\n",
       "  position: relative;\n",
       "  font-weight: normal;\n",
       "  right: .2ex;\n",
       "  padding: .5ex;\n",
       "  margin: .5ex;\n",
       "  width: min-content;\n",
       "  min-width: 20ex;\n",
       "  max-width: 50ex;\n",
       "  color: var(--sklearn-color-text);\n",
       "  box-shadow: 2pt 2pt 4pt #999;\n",
       "  /* unfitted */\n",
       "  background: var(--sklearn-color-unfitted-level-0);\n",
       "  border: .5pt solid var(--sklearn-color-unfitted-level-3);\n",
       "}\n",
       "\n",
       ".sk-estimator-doc-link.fitted span {\n",
       "  /* fitted */\n",
       "  background: var(--sklearn-color-fitted-level-0);\n",
       "  border: var(--sklearn-color-fitted-level-3);\n",
       "}\n",
       "\n",
       ".sk-estimator-doc-link:hover span {\n",
       "  display: block;\n",
       "}\n",
       "\n",
       "/* \"?\"-specific style due to the `<a>` HTML tag */\n",
       "\n",
       "#sk-container-id-1 a.estimator_doc_link {\n",
       "  float: right;\n",
       "  font-size: 1rem;\n",
       "  line-height: 1em;\n",
       "  font-family: monospace;\n",
       "  background-color: var(--sklearn-color-background);\n",
       "  border-radius: 1rem;\n",
       "  height: 1rem;\n",
       "  width: 1rem;\n",
       "  text-decoration: none;\n",
       "  /* unfitted */\n",
       "  color: var(--sklearn-color-unfitted-level-1);\n",
       "  border: var(--sklearn-color-unfitted-level-1) 1pt solid;\n",
       "}\n",
       "\n",
       "#sk-container-id-1 a.estimator_doc_link.fitted {\n",
       "  /* fitted */\n",
       "  border: var(--sklearn-color-fitted-level-1) 1pt solid;\n",
       "  color: var(--sklearn-color-fitted-level-1);\n",
       "}\n",
       "\n",
       "/* On hover */\n",
       "#sk-container-id-1 a.estimator_doc_link:hover {\n",
       "  /* unfitted */\n",
       "  background-color: var(--sklearn-color-unfitted-level-3);\n",
       "  color: var(--sklearn-color-background);\n",
       "  text-decoration: none;\n",
       "}\n",
       "\n",
       "#sk-container-id-1 a.estimator_doc_link.fitted:hover {\n",
       "  /* fitted */\n",
       "  background-color: var(--sklearn-color-fitted-level-3);\n",
       "}\n",
       "</style><div id=\"sk-container-id-1\" class=\"sk-top-container\"><div class=\"sk-text-repr-fallback\"><pre>DistanceMetricClassifier()</pre><b>In a Jupyter environment, please rerun this cell to show the HTML representation or trust the notebook. <br />On GitHub, the HTML representation is unable to render, please try loading this page with nbviewer.org.</b></div><div class=\"sk-container\" hidden><div class=\"sk-item\"><div class=\"sk-estimator fitted sk-toggleable\"><input class=\"sk-toggleable__control sk-hidden--visually\" id=\"sk-estimator-id-1\" type=\"checkbox\" checked><label for=\"sk-estimator-id-1\" class=\"sk-toggleable__label fitted sk-toggleable__label-arrow\"><div><div>DistanceMetricClassifier</div></div><div><span class=\"sk-estimator-doc-link fitted\">i<span>Fitted</span></span></div></label><div class=\"sk-toggleable__content fitted\"><pre>DistanceMetricClassifier()</pre></div> </div></div></div></div>"
      ],
      "text/plain": [
       "DistanceMetricClassifier()"
      ]
     },
     "execution_count": 11,
     "metadata": {},
     "output_type": "execute_result"
    }
   ],
   "source": [
    "lcdc.fit(X_train, y_train)"
   ]
  },
  {
   "cell_type": "code",
   "execution_count": 12,
   "id": "b2c0452a-762e-4663-a063-e3f9d7602f95",
   "metadata": {
    "execution": {
     "iopub.execute_input": "2025-05-13T02:56:03.768437Z",
     "iopub.status.busy": "2025-05-13T02:56:03.767956Z",
     "iopub.status.idle": "2025-05-13T02:56:03.855932Z",
     "shell.execute_reply": "2025-05-13T02:56:03.855551Z",
     "shell.execute_reply.started": "2025-05-13T02:56:03.768412Z"
    }
   },
   "outputs": [],
   "source": [
    "y_pred_test = lcdc.predict_and_analyse(X_test, metric=\"canberra\")\n",
    "y_testdf = pd.DataFrame(data=y_test, columns=[\"class\"])\n",
    "y_testdf[\"pred\"] = y_pred_test"
   ]
  },
  {
   "cell_type": "code",
   "execution_count": 13,
   "id": "8d9948ea-8344-4910-ac97-0c8e957d5078",
   "metadata": {
    "execution": {
     "iopub.execute_input": "2025-05-13T02:56:07.319906Z",
     "iopub.status.busy": "2025-05-13T02:56:07.319211Z",
     "iopub.status.idle": "2025-05-13T02:56:07.513961Z",
     "shell.execute_reply": "2025-05-13T02:56:07.513697Z",
     "shell.execute_reply.started": "2025-05-13T02:56:07.319852Z"
    }
   },
   "outputs": [
    {
     "data": {
      "image/png": "[encoded data removed]",
      "text/plain": [
       "<Figure size 640x480 with 1 Axes>"
      ]
     },
     "metadata": {},
     "output_type": "display_data"
    },
    {
     "name": "stdout",
     "output_type": "stream",
     "text": [
      "F1 = 61.33 %\n",
      "Accuracy = 70.24 %\n",
      "Matthew's Coefficient = 52.22 %\n"
     ]
    }
   ],
   "source": [
    "acc = accuracy_score(y_test, y_pred_test)\n",
    "f1score = f1_score(y_test, y_pred_test, average=\"macro\")\n",
    "matthew_coef = matthews_corrcoef(y_test, y_pred_test)\n",
    "\n",
    "ax = utils.plot_cm(y_true=y_test, y_pred=y_pred_test)\n",
    "ax.set_title(f\"Canberra metric\")\n",
    "plt.show()\n",
    "\n",
    "print(\n",
    "    f\"F1 = {f1score*100:.2f} %\\nAccuracy = {acc*100:.2f} %\\nMatthew's Coefficient = {matthew_coef*100:.2f} %\"\n",
    ")"
   ]
  },
  {
   "cell_type": "code",
   "execution_count": 14,
   "id": "e16694dc-6b94-49be-8ff3-5e82877b7529",
   "metadata": {
    "execution": {
     "iopub.execute_input": "2025-05-13T02:56:11.160558Z",
     "iopub.status.busy": "2025-05-13T02:56:11.160150Z",
     "iopub.status.idle": "2025-05-13T02:56:11.168757Z",
     "shell.execute_reply": "2025-05-13T02:56:11.168030Z",
     "shell.execute_reply.started": "2025-05-13T02:56:11.160530Z"
    }
   },
   "outputs": [],
   "source": [
    "y = temp[\"class\"].to_numpy()\n",
    "X = temp.drop(\"class\", axis=1).to_numpy()"
   ]
  },
  {
   "cell_type": "code",
   "execution_count": 15,
   "id": "0133d81d-d2f2-4469-a77b-8220a3965f06",
   "metadata": {
    "execution": {
     "iopub.execute_input": "2025-05-13T02:56:11.478415Z",
     "iopub.status.busy": "2025-05-13T02:56:11.477469Z",
     "iopub.status.idle": "2025-05-13T02:56:11.485436Z",
     "shell.execute_reply": "2025-05-13T02:56:11.484511Z",
     "shell.execute_reply.started": "2025-05-13T02:56:11.478383Z"
    }
   },
   "outputs": [],
   "source": [
    "# check_sigma = 5\n",
    "# snidflagged = []\n",
    "# for metric in tqdm(all_metrics, desc=\"Metric\", leave=True):\n",
    "#     metric_str = utils.get_metric_name(metric)\n",
    "#     lcdc.fit(X, y)\n",
    "#     _ = lcdc.predict_and_analyse(X, metric=metric)\n",
    "\n",
    "#     dist_df = lcdc.centroid_dist_df_\n",
    "#     dist_df.index=temp.index\n",
    "#     mean_distdf = dist_df.mean()\n",
    "#     sig_distdf = dist_df.std()\n",
    "    \n",
    "#     is_outlier_df = (dist_df < (mean_distdf - check_sigma / 2 * sig_distdf)) | (dist_df > (mean_distdf + check_sigma / 2 * sig_distdf))\n",
    "#     row_has_an_outlier = is_outlier_df.all(axis=1) # far away from all\n",
    "#     outliers = dist_df.loc[row_has_an_outlier]\n",
    "#     snidflagged = snidflagged + list(outliers.index)\n",
    "#     outliers.to_csv(os.path.join(\"results\",f\"outliers_{metric_str}.csv\"))\n",
    "# snidflagged=np.array(snidflagged)\n",
    "# snidflagged = pd.DataFrame(snidflagged, columns=[\"snid\"])"
   ]
  },
  {
   "cell_type": "code",
   "execution_count": 17,
   "id": "fe15b93a-8d0b-4838-909b-4f110f585790",
   "metadata": {
    "execution": {
     "iopub.execute_input": "2025-05-13T02:56:19.992975Z",
     "iopub.status.busy": "2025-05-13T02:56:19.991647Z",
     "iopub.status.idle": "2025-05-13T02:57:48.333167Z",
     "shell.execute_reply": "2025-05-13T02:57:48.330648Z",
     "shell.execute_reply.started": "2025-05-13T02:56:19.992842Z"
    }
   },
   "outputs": [
    {
     "data": {
      "application/vnd.jupyter.widget-view+json": {
       "model_id": "f5179d27c4024ffdad3c4936938fa1da",
       "version_major": 2,
       "version_minor": 0
      },
      "text/plain": [
       "Metric:   0%|          | 0/32 [00:00<?, ?it/s]"
      ]
     },
     "metadata": {},
     "output_type": "display_data"
    }
   ],
   "source": [
    "check_sigma = 5\n",
    "outlier_info_by_snid = {}\n",
    "\n",
    "for metric in tqdm(all_metrics, desc=\"Metric\", leave=True):\n",
    "    metric_str = utils.get_metric_name(metric)\n",
    "    locpath = os.path.join(\"results\", metric_str)\n",
    "    lcdc.fit(X, y)\n",
    "    _ = lcdc.predict_and_analyse(X, metric=metric)\n",
    "\n",
    "    dist_df = lcdc.centroid_dist_df_\n",
    "    dist_df.index=temp.index\n",
    "    mean_distdf = dist_df.mean() # try median\n",
    "    sig_distdf = dist_df.std() # try iqr\n",
    "    \n",
    "    is_outlier_df = (dist_df < (mean_distdf - check_sigma / 2 * sig_distdf)) | (dist_df > (mean_distdf + check_sigma / 2 * sig_distdf))\n",
    "    row_has_an_outlier = is_outlier_df.all(axis=1) # far away from ALL other classes!\n",
    "    current_metric_outliers_df = dist_df.loc[row_has_an_outlier] \n",
    "    \n",
    "    # Record which metric flagged which SNID\n",
    "    for snid_val in current_metric_outliers_df.index:\n",
    "        outlier_info_by_snid.setdefault(snid_val, []).append(metric_str)\n",
    "            \n",
    "    current_metric_outliers_df.to_csv(os.path.join(f\"{locpath}/outliers.csv\"))"
   ]
  },
  {
   "cell_type": "code",
   "execution_count": null,
   "id": "468182a1-364c-4667-a933-18ce03778af2",
   "metadata": {},
   "outputs": [],
   "source": [
    "# Convert the dictionary of outlier information to a DataFrame\n",
    "records = []\n",
    "for snid_val, metrics_list in outlier_info_by_snid.items():\n",
    "    records.append({'snid': snid_val, \n",
    "                    'flagged_by_metrics': metrics_list, \n",
    "                    'num_flagging_metrics': len(metrics_list)})"
   ]
  },
  {
   "cell_type": "code",
   "execution_count": null,
   "id": "f7ab99ae-a41a-4340-a133-d32dccc8403c",
   "metadata": {},
   "outputs": [],
   "source": [
    "snidflagged = pd.DataFrame(records)\n",
    "# Sort by the number of flagging metrics (descending), then by snid (ascending for tie-breaking)\n",
    "snidflagged = snidflagged.sort_values(\n",
    "    by=['num_flagging_metrics', 'snid'], \n",
    "    ascending=[False, True]\n",
    ").reset_index(drop=True)"
   ]
  },
  {
   "cell_type": "code",
   "execution_count": 18,
   "id": "1d9a7cc5-027d-4d21-9aa1-d248d0b75a79",
   "metadata": {
    "execution": {
     "iopub.execute_input": "2025-05-13T02:57:48.338154Z",
     "iopub.status.busy": "2025-05-13T02:57:48.337548Z",
     "iopub.status.idle": "2025-05-13T02:57:48.365431Z",
     "shell.execute_reply": "2025-05-13T02:57:48.364405Z",
     "shell.execute_reply.started": "2025-05-13T02:57:48.338140Z"
    }
   },
   "outputs": [
    {
     "data": {
      "text/plain": [
       "CEP_dist     53.341205\n",
       "DSCT_dist    14.201498\n",
       "EB_dist      10.214498\n",
       "RRL_dist     11.163008\n",
       "dtype: float64"
      ]
     },
     "execution_count": 18,
     "metadata": {},
     "output_type": "execute_result"
    }
   ],
   "source": [
    "dist_df.median()"
   ]
  },
  {
   "cell_type": "code",
   "execution_count": 19,
   "id": "f7a44e51-6937-43bb-b552-50cf033aac74",
   "metadata": {
    "execution": {
     "iopub.execute_input": "2025-05-13T02:57:48.365998Z",
     "iopub.status.busy": "2025-05-13T02:57:48.365900Z",
     "iopub.status.idle": "2025-05-13T02:57:48.390088Z",
     "shell.execute_reply": "2025-05-13T02:57:48.389348Z",
     "shell.execute_reply.started": "2025-05-13T02:57:48.365989Z"
    }
   },
   "outputs": [],
   "source": [
    "records = []\n",
    "for snid_val, metrics_list in outlier_info_by_snid.items():\n",
    "    records.append({'snid': snid_val, \n",
    "                    'flagged_by_metrics': metrics_list, \n",
    "                    'num_flagging_metrics': len(metrics_list)})\n",
    "\n",
    "# Define expected columns to handle empty 'records' gracefully without an if/else\n",
    "snidflagged_columns = ['snid', 'flagged_by_metrics', 'num_flagging_metrics']\n",
    "snidflagged = pd.DataFrame(records, columns=snidflagged_columns)\n",
    "\n",
    "# Add 'class' column from the 'temp' DataFrame.\n",
    "# Assumes 'temp' is indexed by SNID and has a 'target' column for class labels.\n",
    "# Adjust temp['target'] if your class column in 'temp' has a different name,\n",
    "# or if class information is directly in the 'y' Series (e.g., using y.loc[snid_val] or snidflagged['snid'].map(y)).\n",
    "snidflagged['class'] = snidflagged['snid'].map(temp['class'])\n",
    "\n",
    "# Reorder columns for better readability\n",
    "# Ensure 'class' is included, handling the case where it might not have been successfully added\n",
    "final_columns = ['snid', 'class', 'num_flagging_metrics', 'flagged_by_metrics']\n",
    "snidflagged = snidflagged.reindex(columns=final_columns)\n",
    "\n",
    "\n",
    "# Sort by the number of flagging metrics (descending), then by snid (ascending for tie-breaking)\n",
    "# This will work even if snidflagged is empty.\n",
    "snidflagged = snidflagged.sort_values(\n",
    "    by=['num_flagging_metrics', 'snid'], \n",
    "    ascending=[False, True]\n",
    ").reset_index(drop=True)"
   ]
  },
  {
   "cell_type": "code",
   "execution_count": 20,
   "id": "cd5701ca-3de2-4dcc-8e4c-fda94fce8501",
   "metadata": {
    "execution": {
     "iopub.execute_input": "2025-05-13T02:57:48.391884Z",
     "iopub.status.busy": "2025-05-13T02:57:48.391535Z",
     "iopub.status.idle": "2025-05-13T02:57:48.398930Z",
     "shell.execute_reply": "2025-05-13T02:57:48.398326Z",
     "shell.execute_reply.started": "2025-05-13T02:57:48.391872Z"
    }
   },
   "outputs": [
    {
     "data": {
      "text/plain": [
       "class\n",
       "EB      367\n",
       "CEP      47\n",
       "RRL       8\n",
       "DSCT      1\n",
       "Name: count, dtype: int64"
      ]
     },
     "execution_count": 20,
     "metadata": {},
     "output_type": "execute_result"
    }
   ],
   "source": [
    "snidflagged[\"class\"].value_counts()"
   ]
  },
  {
   "cell_type": "code",
   "execution_count": 21,
   "id": "9853e3cb-bf52-4446-9caa-23371cbb800a",
   "metadata": {
    "execution": {
     "iopub.execute_input": "2025-05-13T02:57:48.400989Z",
     "iopub.status.busy": "2025-05-13T02:57:48.400738Z",
     "iopub.status.idle": "2025-05-13T02:57:48.405721Z",
     "shell.execute_reply": "2025-05-13T02:57:48.405331Z",
     "shell.execute_reply.started": "2025-05-13T02:57:48.400946Z"
    }
   },
   "outputs": [
    {
     "data": {
      "text/plain": [
       "0      149102008\n",
       "1       89400191\n",
       "2      111699711\n",
       "3      132147317\n",
       "4      155825094\n",
       "         ...    \n",
       "418    158627057\n",
       "419    159018870\n",
       "420    159274965\n",
       "421    159443675\n",
       "422    159456645\n",
       "Name: snid, Length: 423, dtype: int64"
      ]
     },
     "execution_count": 21,
     "metadata": {},
     "output_type": "execute_result"
    }
   ],
   "source": [
    "snidflagged[\"snid\"]"
   ]
  },
  {
   "cell_type": "code",
   "execution_count": 25,
   "id": "1cd99ab4-06d4-4907-8bc3-6243c9ca6914",
   "metadata": {
    "execution": {
     "iopub.execute_input": "2025-05-13T02:58:40.385496Z",
     "iopub.status.busy": "2025-05-13T02:58:40.373448Z",
     "iopub.status.idle": "2025-05-13T02:58:40.399863Z",
     "shell.execute_reply": "2025-05-13T02:58:40.399171Z",
     "shell.execute_reply.started": "2025-05-13T02:58:40.385427Z"
    }
   },
   "outputs": [
    {
     "data": {
      "text/plain": [
       "snid\n",
       "149102008    0.03125\n",
       "101802759    0.03125\n",
       "108651290    0.03125\n",
       "108559610    0.03125\n",
       "108469927    0.03125\n",
       "              ...   \n",
       "37162103     0.03125\n",
       "36884009     0.03125\n",
       "35652738     0.03125\n",
       "34672398     0.03125\n",
       "159456645    0.03125\n",
       "Name: count, Length: 423, dtype: float64"
      ]
     },
     "execution_count": 25,
     "metadata": {},
     "output_type": "execute_result"
    }
   ],
   "source": [
    "snidflagged[\"snid\"].value_counts() / len(all_metrics)\n",
    "# Percentage of metrics which flagged it as an outlier"
   ]
  },
  {
   "cell_type": "code",
   "execution_count": 26,
   "id": "0fdcf219-6273-44d2-8a01-2a6b4abe9fcf",
   "metadata": {
    "execution": {
     "iopub.execute_input": "2025-05-13T02:58:45.698249Z",
     "iopub.status.busy": "2025-05-13T02:58:45.697163Z",
     "iopub.status.idle": "2025-05-13T02:58:45.713798Z",
     "shell.execute_reply": "2025-05-13T02:58:45.713040Z",
     "shell.execute_reply.started": "2025-05-13T02:58:45.698199Z"
    }
   },
   "outputs": [],
   "source": [
    "outlier_classes = temp.loc[snidflagged[\"snid\"].to_numpy().ravel(), \"class\"]"
   ]
  },
  {
   "cell_type": "code",
   "execution_count": 27,
   "id": "222a9270-c4f8-4e0e-9876-c1a08502e871",
   "metadata": {
    "execution": {
     "iopub.execute_input": "2025-05-13T02:58:46.212685Z",
     "iopub.status.busy": "2025-05-13T02:58:46.211759Z",
     "iopub.status.idle": "2025-05-13T02:58:46.230018Z",
     "shell.execute_reply": "2025-05-13T02:58:46.229207Z",
     "shell.execute_reply.started": "2025-05-13T02:58:46.212631Z"
    },
    "scrolled": true
   },
   "outputs": [
    {
     "data": {
      "text/plain": [
       "array([[ 61],\n",
       "       [ 66],\n",
       "       [ 71],\n",
       "       [ 73],\n",
       "       [ 75],\n",
       "       [ 77],\n",
       "       [ 78],\n",
       "       [ 79],\n",
       "       [ 81],\n",
       "       [ 82],\n",
       "       [ 83],\n",
       "       [ 85],\n",
       "       [ 87],\n",
       "       [ 88],\n",
       "       [ 93],\n",
       "       [ 96],\n",
       "       [ 99],\n",
       "       [106],\n",
       "       [107],\n",
       "       [108],\n",
       "       [110],\n",
       "       [117],\n",
       "       [133],\n",
       "       [140],\n",
       "       [141],\n",
       "       [142],\n",
       "       [147],\n",
       "       [148],\n",
       "       [149],\n",
       "       [153],\n",
       "       [158],\n",
       "       [178],\n",
       "       [184],\n",
       "       [187],\n",
       "       [271],\n",
       "       [273],\n",
       "       [279],\n",
       "       [288],\n",
       "       [298],\n",
       "       [322],\n",
       "       [324],\n",
       "       [328],\n",
       "       [355],\n",
       "       [358],\n",
       "       [370],\n",
       "       [377],\n",
       "       [391]])"
      ]
     },
     "execution_count": 27,
     "metadata": {},
     "output_type": "execute_result"
    }
   ],
   "source": [
    "np.argwhere(outlier_classes==\"CEP\")"
   ]
  },
  {
   "cell_type": "code",
   "execution_count": 28,
   "id": "c77262c2-6901-4068-9086-e6fd011f02c7",
   "metadata": {
    "execution": {
     "iopub.execute_input": "2025-05-13T02:58:47.268291Z",
     "iopub.status.busy": "2025-05-13T02:58:47.267195Z",
     "iopub.status.idle": "2025-05-13T02:58:47.282447Z",
     "shell.execute_reply": "2025-05-13T02:58:47.281442Z",
     "shell.execute_reply.started": "2025-05-13T02:58:47.268239Z"
    }
   },
   "outputs": [
    {
     "data": {
      "text/plain": [
       "snid                                               56961335\n",
       "class                                                   CEP\n",
       "num_flagging_metrics                                      3\n",
       "flagged_by_metrics      [Canberra, Wave_Hedges, Divergence]\n",
       "Name: 61, dtype: object"
      ]
     },
     "execution_count": 28,
     "metadata": {},
     "output_type": "execute_result"
    }
   ],
   "source": [
    "snidflagged.iloc[61]"
   ]
  },
  {
   "cell_type": "markdown",
   "id": "e4ac18f2-070a-4eba-8887-ed49ce5b2768",
   "metadata": {},
   "source": [
    "---"
   ]
  },
  {
   "cell_type": "code",
   "execution_count": 29,
   "id": "bdef4779-5ba1-42aa-937a-591ed740b458",
   "metadata": {
    "execution": {
     "iopub.execute_input": "2025-05-13T02:58:53.257134Z",
     "iopub.status.busy": "2025-05-13T02:58:53.256537Z",
     "iopub.status.idle": "2025-05-13T02:58:53.263558Z",
     "shell.execute_reply": "2025-05-13T02:58:53.261972Z",
     "shell.execute_reply.started": "2025-05-13T02:58:53.257091Z"
    }
   },
   "outputs": [],
   "source": [
    "snid = 56961335"
   ]
  },
  {
   "cell_type": "code",
   "execution_count": 30,
   "id": "1bb26e18-6220-44d4-915c-362838170a50",
   "metadata": {
    "execution": {
     "iopub.execute_input": "2025-05-13T02:58:53.638107Z",
     "iopub.status.busy": "2025-05-13T02:58:53.637931Z",
     "iopub.status.idle": "2025-05-13T02:58:53.684191Z",
     "shell.execute_reply": "2025-05-13T02:58:53.683881Z",
     "shell.execute_reply.started": "2025-05-13T02:58:53.638097Z"
    }
   },
   "outputs": [],
   "source": [
    "lcdf = pd.read_parquet(\"data/Cepheid.parquet\")\n",
    "lcdf=lcdf.set_index(\"SNID\")"
   ]
  },
  {
   "cell_type": "code",
   "execution_count": 31,
   "id": "0fe904dd-ddf8-41e0-a5ed-3bba4607ff8c",
   "metadata": {
    "execution": {
     "iopub.execute_input": "2025-05-13T02:58:53.999880Z",
     "iopub.status.busy": "2025-05-13T02:58:53.999178Z",
     "iopub.status.idle": "2025-05-13T02:58:54.011007Z",
     "shell.execute_reply": "2025-05-13T02:58:54.010280Z",
     "shell.execute_reply.started": "2025-05-13T02:58:53.999835Z"
    }
   },
   "outputs": [],
   "source": [
    "def plot_lc(lcdf, snid):\n",
    "    chosen_df = lcdf.loc[snid]\n",
    "    cols = [\"MJD\", \"FLUXCAL\", \"FLUXCALERR\", \"BAND\", \"PHOTFLAG\", \"ZEROPT\"]\n",
    "    dat = []\n",
    "    for col in cols:\n",
    "        if col in cols:\n",
    "            dat.append(chosen_df.loc[col])\n",
    "    dat = np.array(dat).T\n",
    "    lc = pd.DataFrame(data=dat,columns=cols).sort_values(by=\"MJD\")\n",
    "\n",
    "    for band in \"ugrizY\":\n",
    "        lc_band = lc[lc[\"BAND\"] == band]\n",
    "        plt.errorbar(\n",
    "            x=lc_band[\"MJD\"],\n",
    "            y=lc_band[\"FLUXCAL\"],\n",
    "            yerr=lc_band[\"FLUXCALERR\"],\n",
    "            fmt=\"o\",\n",
    "            label=f\"{band}\",\n",
    "        )\n",
    "    plt.xlabel(\"Time (in days)\")\n",
    "    plt.ylabel(\"Brightness (flux)\")\n",
    "    plt.legend()\n",
    "    # plt.title(f\"OID {objid} ({cur_cl})\")\n",
    "    # plt.xlim(peak_mjd - 40, peak_mjd + 90)\n",
    "    # plt.grid()\n",
    "    # plt.savefig(\"rawlc_crop.pdf\", bbox_inches=\"tight\")\n",
    "    plt.show()"
   ]
  },
  {
   "cell_type": "code",
   "execution_count": 32,
   "id": "d258d0f3-62e2-4fce-baeb-dd629fd980f3",
   "metadata": {
    "execution": {
     "iopub.execute_input": "2025-05-13T02:58:55.043576Z",
     "iopub.status.busy": "2025-05-13T02:58:55.043061Z",
     "iopub.status.idle": "2025-05-13T02:58:55.219842Z",
     "shell.execute_reply": "2025-05-13T02:58:55.219022Z",
     "shell.execute_reply.started": "2025-05-13T02:58:55.043551Z"
    }
   },
   "outputs": [
    {
     "data": {
      "image/png": "[encoded data removed]",
      "text/plain": [
       "<Figure size 640x480 with 1 Axes>"
      ]
     },
     "metadata": {},
     "output_type": "display_data"
    }
   ],
   "source": [
    "plot_lc(lcdf,56961335)"
   ]
  }
 ],
 "metadata": {
  "kernelspec": {
   "display_name": "Python 3 (ipykernel)",
   "language": "python",
   "name": "python3"
  },
  "language_info": {
   "codemirror_mode": {
    "name": "ipython",
    "version": 3
   },
   "file_extension": ".py",
   "mimetype": "text/x-python",
   "name": "python",
   "nbconvert_exporter": "python",
   "pygments_lexer": "ipython3",
   "version": "3.12.4"
  }
 },
 "nbformat": 4,
 "nbformat_minor": 5
}
