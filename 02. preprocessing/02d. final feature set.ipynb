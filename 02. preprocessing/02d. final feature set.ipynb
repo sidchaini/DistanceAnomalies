{
 "cells": [
  {
   "cell_type": "code",
   "execution_count": 1,
   "id": "c3e35ecd-3857-4b4f-8bf6-1ca36c33c8dc",
   "metadata": {
    "execution": {
     "iopub.execute_input": "2025-05-13T19:50:45.370410Z",
     "iopub.status.busy": "2025-05-13T19:50:45.369869Z",
     "iopub.status.idle": "2025-05-13T19:50:46.945592Z",
     "shell.execute_reply": "2025-05-13T19:50:46.945223Z",
     "shell.execute_reply.started": "2025-05-13T19:50:45.370342Z"
    }
   },
   "outputs": [],
   "source": [
    "import numpy as np\n",
    "import pandas as pd\n",
    "import matplotlib.pyplot as plt\n",
    "import seaborn as sns\n",
    "import ast\n",
    "import os\n",
    "from mlxtend.feature_selection import ExhaustiveFeatureSelector as EFS\n",
    "from tqdm.auto import tqdm\n",
    "\n",
    "os.chdir(\"../\")\n",
    "import json\n",
    "\n",
    "import sys\n",
    "\n",
    "sys.path.append(\"scripts\")\n",
    "from pathlib import Path"
   ]
  },
  {
   "cell_type": "code",
   "execution_count": 2,
   "id": "c1683077-c0df-4558-8e56-12b25f0cd55c",
   "metadata": {
    "execution": {
     "iopub.execute_input": "2025-05-13T19:50:49.785491Z",
     "iopub.status.busy": "2025-05-13T19:50:49.771372Z",
     "iopub.status.idle": "2025-05-13T19:50:49.833659Z",
     "shell.execute_reply": "2025-05-13T19:50:49.830584Z",
     "shell.execute_reply.started": "2025-05-13T19:50:49.785456Z"
    }
   },
   "outputs": [],
   "source": [
    "import utils\n",
    "import distclassipy as dcpy"
   ]
  },
  {
   "cell_type": "code",
   "execution_count": 3,
   "id": "6548da28-3258-4255-8960-3b0382b139d1",
   "metadata": {
    "execution": {
     "iopub.execute_input": "2025-05-13T19:50:54.867926Z",
     "iopub.status.busy": "2025-05-13T19:50:54.866659Z",
     "iopub.status.idle": "2025-05-13T19:50:54.876771Z",
     "shell.execute_reply": "2025-05-13T19:50:54.876351Z",
     "shell.execute_reply.started": "2025-05-13T19:50:54.867894Z"
    }
   },
   "outputs": [],
   "source": [
    "with open(\"settings.txt\") as f:\n",
    "    settings_dict = json.load(f)\n",
    "seed_val = settings_dict[\"seed_choice\"]\n",
    "np.random.seed(seed_val)\n",
    "sns_dict = settings_dict[\"sns_dict\"]\n",
    "sns.set_theme(**sns_dict)"
   ]
  },
  {
   "cell_type": "code",
   "execution_count": 4,
   "id": "0c7c3b06-5cd6-4d78-ace0-4c38d08db788",
   "metadata": {
    "execution": {
     "iopub.execute_input": "2025-05-13T19:51:00.684707Z",
     "iopub.status.busy": "2025-05-13T19:51:00.675488Z",
     "iopub.status.idle": "2025-05-13T19:51:00.696432Z",
     "shell.execute_reply": "2025-05-13T19:51:00.695731Z",
     "shell.execute_reply.started": "2025-05-13T19:51:00.684616Z"
    }
   },
   "outputs": [],
   "source": [
    "all_metrics = settings_dict[\"all_metrics\"]"
   ]
  },
  {
   "cell_type": "code",
   "execution_count": 33,
   "id": "3d10f696-d559-41af-80b2-a6fed6cf4762",
   "metadata": {
    "execution": {
     "iopub.execute_input": "2025-05-13T19:55:44.077460Z",
     "iopub.status.busy": "2025-05-13T19:55:44.076874Z",
     "iopub.status.idle": "2025-05-13T19:55:44.122154Z",
     "shell.execute_reply": "2025-05-13T19:55:44.121671Z",
     "shell.execute_reply.started": "2025-05-13T19:55:44.077432Z"
    }
   },
   "outputs": [
    {
     "data": {
      "application/vnd.jupyter.widget-view+json": {
       "model_id": "7eee8a3a278340639be3444e547fc0d2",
       "version_major": 2,
       "version_minor": 0
      },
      "text/plain": [
       "Metric:   0%|          | 0/18 [00:00<?, ?it/s]"
      ]
     },
     "metadata": {},
     "output_type": "display_data"
    }
   ],
   "source": [
    "for metric in tqdm(all_metrics, desc=\"Metric\", leave=True):\n",
    "    metric_str = utils.get_metric_name(metric)\n",
    "    locpath = os.path.join(\"results\", metric_str)\n",
    "    res_df = pd.read_csv(f\"{locpath}/efs_allfeatures.csv\").set_index(\"feature_names\")\n",
    "    res_df = res_df[[\"avg_score\"]]\n",
    "    break"
   ]
  },
  {
   "cell_type": "code",
   "execution_count": 125,
   "id": "e3adb09d-c6c9-4c7f-b76c-ac03dd4cdf33",
   "metadata": {
    "execution": {
     "iopub.execute_input": "2025-05-14T00:14:18.515490Z",
     "iopub.status.busy": "2025-05-14T00:14:18.514443Z",
     "iopub.status.idle": "2025-05-14T00:14:18.762012Z",
     "shell.execute_reply": "2025-05-14T00:14:18.761739Z",
     "shell.execute_reply.started": "2025-05-14T00:14:18.515439Z"
    }
   },
   "outputs": [
    {
     "data": {
      "application/vnd.jupyter.widget-view+json": {
       "model_id": "36621ca3b8ab4b0683a9976e2150567d",
       "version_major": 2,
       "version_minor": 0
      },
      "text/plain": [
       "Metric:   0%|          | 0/18 [00:00<?, ?it/s]"
      ]
     },
     "metadata": {},
     "output_type": "display_data"
    }
   ],
   "source": [
    "summary_df = pd.DataFrame(index=res_df.index)\n",
    "\n",
    "for metric in tqdm(all_metrics, desc=\"Metric\", leave=True):\n",
    "    metric_str = utils.get_metric_name(metric)\n",
    "    locpath = os.path.join(\"results\", metric_str)\n",
    "    res_df = pd.read_csv(f\"{locpath}/efs_allfeatures.csv\").set_index(\"feature_names\")\n",
    "    summary_df[f\"{metric_str}_score\"] = res_df[\"avg_score\"]"
   ]
  },
  {
   "cell_type": "code",
   "execution_count": 126,
   "id": "442f9b74-88d0-43b4-b3e2-e39320451a49",
   "metadata": {
    "execution": {
     "iopub.execute_input": "2025-05-14T00:14:21.323990Z",
     "iopub.status.busy": "2025-05-14T00:14:21.323107Z",
     "iopub.status.idle": "2025-05-14T00:14:21.342517Z",
     "shell.execute_reply": "2025-05-14T00:14:21.341569Z",
     "shell.execute_reply.started": "2025-05-14T00:14:21.323954Z"
    }
   },
   "outputs": [],
   "source": [
    "summary_df[\"allmetrics_avg\"] = summary_df.mean(axis=1)\n",
    "summary_df[\"allmetrics_std\"] = summary_df.std(axis=1)"
   ]
  },
  {
   "cell_type": "code",
   "execution_count": 127,
   "id": "e76364f8-e7f7-4a96-99a1-dc1ca0f5c26e",
   "metadata": {
    "execution": {
     "iopub.execute_input": "2025-05-14T00:14:28.152291Z",
     "iopub.status.busy": "2025-05-14T00:14:28.151645Z",
     "iopub.status.idle": "2025-05-14T00:14:28.161263Z",
     "shell.execute_reply": "2025-05-14T00:14:28.158887Z",
     "shell.execute_reply.started": "2025-05-14T00:14:28.152256Z"
    }
   },
   "outputs": [],
   "source": [
    "summary_df = summary_df.loc[:, [\"allmetrics_avg\", \"allmetrics_std\"]]"
   ]
  },
  {
   "cell_type": "code",
   "execution_count": 128,
   "id": "a3e6545b-c59c-440c-a1c8-adeb93be7642",
   "metadata": {
    "execution": {
     "iopub.execute_input": "2025-05-14T00:14:29.873061Z",
     "iopub.status.busy": "2025-05-14T00:14:29.872208Z",
     "iopub.status.idle": "2025-05-14T00:14:29.892907Z",
     "shell.execute_reply": "2025-05-14T00:14:29.891812Z",
     "shell.execute_reply.started": "2025-05-14T00:14:29.873008Z"
    }
   },
   "outputs": [],
   "source": [
    "summary_df = summary_df.sort_values(by=\"allmetrics_avg\", ascending=False)"
   ]
  },
  {
   "cell_type": "code",
   "execution_count": 129,
   "id": "57614250-80bc-442e-b6ca-2c016b5939fe",
   "metadata": {
    "execution": {
     "iopub.execute_input": "2025-05-14T00:14:32.124443Z",
     "iopub.status.busy": "2025-05-14T00:14:32.123364Z",
     "iopub.status.idle": "2025-05-14T00:14:32.245921Z",
     "shell.execute_reply": "2025-05-14T00:14:32.245537Z",
     "shell.execute_reply.started": "2025-05-14T00:14:32.124374Z"
    }
   },
   "outputs": [
    {
     "data": {
      "image/png": "[encoded data removed]",
      "text/plain": [
       "<Figure size 640x480 with 1 Axes>"
      ]
     },
     "metadata": {},
     "output_type": "display_data"
    }
   ],
   "source": [
    "sns.histplot(summary_df[\"allmetrics_avg\"])\n",
    "plt.xlim(0.5, 1)\n",
    "plt.show()"
   ]
  },
  {
   "cell_type": "code",
   "execution_count": 130,
   "id": "e379c805-634b-431d-823a-7c08aa3074fe",
   "metadata": {
    "execution": {
     "iopub.execute_input": "2025-05-14T00:14:32.858422Z",
     "iopub.status.busy": "2025-05-14T00:14:32.857393Z",
     "iopub.status.idle": "2025-05-14T00:14:32.941432Z",
     "shell.execute_reply": "2025-05-14T00:14:32.941083Z",
     "shell.execute_reply.started": "2025-05-14T00:14:32.858383Z"
    }
   },
   "outputs": [
    {
     "data": {
      "application/vnd.jupyter.widget-view+json": {
       "model_id": "b8c28fc343394bcebf7031632c437438",
       "version_major": 2,
       "version_minor": 0
      },
      "text/plain": [
       "  0%|          | 0/4095 [00:00<?, ?it/s]"
      ]
     },
     "metadata": {},
     "output_type": "display_data"
    }
   ],
   "source": [
    "feats = []\n",
    "featlen = []\n",
    "for ind in tqdm(range(summary_df.shape[0])):\n",
    "    curfeats = list(ast.literal_eval(summary_df.index[ind]))\n",
    "    feats.append(curfeats)\n",
    "    featlen.append(len(curfeats))"
   ]
  },
  {
   "cell_type": "code",
   "execution_count": 131,
   "id": "4e6fa3ab-0a69-45f5-8c68-7ad9ea1b120f",
   "metadata": {
    "execution": {
     "iopub.execute_input": "2025-05-14T00:14:34.219228Z",
     "iopub.status.busy": "2025-05-14T00:14:34.217803Z",
     "iopub.status.idle": "2025-05-14T00:14:34.234408Z",
     "shell.execute_reply": "2025-05-14T00:14:34.231581Z",
     "shell.execute_reply.started": "2025-05-14T00:14:34.219170Z"
    }
   },
   "outputs": [],
   "source": [
    "summary_df[\"feats_length\"] = featlen"
   ]
  },
  {
   "cell_type": "code",
   "execution_count": 132,
   "id": "c710a9a3-0bd7-4ea7-ae86-ad98cdf1b5f0",
   "metadata": {
    "execution": {
     "iopub.execute_input": "2025-05-14T00:14:34.972214Z",
     "iopub.status.busy": "2025-05-14T00:14:34.971277Z",
     "iopub.status.idle": "2025-05-14T00:14:34.995348Z",
     "shell.execute_reply": "2025-05-14T00:14:34.991156Z",
     "shell.execute_reply.started": "2025-05-14T00:14:34.972183Z"
    }
   },
   "outputs": [],
   "source": [
    "summary_df = summary_df.reset_index(drop=False)"
   ]
  },
  {
   "cell_type": "code",
   "execution_count": 151,
   "id": "10f84209-36ea-40be-a09a-ee1d75d70dc7",
   "metadata": {
    "execution": {
     "iopub.execute_input": "2025-05-14T00:17:34.277347Z",
     "iopub.status.busy": "2025-05-14T00:17:34.276466Z",
     "iopub.status.idle": "2025-05-14T00:17:34.297648Z",
     "shell.execute_reply": "2025-05-14T00:17:34.296772Z",
     "shell.execute_reply.started": "2025-05-14T00:17:34.277298Z"
    }
   },
   "outputs": [
    {
     "data": {
      "text/html": [
       "<div>\n",
       "<style scoped>\n",
       "    .dataframe tbody tr th:only-of-type {\n",
       "        vertical-align: middle;\n",
       "    }\n",
       "\n",
       "    .dataframe tbody tr th {\n",
       "        vertical-align: top;\n",
       "    }\n",
       "\n",
       "    .dataframe thead th {\n",
       "        text-align: right;\n",
       "    }\n",
       "</style>\n",
       "<table border=\"1\" class=\"dataframe\">\n",
       "  <thead>\n",
       "    <tr style=\"text-align: right;\">\n",
       "      <th></th>\n",
       "      <th>feature_names</th>\n",
       "      <th>allmetrics_avg</th>\n",
       "      <th>allmetrics_std</th>\n",
       "      <th>feats_length</th>\n",
       "    </tr>\n",
       "  </thead>\n",
       "  <tbody>\n",
       "    <tr>\n",
       "      <th>0</th>\n",
       "      <td>('Harmonics_phase_2_i', 'SPM_A_Y', 'Multiband_...</td>\n",
       "      <td>0.867159</td>\n",
       "      <td>0.140450</td>\n",
       "      <td>8</td>\n",
       "    </tr>\n",
       "    <tr>\n",
       "      <th>1</th>\n",
       "      <td>('Harmonics_phase_2_i', 'SPM_A_Y', 'Multiband_...</td>\n",
       "      <td>0.866628</td>\n",
       "      <td>0.138669</td>\n",
       "      <td>9</td>\n",
       "    </tr>\n",
       "    <tr>\n",
       "      <th>2</th>\n",
       "      <td>('Harmonics_phase_2_i', 'SPM_A_Y', 'Multiband_...</td>\n",
       "      <td>0.866617</td>\n",
       "      <td>0.136991</td>\n",
       "      <td>10</td>\n",
       "    </tr>\n",
       "    <tr>\n",
       "      <th>3</th>\n",
       "      <td>('Harmonics_phase_2_i', 'SPM_A_Y', 'Multiband_...</td>\n",
       "      <td>0.866358</td>\n",
       "      <td>0.138610</td>\n",
       "      <td>9</td>\n",
       "    </tr>\n",
       "    <tr>\n",
       "      <th>4</th>\n",
       "      <td>('SPM_A_Y', 'Multiband_period', 'r-i', 'i-z', ...</td>\n",
       "      <td>0.865962</td>\n",
       "      <td>0.139534</td>\n",
       "      <td>9</td>\n",
       "    </tr>\n",
       "    <tr>\n",
       "      <th>5</th>\n",
       "      <td>('SPM_A_Y', 'Multiband_period', 'r-i', 'i-z', ...</td>\n",
       "      <td>0.865617</td>\n",
       "      <td>0.140611</td>\n",
       "      <td>8</td>\n",
       "    </tr>\n",
       "    <tr>\n",
       "      <th>7</th>\n",
       "      <td>('SPM_A_Y', 'Multiband_period', 'r-i', 'i-z', ...</td>\n",
       "      <td>0.864721</td>\n",
       "      <td>0.137003</td>\n",
       "      <td>7</td>\n",
       "    </tr>\n",
       "    <tr>\n",
       "      <th>13</th>\n",
       "      <td>('SPM_A_Y', 'Multiband_period', 'r-i', 'i-z', ...</td>\n",
       "      <td>0.863494</td>\n",
       "      <td>0.136674</td>\n",
       "      <td>8</td>\n",
       "    </tr>\n",
       "    <tr>\n",
       "      <th>16</th>\n",
       "      <td>('SPM_A_Y', 'Multiband_period', 'r-i', 'i-z', ...</td>\n",
       "      <td>0.863017</td>\n",
       "      <td>0.141411</td>\n",
       "      <td>10</td>\n",
       "    </tr>\n",
       "    <tr>\n",
       "      <th>17</th>\n",
       "      <td>('Harmonics_phase_2_i', 'SPM_A_Y', 'Multiband_...</td>\n",
       "      <td>0.862947</td>\n",
       "      <td>0.138713</td>\n",
       "      <td>11</td>\n",
       "    </tr>\n",
       "    <tr>\n",
       "      <th>18</th>\n",
       "      <td>('Harmonics_phase_2_i', 'SPM_A_Y', 'Multiband_...</td>\n",
       "      <td>0.862842</td>\n",
       "      <td>0.142231</td>\n",
       "      <td>10</td>\n",
       "    </tr>\n",
       "    <tr>\n",
       "      <th>22</th>\n",
       "      <td>('Harmonics_phase_2_i', 'SPM_A_Y', 'Multiband_...</td>\n",
       "      <td>0.862385</td>\n",
       "      <td>0.141415</td>\n",
       "      <td>10</td>\n",
       "    </tr>\n",
       "    <tr>\n",
       "      <th>27</th>\n",
       "      <td>('Harmonics_phase_2_i', 'SPM_A_Y', 'Multiband_...</td>\n",
       "      <td>0.861984</td>\n",
       "      <td>0.140929</td>\n",
       "      <td>10</td>\n",
       "    </tr>\n",
       "    <tr>\n",
       "      <th>29</th>\n",
       "      <td>('Harmonics_phase_2_i', 'SPM_A_Y', 'Multiband_...</td>\n",
       "      <td>0.861814</td>\n",
       "      <td>0.141799</td>\n",
       "      <td>9</td>\n",
       "    </tr>\n",
       "    <tr>\n",
       "      <th>43</th>\n",
       "      <td>('SPM_A_Y', 'Multiband_period', 'r-i', 'i-z', ...</td>\n",
       "      <td>0.860913</td>\n",
       "      <td>0.140812</td>\n",
       "      <td>8</td>\n",
       "    </tr>\n",
       "    <tr>\n",
       "      <th>47</th>\n",
       "      <td>('SPM_A_Y', 'Multiband_period', 'r-i', 'i-z', ...</td>\n",
       "      <td>0.860701</td>\n",
       "      <td>0.139930</td>\n",
       "      <td>9</td>\n",
       "    </tr>\n",
       "    <tr>\n",
       "      <th>51</th>\n",
       "      <td>('SPM_A_Y', 'Multiband_period', 'r-i', 'Harmon...</td>\n",
       "      <td>0.860527</td>\n",
       "      <td>0.138565</td>\n",
       "      <td>6</td>\n",
       "    </tr>\n",
       "    <tr>\n",
       "      <th>61</th>\n",
       "      <td>('SPM_A_Y', 'Multiband_period', 'r-i', 'Harmon...</td>\n",
       "      <td>0.859879</td>\n",
       "      <td>0.137760</td>\n",
       "      <td>7</td>\n",
       "    </tr>\n",
       "    <tr>\n",
       "      <th>91</th>\n",
       "      <td>('SPM_A_Y', 'Multiband_period', 'r-i', 'i-z', ...</td>\n",
       "      <td>0.858459</td>\n",
       "      <td>0.135072</td>\n",
       "      <td>7</td>\n",
       "    </tr>\n",
       "    <tr>\n",
       "      <th>93</th>\n",
       "      <td>('Harmonics_phase_2_i', 'SPM_A_Y', 'Multiband_...</td>\n",
       "      <td>0.858404</td>\n",
       "      <td>0.135434</td>\n",
       "      <td>8</td>\n",
       "    </tr>\n",
       "    <tr>\n",
       "      <th>94</th>\n",
       "      <td>('Harmonics_phase_2_i', 'SPM_A_Y', 'Multiband_...</td>\n",
       "      <td>0.858395</td>\n",
       "      <td>0.136416</td>\n",
       "      <td>7</td>\n",
       "    </tr>\n",
       "    <tr>\n",
       "      <th>100</th>\n",
       "      <td>('Harmonics_phase_2_i', 'SPM_A_Y', 'Multiband_...</td>\n",
       "      <td>0.858119</td>\n",
       "      <td>0.134111</td>\n",
       "      <td>7</td>\n",
       "    </tr>\n",
       "    <tr>\n",
       "      <th>117</th>\n",
       "      <td>('SPM_A_Y', 'Multiband_period', 'r-i', 'i-z', ...</td>\n",
       "      <td>0.856929</td>\n",
       "      <td>0.132406</td>\n",
       "      <td>8</td>\n",
       "    </tr>\n",
       "    <tr>\n",
       "      <th>128</th>\n",
       "      <td>('SPM_A_Y', 'Multiband_period', 'r-i', 'i-z', ...</td>\n",
       "      <td>0.856535</td>\n",
       "      <td>0.133329</td>\n",
       "      <td>7</td>\n",
       "    </tr>\n",
       "    <tr>\n",
       "      <th>212</th>\n",
       "      <td>('SPM_A_Y', 'Multiband_period', 'r-i', 'i-z', ...</td>\n",
       "      <td>0.853679</td>\n",
       "      <td>0.128149</td>\n",
       "      <td>7</td>\n",
       "    </tr>\n",
       "  </tbody>\n",
       "</table>\n",
       "</div>"
      ],
      "text/plain": [
       "                                         feature_names  allmetrics_avg  \\\n",
       "0    ('Harmonics_phase_2_i', 'SPM_A_Y', 'Multiband_...        0.867159   \n",
       "1    ('Harmonics_phase_2_i', 'SPM_A_Y', 'Multiband_...        0.866628   \n",
       "2    ('Harmonics_phase_2_i', 'SPM_A_Y', 'Multiband_...        0.866617   \n",
       "3    ('Harmonics_phase_2_i', 'SPM_A_Y', 'Multiband_...        0.866358   \n",
       "4    ('SPM_A_Y', 'Multiband_period', 'r-i', 'i-z', ...        0.865962   \n",
       "5    ('SPM_A_Y', 'Multiband_period', 'r-i', 'i-z', ...        0.865617   \n",
       "7    ('SPM_A_Y', 'Multiband_period', 'r-i', 'i-z', ...        0.864721   \n",
       "13   ('SPM_A_Y', 'Multiband_period', 'r-i', 'i-z', ...        0.863494   \n",
       "16   ('SPM_A_Y', 'Multiband_period', 'r-i', 'i-z', ...        0.863017   \n",
       "17   ('Harmonics_phase_2_i', 'SPM_A_Y', 'Multiband_...        0.862947   \n",
       "18   ('Harmonics_phase_2_i', 'SPM_A_Y', 'Multiband_...        0.862842   \n",
       "22   ('Harmonics_phase_2_i', 'SPM_A_Y', 'Multiband_...        0.862385   \n",
       "27   ('Harmonics_phase_2_i', 'SPM_A_Y', 'Multiband_...        0.861984   \n",
       "29   ('Harmonics_phase_2_i', 'SPM_A_Y', 'Multiband_...        0.861814   \n",
       "43   ('SPM_A_Y', 'Multiband_period', 'r-i', 'i-z', ...        0.860913   \n",
       "47   ('SPM_A_Y', 'Multiband_period', 'r-i', 'i-z', ...        0.860701   \n",
       "51   ('SPM_A_Y', 'Multiband_period', 'r-i', 'Harmon...        0.860527   \n",
       "61   ('SPM_A_Y', 'Multiband_period', 'r-i', 'Harmon...        0.859879   \n",
       "91   ('SPM_A_Y', 'Multiband_period', 'r-i', 'i-z', ...        0.858459   \n",
       "93   ('Harmonics_phase_2_i', 'SPM_A_Y', 'Multiband_...        0.858404   \n",
       "94   ('Harmonics_phase_2_i', 'SPM_A_Y', 'Multiband_...        0.858395   \n",
       "100  ('Harmonics_phase_2_i', 'SPM_A_Y', 'Multiband_...        0.858119   \n",
       "117  ('SPM_A_Y', 'Multiband_period', 'r-i', 'i-z', ...        0.856929   \n",
       "128  ('SPM_A_Y', 'Multiband_period', 'r-i', 'i-z', ...        0.856535   \n",
       "212  ('SPM_A_Y', 'Multiband_period', 'r-i', 'i-z', ...        0.853679   \n",
       "\n",
       "     allmetrics_std  feats_length  \n",
       "0          0.140450             8  \n",
       "1          0.138669             9  \n",
       "2          0.136991            10  \n",
       "3          0.138610             9  \n",
       "4          0.139534             9  \n",
       "5          0.140611             8  \n",
       "7          0.137003             7  \n",
       "13         0.136674             8  \n",
       "16         0.141411            10  \n",
       "17         0.138713            11  \n",
       "18         0.142231            10  \n",
       "22         0.141415            10  \n",
       "27         0.140929            10  \n",
       "29         0.141799             9  \n",
       "43         0.140812             8  \n",
       "47         0.139930             9  \n",
       "51         0.138565             6  \n",
       "61         0.137760             7  \n",
       "91         0.135072             7  \n",
       "93         0.135434             8  \n",
       "94         0.136416             7  \n",
       "100        0.134111             7  \n",
       "117        0.132406             8  \n",
       "128        0.133329             7  \n",
       "212        0.128149             7  "
      ]
     },
     "execution_count": 151,
     "metadata": {},
     "output_type": "execute_result"
    }
   ],
   "source": [
    "summary_df[(summary_df[\"allmetrics_avg\"] - summary_df[\"allmetrics_std\"]) > 0.72]"
   ]
  },
  {
   "cell_type": "code",
   "execution_count": 157,
   "id": "508b7123-3f53-4ab4-9998-c19d31be7e64",
   "metadata": {
    "execution": {
     "iopub.execute_input": "2025-05-14T01:10:54.542844Z",
     "iopub.status.busy": "2025-05-14T01:10:54.541820Z",
     "iopub.status.idle": "2025-05-14T01:10:54.557373Z",
     "shell.execute_reply": "2025-05-14T01:10:54.555986Z",
     "shell.execute_reply.started": "2025-05-14T01:10:54.542783Z"
    }
   },
   "outputs": [],
   "source": [
    "final_features = list(ast.literal_eval(summary_df.iloc[51][\"feature_names\"]))"
   ]
  },
  {
   "cell_type": "code",
   "execution_count": 158,
   "id": "67d11226-50fd-43a0-b0f4-23263c50ceba",
   "metadata": {
    "execution": {
     "iopub.execute_input": "2025-05-14T01:10:57.265917Z",
     "iopub.status.busy": "2025-05-14T01:10:57.265417Z",
     "iopub.status.idle": "2025-05-14T01:10:57.272695Z",
     "shell.execute_reply": "2025-05-14T01:10:57.271289Z",
     "shell.execute_reply.started": "2025-05-14T01:10:57.265889Z"
    }
   },
   "outputs": [
    {
     "name": "stdout",
     "output_type": "stream",
     "text": [
      "['SPM_A_Y', 'Multiband_period', 'r-i', 'Harmonics_phase_4_i', 'Harmonics_phase_2_r', 'Power_rate_4']\n"
     ]
    }
   ],
   "source": [
    "print(final_features)"
   ]
  }
 ],
 "metadata": {
  "kernelspec": {
   "display_name": "Python 3 (ipykernel)",
   "language": "python",
   "name": "python3"
  },
  "language_info": {
   "codemirror_mode": {
    "name": "ipython",
    "version": 3
   },
   "file_extension": ".py",
   "mimetype": "text/x-python",
   "name": "python",
   "nbconvert_exporter": "python",
   "pygments_lexer": "ipython3",
   "version": "3.12.4"
  }
 },
 "nbformat": 4,
 "nbformat_minor": 5
}
