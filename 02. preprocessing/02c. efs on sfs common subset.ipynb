{
 "cells": [
  {
   "cell_type": "code",
   "execution_count": 1,
   "id": "a4fd0685-135e-482e-bb3e-014714c9cc8b",
   "metadata": {
    "execution": {
     "iopub.execute_input": "2025-05-13T19:36:30.475103Z",
     "iopub.status.busy": "2025-05-13T19:36:30.474609Z",
     "iopub.status.idle": "2025-05-13T19:36:31.773507Z",
     "shell.execute_reply": "2025-05-13T19:36:31.773216Z",
     "shell.execute_reply.started": "2025-05-13T19:36:30.475079Z"
    }
   },
   "outputs": [],
   "source": [
    "import numpy as np\n",
    "import pandas as pd\n",
    "import matplotlib.pyplot as plt\n",
    "import seaborn as sns\n",
    "import ast\n",
    "import os\n",
    "from mlxtend.feature_selection import ExhaustiveFeatureSelector as EFS\n",
    "from tqdm.auto import tqdm\n",
    "\n",
    "os.chdir(\"../\")\n",
    "import json\n",
    "\n",
    "import sys\n",
    "\n",
    "sys.path.append(\"scripts\")\n",
    "from pathlib import Path"
   ]
  },
  {
   "cell_type": "code",
   "execution_count": 2,
   "id": "c6118f08-96d6-42d6-b61a-e61388a44bff",
   "metadata": {
    "execution": {
     "iopub.execute_input": "2025-05-13T19:36:31.774012Z",
     "iopub.status.busy": "2025-05-13T19:36:31.773883Z",
     "iopub.status.idle": "2025-05-13T19:36:31.779953Z",
     "shell.execute_reply": "2025-05-13T19:36:31.779543Z",
     "shell.execute_reply.started": "2025-05-13T19:36:31.774003Z"
    }
   },
   "outputs": [],
   "source": [
    "import utils\n",
    "import distclassipy as dcpy"
   ]
  },
  {
   "cell_type": "code",
   "execution_count": 3,
   "id": "8567ae5f-6005-4a7e-9d19-eb9132032740",
   "metadata": {
    "execution": {
     "iopub.execute_input": "2025-05-13T19:36:31.781957Z",
     "iopub.status.busy": "2025-05-13T19:36:31.781181Z",
     "iopub.status.idle": "2025-05-13T19:36:31.785963Z",
     "shell.execute_reply": "2025-05-13T19:36:31.785573Z",
     "shell.execute_reply.started": "2025-05-13T19:36:31.781942Z"
    }
   },
   "outputs": [],
   "source": [
    "with open(\"settings.txt\") as f:\n",
    "    settings_dict = json.load(f)\n",
    "seed_val = settings_dict[\"seed_choice\"]\n",
    "np.random.seed(seed_val)\n",
    "sns_dict = settings_dict[\"sns_dict\"]\n",
    "sns.set_theme(**sns_dict)"
   ]
  },
  {
   "cell_type": "code",
   "execution_count": 4,
   "id": "c1686fd2-2aab-4acd-a819-c46c8774f8a5",
   "metadata": {
    "execution": {
     "iopub.execute_input": "2025-05-13T19:36:31.787500Z",
     "iopub.status.busy": "2025-05-13T19:36:31.787372Z",
     "iopub.status.idle": "2025-05-13T19:36:31.794197Z",
     "shell.execute_reply": "2025-05-13T19:36:31.792594Z",
     "shell.execute_reply.started": "2025-05-13T19:36:31.787491Z"
    }
   },
   "outputs": [],
   "source": [
    "all_metrics = settings_dict[\"all_metrics\"]\n",
    "scoring = \"f1_macro\""
   ]
  },
  {
   "cell_type": "code",
   "execution_count": 5,
   "id": "5f16ed5e-0576-4d7c-8030-0e4ebf0d7002",
   "metadata": {
    "execution": {
     "iopub.execute_input": "2025-05-13T19:36:31.794744Z",
     "iopub.status.busy": "2025-05-13T19:36:31.794644Z",
     "iopub.status.idle": "2025-05-13T19:36:31.924772Z",
     "shell.execute_reply": "2025-05-13T19:36:31.924353Z",
     "shell.execute_reply.started": "2025-05-13T19:36:31.794736Z"
    }
   },
   "outputs": [
    {
     "data": {
      "text/plain": [
       "class\n",
       "CEP     683\n",
       "DSCT    683\n",
       "EB      683\n",
       "RRL     683\n",
       "Name: count, dtype: int64"
      ]
     },
     "execution_count": 5,
     "metadata": {},
     "output_type": "execute_result"
    }
   ],
   "source": [
    "features = pd.read_parquet(\"data/reduced_balancedfeatures_LATEST.parquet\")\n",
    "features[\"class\"].value_counts()"
   ]
  },
  {
   "cell_type": "code",
   "execution_count": 6,
   "id": "4fa90171-ea4b-4ef0-b5c1-798664ca0a37",
   "metadata": {
    "execution": {
     "iopub.execute_input": "2025-05-13T19:36:31.926691Z",
     "iopub.status.busy": "2025-05-13T19:36:31.926561Z",
     "iopub.status.idle": "2025-05-13T19:36:31.932460Z",
     "shell.execute_reply": "2025-05-13T19:36:31.931966Z",
     "shell.execute_reply.started": "2025-05-13T19:36:31.926666Z"
    }
   },
   "outputs": [],
   "source": [
    "features = features.sample(frac=1)"
   ]
  },
  {
   "cell_type": "code",
   "execution_count": 7,
   "id": "f61eb8b9-0127-411c-b521-1be4c433e4bf",
   "metadata": {
    "execution": {
     "iopub.execute_input": "2025-05-13T19:36:31.934018Z",
     "iopub.status.busy": "2025-05-13T19:36:31.933379Z",
     "iopub.status.idle": "2025-05-13T19:36:31.940897Z",
     "shell.execute_reply": "2025-05-13T19:36:31.940224Z",
     "shell.execute_reply.started": "2025-05-13T19:36:31.934004Z"
    }
   },
   "outputs": [],
   "source": [
    "y_df = features[\"class\"]\n",
    "X_df = features.drop([\"Coordinate_x\", \"Coordinate_y\", \"Coordinate_z\", \"class\"], axis=1)"
   ]
  },
  {
   "cell_type": "code",
   "execution_count": 8,
   "id": "3a49f520-828e-4cff-bf49-4f80fe802817",
   "metadata": {
    "execution": {
     "iopub.execute_input": "2025-05-13T19:36:31.941796Z",
     "iopub.status.busy": "2025-05-13T19:36:31.941533Z",
     "iopub.status.idle": "2025-05-13T19:36:31.943956Z",
     "shell.execute_reply": "2025-05-13T19:36:31.943583Z",
     "shell.execute_reply.started": "2025-05-13T19:36:31.941779Z"
    }
   },
   "outputs": [],
   "source": [
    "y = y_df.to_numpy()\n",
    "X = X_df.to_numpy()"
   ]
  },
  {
   "cell_type": "markdown",
   "id": "95e59089-dcb8-4450-b04b-a667b0443541",
   "metadata": {},
   "source": [
    "## 1. Superset of important features\n",
    "These are in the \"best\" feature list for more than 2 metrics.\n",
    "\n"
   ]
  },
  {
   "cell_type": "code",
   "execution_count": 9,
   "id": "5cbdbc12-edcf-48fd-a0e3-676281f861cd",
   "metadata": {
    "execution": {
     "iopub.execute_input": "2025-05-13T19:36:31.945518Z",
     "iopub.status.busy": "2025-05-13T19:36:31.945185Z",
     "iopub.status.idle": "2025-05-13T19:36:31.995736Z",
     "shell.execute_reply": "2025-05-13T19:36:31.995491Z",
     "shell.execute_reply.started": "2025-05-13T19:36:31.945507Z"
    }
   },
   "outputs": [
    {
     "name": "stdout",
     "output_type": "stream",
     "text": [
      "Euclidean: ['g-r', 'r-i', 'Period_band_i', 'Power_rate_4', 'Harmonics_phase_2_r', 'Harmonics_phase_2_i', 'Harmonics_phase_6_z', 'SPM_A_Y', 'SPM_chi_r', 'positive_fraction_z']\n",
      "Braycurtis: ['r-i', 'i-z', 'Multiband_period', 'Harmonics_mag_6_i', 'Period_band_i', 'delta_period_i', 'Power_rate_4', 'Harmonics_phase_2_i', 'Harmonics_phase_4_i', 'Harmonics_phase_2_z', 'SPM_A_g', 'SPM_A_r', 'SPM_tau_fall_r', 'SPM_A_i', 'SPM_A_Y', 'SPM_chi_i']\n",
      "Canberra: ['i-z', 'Multiband_period', 'Harmonics_phase_2_r', 'Harmonics_phase_6_r', 'Harmonics_phase_2_i', 'Harmonics_phase_4_i', 'Harmonics_phase_2_z', 'SPM_A_Y']\n",
      "Cityblock: ['g-r', 'i-z', 'Period_band_i', 'Power_rate_2', 'Harmonics_phase_2_r', 'Harmonics_phase_2_i', 'Harmonics_phase_2_z', 'SPM_A_Y', 'SPM_chi_z']\n",
      "Chebyshev: ['g-r', 'i-z', 'Period_band_i', 'delta_period_i', 'Power_rate_4', 'Harmonics_phase_2_i', 'SPM_A_z', 'SPM_A_Y']\n",
      "Clark: ['r-i', 'Multiband_period', 'Power_rate_1_4', 'Harmonics_phase_2_r', 'Harmonics_phase_4_r', 'Harmonics_phase_2_i', 'Harmonics_phase_2_z', 'Harmonics_phase_4_z', 'SPM_A_Y']\n",
      "Correlation: ['g-r', 'Period_band_i', 'delta_period_i', 'Power_rate_1_2', 'Harmonics_phase_4_r', 'Harmonics_phase_4_i', 'Harmonics_phase_4_z', 'SPM_A_g', 'SPM_A_Y']\n",
      "Cosine: ['g-r', 'r-i', 'i-z', 'Multiband_period', 'PPE', 'Period_band_i', 'Power_rate_1_4', 'Harmonics_phase_3_i', 'SPM_A_g', 'SPM_A_z']\n",
      "Hellinger: ['r-i', 'Multiband_period', 'Power_rate_1_3', 'Harmonics_phase_2_r', 'Harmonics_phase_2_i', 'Harmonics_phase_4_i', 'SPM_gamma_i', 'SPM_gamma_Y', 'SPM_chi_r']\n",
      "Jaccard: ['Multiband_period', 'Harmonics_phase_2_i', 'SPM_A_i']\n",
      "Lorentzian: ['g-r', 'r-i', 'Multiband_period', 'PPE', 'Harmonics_chi_i', 'Harmonics_phase_2_i', 'Harmonics_phase_6_i', 'Harmonics_phase_2_z', 'Harmonics_phase_6_z', 'SPM_A_Y', 'SPM_chi_r']\n",
      "Marylandbridge: ['g-r', 'delta_period_i', 'Power_rate_1_2', 'Harmonics_phase_4_z', 'Harmonics_phase_5_z', 'Harmonics_phase_7_z', 'SPM_tau_fall_g', 'SPM_tau_fall_r', 'SPM_tau_fall_i', 'SPM_tau_fall_z', 'SPM_A_Y', 'SPM_chi_i']\n",
      "Meehl: ['g-r', 'r-i', 'Multiband_period', 'Power_rate_1_2', 'Harmonics_phase_2_r', 'Harmonics_phase_4_z', 'SPM_A_Y', 'SPM_tau_fall_Y']\n",
      "Motyka: ['r-i', 'i-z', 'Multiband_period', 'Harmonics_mag_6_i', 'Period_band_i', 'delta_period_i', 'Power_rate_4', 'Harmonics_phase_2_i', 'Harmonics_phase_4_i', 'Harmonics_phase_2_z', 'SPM_A_g', 'SPM_A_r', 'SPM_tau_fall_r', 'SPM_A_i', 'SPM_A_Y', 'SPM_chi_i']\n",
      "Soergel: ['r-i', 'i-z', 'Multiband_period', 'Harmonics_mag_6_i', 'Period_band_i', 'delta_period_i', 'Power_rate_4', 'Harmonics_phase_2_i', 'Harmonics_phase_4_i', 'Harmonics_phase_2_z', 'SPM_A_g', 'SPM_A_r', 'SPM_tau_fall_r', 'SPM_A_i', 'SPM_A_Y', 'SPM_chi_i']\n",
      "Wave_Hedges: ['r-i', 'i-z', 'Multiband_period', 'SPM_t0_Y', 'Period_band_i', 'delta_period_i', 'Harmonics_phase_2_r', 'Harmonics_phase_4_r', 'Harmonics_phase_2_i', 'Harmonics_phase_4_i', 'Harmonics_phase_7_i', 'Harmonics_phase_2_z', 'SPM_gamma_g', 'SPM_tau_fall_r', 'SPM_A_i', 'SPM_gamma_i', 'SPM_tau_fall_i', 'SPM_tau_fall_z', 'SPM_A_Y', 'SPM_chi_z', 'Timespan']\n",
      "Kulczynski: ['r-i', 'i-z', 'Multiband_period', 'Harmonics_mag_6_i', 'Period_band_i', 'delta_period_i', 'Power_rate_4', 'Harmonics_phase_2_i', 'Harmonics_phase_4_i', 'Harmonics_phase_2_z', 'SPM_A_g', 'SPM_A_r', 'SPM_tau_fall_r', 'SPM_A_i', 'SPM_A_Y', 'SPM_chi_i']\n",
      "Add_Chisq: ['i-z', 'Multiband_period', 'Harmonics_phase_2_r', 'Harmonics_phase_2_i', 'SPM_chi_z']\n"
     ]
    }
   ],
   "source": [
    "good_feats = []\n",
    "for metric in all_metrics:\n",
    "    metric_str = utils.get_metric_name(metric)\n",
    "    locpath = os.path.join(\"results\", metric_str)\n",
    "\n",
    "    sfs_df = pd.read_csv(os.path.join(locpath, \"sfs_allfeatures.csv\"), index_col=0)\n",
    "    feats_idx, feats = utils.load_best_features(sfs_df)\n",
    "    print(f\"{metric_str}: {feats}\")\n",
    "    good_feats = good_feats + feats"
   ]
  },
  {
   "cell_type": "code",
   "execution_count": 10,
   "id": "f8b95bd4-5a40-4cb2-8418-f667bef0204f",
   "metadata": {
    "execution": {
     "iopub.execute_input": "2025-05-13T19:36:31.996161Z",
     "iopub.status.busy": "2025-05-13T19:36:31.996062Z",
     "iopub.status.idle": "2025-05-13T19:36:32.001064Z",
     "shell.execute_reply": "2025-05-13T19:36:32.000305Z",
     "shell.execute_reply.started": "2025-05-13T19:36:31.996144Z"
    },
    "scrolled": true
   },
   "outputs": [
    {
     "data": {
      "text/plain": [
       "Harmonics_phase_2_i    14\n",
       "SPM_A_Y                14\n",
       "Multiband_period       13\n",
       "r-i                    11\n",
       "i-z                    10\n",
       "Period_band_i          10\n",
       "Harmonics_phase_2_z     9\n",
       "Harmonics_phase_4_i     8\n",
       "delta_period_i          8\n",
       "g-r                     8\n",
       "Harmonics_phase_2_r     8\n",
       "Power_rate_4            6\n",
       "SPM_A_g                 6\n",
       "SPM_tau_fall_r          6\n",
       "SPM_A_i                 6\n",
       "SPM_chi_i               5\n",
       "Harmonics_phase_4_z     4\n",
       "Harmonics_mag_6_i       4\n",
       "SPM_A_r                 4\n",
       "Harmonics_phase_4_r     3\n",
       "Power_rate_1_2          3\n",
       "SPM_chi_z               3\n",
       "SPM_chi_r               3\n",
       "SPM_A_z                 2\n",
       "Power_rate_1_4          2\n",
       "Harmonics_phase_6_z     2\n",
       "PPE                     2\n",
       "SPM_gamma_i             2\n",
       "SPM_tau_fall_z          2\n",
       "SPM_tau_fall_i          2\n",
       "Power_rate_2            1\n",
       "Harmonics_phase_7_z     1\n",
       "SPM_gamma_g             1\n",
       "Harmonics_phase_7_i     1\n",
       "SPM_t0_Y                1\n",
       "SPM_tau_fall_Y          1\n",
       "SPM_tau_fall_g          1\n",
       "Harmonics_chi_i         1\n",
       "Harmonics_phase_5_z     1\n",
       "Harmonics_phase_6_i     1\n",
       "Harmonics_phase_6_r     1\n",
       "SPM_gamma_Y             1\n",
       "Power_rate_1_3          1\n",
       "Harmonics_phase_3_i     1\n",
       "positive_fraction_z     1\n",
       "Timespan                1\n",
       "Name: count, dtype: int64"
      ]
     },
     "execution_count": 10,
     "metadata": {},
     "output_type": "execute_result"
    }
   ],
   "source": [
    "topfeats = pd.Series(np.array(good_feats))\n",
    "topfeats.value_counts()"
   ]
  },
  {
   "cell_type": "code",
   "execution_count": 11,
   "id": "e6d41bbd-c7a0-49cf-8591-791b8dd5c82c",
   "metadata": {
    "execution": {
     "iopub.execute_input": "2025-05-13T19:36:32.002176Z",
     "iopub.status.busy": "2025-05-13T19:36:32.001758Z",
     "iopub.status.idle": "2025-05-13T19:36:32.008791Z",
     "shell.execute_reply": "2025-05-13T19:36:32.008092Z",
     "shell.execute_reply.started": "2025-05-13T19:36:32.002165Z"
    }
   },
   "outputs": [
    {
     "data": {
      "text/plain": [
       "Index(['Harmonics_phase_2_i', 'SPM_A_Y', 'Multiband_period', 'r-i', 'i-z',\n",
       "       'Period_band_i', 'Harmonics_phase_2_z', 'Harmonics_phase_4_i',\n",
       "       'delta_period_i', 'g-r', 'Harmonics_phase_2_r', 'Power_rate_4'],\n",
       "      dtype='object')"
      ]
     },
     "execution_count": 11,
     "metadata": {},
     "output_type": "execute_result"
    }
   ],
   "source": [
    "superset_feats = topfeats.value_counts().iloc[:12].index\n",
    "superset_feats"
   ]
  },
  {
   "cell_type": "code",
   "execution_count": 12,
   "id": "bd3d1a01-00b0-4352-8e58-3ab37b176805",
   "metadata": {
    "execution": {
     "iopub.execute_input": "2025-05-13T19:36:32.009696Z",
     "iopub.status.busy": "2025-05-13T19:36:32.009395Z",
     "iopub.status.idle": "2025-05-13T19:36:32.013744Z",
     "shell.execute_reply": "2025-05-13T19:36:32.013352Z",
     "shell.execute_reply.started": "2025-05-13T19:36:32.009685Z"
    }
   },
   "outputs": [],
   "source": [
    "X_df = X_df.loc[:, superset_feats]\n",
    "X = X_df.to_numpy()"
   ]
  },
  {
   "cell_type": "code",
   "execution_count": 14,
   "id": "bba0855d-4ba8-499d-8bf4-02f51ef3aa8a",
   "metadata": {
    "execution": {
     "iopub.execute_input": "2025-05-13T19:37:27.348854Z",
     "iopub.status.busy": "2025-05-13T19:37:27.347496Z",
     "iopub.status.idle": "2025-05-13T19:50:04.866406Z",
     "shell.execute_reply": "2025-05-13T19:50:04.865829Z",
     "shell.execute_reply.started": "2025-05-13T19:37:27.348803Z"
    }
   },
   "outputs": [
    {
     "data": {
      "application/vnd.jupyter.widget-view+json": {
       "model_id": "d5a1d265ab0846baa921a6a53c7f4c95",
       "version_major": 2,
       "version_minor": 0
      },
      "text/plain": [
       "Metric:   0%|          | 0/18 [00:00<?, ?it/s]"
      ]
     },
     "metadata": {},
     "output_type": "display_data"
    },
    {
     "name": "stdout",
     "output_type": "stream",
     "text": [
      "******************** Euclidean ********************\n",
      "Best F1 score: 93.75%\n",
      "Best subset (8 indices): ['Harmonics_phase_2_i', 'Harmonics_phase_2_r', 'Harmonics_phase_2_z', 'Multiband_period', 'Power_rate_4', 'SPM_A_Y', 'g-r', 'r-i']\n",
      "******************** Braycurtis ********************\n",
      "Best F1 score: 93.38%\n",
      "Best subset (8 indices): ['Harmonics_phase_2_z', 'Harmonics_phase_4_i', 'Multiband_period', 'Period_band_i', 'Power_rate_4', 'SPM_A_Y', 'delta_period_i', 'i-z']\n",
      "******************** Canberra ********************\n",
      "Best F1 score: 94.52%\n",
      "Best subset (7 indices): ['Harmonics_phase_2_i', 'Harmonics_phase_2_r', 'Harmonics_phase_2_z', 'Harmonics_phase_4_i', 'Multiband_period', 'SPM_A_Y', 'r-i']\n",
      "******************** Cityblock ********************\n",
      "Best F1 score: 94.70%\n",
      "Best subset (9 indices): ['Harmonics_phase_2_i', 'Harmonics_phase_2_r', 'Harmonics_phase_2_z', 'Period_band_i', 'Power_rate_4', 'SPM_A_Y', 'g-r', 'i-z', 'r-i']\n",
      "******************** Chebyshev ********************\n",
      "Best F1 score: 90.80%\n",
      "Best subset (6 indices): ['Harmonics_phase_2_r', 'Multiband_period', 'Power_rate_4', 'SPM_A_Y', 'g-r', 'r-i']\n",
      "******************** Clark ********************\n",
      "Best F1 score: 91.36%\n",
      "Best subset (9 indices): ['Harmonics_phase_2_i', 'Harmonics_phase_2_r', 'Harmonics_phase_2_z', 'Harmonics_phase_4_i', 'Multiband_period', 'Power_rate_4', 'SPM_A_Y', 'g-r', 'i-z']\n",
      "******************** Correlation ********************\n",
      "Best F1 score: 84.98%\n",
      "Best subset (5 indices): ['Harmonics_phase_2_r', 'Multiband_period', 'SPM_A_Y', 'delta_period_i', 'i-z']\n",
      "******************** Cosine ********************\n",
      "Best F1 score: 88.31%\n",
      "Best subset (7 indices): ['Harmonics_phase_2_r', 'Multiband_period', 'Period_band_i', 'Power_rate_4', 'SPM_A_Y', 'i-z', 'r-i']\n",
      "******************** Hellinger ********************\n",
      "Best F1 score: 94.40%\n",
      "Best subset (10 indices): ['Harmonics_phase_2_i', 'Harmonics_phase_2_r', 'Harmonics_phase_2_z', 'Harmonics_phase_4_i', 'Multiband_period', 'Power_rate_4', 'SPM_A_Y', 'g-r', 'i-z', 'r-i']\n",
      "******************** Jaccard ********************\n"
     ]
    },
    {
     "name": "stderr",
     "output_type": "stream",
     "text": [
      "/Users/sidchaini/Research/DistClassiPy/distclassipy/distances.py:569: RuntimeWarning: invalid value encountered in scalar divide\n",
      "  return 1 - (uv / (np.dot(u, u) + np.dot(v, v) - uv))\n",
      "/Users/sidchaini/Research/DistClassiPy/distclassipy/distances.py:569: RuntimeWarning: invalid value encountered in scalar divide\n",
      "  return 1 - (uv / (np.dot(u, u) + np.dot(v, v) - uv))\n",
      "/Users/sidchaini/Research/DistClassiPy/distclassipy/distances.py:569: RuntimeWarning: invalid value encountered in scalar divide\n",
      "  return 1 - (uv / (np.dot(u, u) + np.dot(v, v) - uv))\n",
      "/Users/sidchaini/Research/DistClassiPy/distclassipy/distances.py:569: RuntimeWarning: invalid value encountered in scalar divide\n",
      "  return 1 - (uv / (np.dot(u, u) + np.dot(v, v) - uv))\n",
      "/Users/sidchaini/Research/DistClassiPy/distclassipy/distances.py:569: RuntimeWarning: invalid value encountered in scalar divide\n",
      "  return 1 - (uv / (np.dot(u, u) + np.dot(v, v) - uv))\n"
     ]
    },
    {
     "name": "stdout",
     "output_type": "stream",
     "text": [
      "Best F1 score: 90.80%\n",
      "Best subset (5 indices): ['Harmonics_phase_4_i', 'Multiband_period', 'Power_rate_4', 'SPM_A_Y', 'g-r']\n",
      "******************** Lorentzian ********************\n",
      "Best F1 score: 93.99%\n",
      "Best subset (9 indices): ['Harmonics_phase_2_i', 'Harmonics_phase_2_r', 'Harmonics_phase_2_z', 'Harmonics_phase_4_i', 'Period_band_i', 'Power_rate_4', 'SPM_A_Y', 'g-r', 'r-i']\n",
      "******************** Marylandbridge ********************\n"
     ]
    },
    {
     "name": "stderr",
     "output_type": "stream",
     "text": [
      "/Users/sidchaini/Research/DistClassiPy/distclassipy/distances.py:642: RuntimeWarning: invalid value encountered in scalar divide\n",
      "  return 1 - (uvdot / np.dot(u, u) + uvdot / np.dot(v, v)) / 2\n",
      "/Users/sidchaini/Research/DistClassiPy/distclassipy/distances.py:642: RuntimeWarning: invalid value encountered in scalar divide\n",
      "  return 1 - (uvdot / np.dot(u, u) + uvdot / np.dot(v, v)) / 2\n",
      "/Users/sidchaini/Research/DistClassiPy/distclassipy/distances.py:642: RuntimeWarning: invalid value encountered in scalar divide\n",
      "  return 1 - (uvdot / np.dot(u, u) + uvdot / np.dot(v, v)) / 2\n",
      "/Users/sidchaini/Research/DistClassiPy/distclassipy/distances.py:642: RuntimeWarning: invalid value encountered in scalar divide\n",
      "  return 1 - (uvdot / np.dot(u, u) + uvdot / np.dot(v, v)) / 2\n",
      "/Users/sidchaini/Research/DistClassiPy/distclassipy/distances.py:642: RuntimeWarning: invalid value encountered in scalar divide\n",
      "  return 1 - (uvdot / np.dot(u, u) + uvdot / np.dot(v, v)) / 2\n"
     ]
    },
    {
     "name": "stdout",
     "output_type": "stream",
     "text": [
      "Best F1 score: 41.27%\n",
      "Best subset (4 indices): ['Harmonics_phase_4_i', 'SPM_A_Y', 'delta_period_i', 'g-r']\n",
      "******************** Meehl ********************\n",
      "Best F1 score: 92.58%\n",
      "Best subset (9 indices): ['Harmonics_phase_2_i', 'Harmonics_phase_2_r', 'Harmonics_phase_2_z', 'Period_band_i', 'Power_rate_4', 'SPM_A_Y', 'delta_period_i', 'i-z', 'r-i']\n",
      "******************** Motyka ********************\n"
     ]
    },
    {
     "name": "stderr",
     "output_type": "stream",
     "text": [
      "/Users/sidchaini/Research/DistClassiPy/distclassipy/distances.py:726: RuntimeWarning: invalid value encountered in scalar divide\n",
      "  return np.sum(np.maximum(u, v)) / np.sum(u + v)\n",
      "/Users/sidchaini/Research/DistClassiPy/distclassipy/distances.py:726: RuntimeWarning: invalid value encountered in scalar divide\n",
      "  return np.sum(np.maximum(u, v)) / np.sum(u + v)\n",
      "/Users/sidchaini/Research/DistClassiPy/distclassipy/distances.py:726: RuntimeWarning: invalid value encountered in scalar divide\n",
      "  return np.sum(np.maximum(u, v)) / np.sum(u + v)\n",
      "/Users/sidchaini/Research/DistClassiPy/distclassipy/distances.py:726: RuntimeWarning: invalid value encountered in scalar divide\n",
      "  return np.sum(np.maximum(u, v)) / np.sum(u + v)\n",
      "/Users/sidchaini/Research/DistClassiPy/distclassipy/distances.py:726: RuntimeWarning: invalid value encountered in scalar divide\n",
      "  return np.sum(np.maximum(u, v)) / np.sum(u + v)\n"
     ]
    },
    {
     "name": "stdout",
     "output_type": "stream",
     "text": [
      "Best F1 score: 93.38%\n",
      "Best subset (8 indices): ['Harmonics_phase_2_z', 'Harmonics_phase_4_i', 'Multiband_period', 'Period_band_i', 'Power_rate_4', 'SPM_A_Y', 'delta_period_i', 'i-z']\n",
      "******************** Soergel ********************\n"
     ]
    },
    {
     "name": "stderr",
     "output_type": "stream",
     "text": [
      "/Users/sidchaini/Research/DistClassiPy/distclassipy/distances.py:763: RuntimeWarning: invalid value encountered in scalar divide\n",
      "  return np.sum(np.abs(u - v)) / np.sum(np.maximum(u, v))\n",
      "/Users/sidchaini/Research/DistClassiPy/distclassipy/distances.py:763: RuntimeWarning: invalid value encountered in scalar divide\n",
      "  return np.sum(np.abs(u - v)) / np.sum(np.maximum(u, v))\n",
      "/Users/sidchaini/Research/DistClassiPy/distclassipy/distances.py:763: RuntimeWarning: invalid value encountered in scalar divide\n",
      "  return np.sum(np.abs(u - v)) / np.sum(np.maximum(u, v))\n",
      "/Users/sidchaini/Research/DistClassiPy/distclassipy/distances.py:763: RuntimeWarning: invalid value encountered in scalar divide\n",
      "  return np.sum(np.abs(u - v)) / np.sum(np.maximum(u, v))\n",
      "/Users/sidchaini/Research/DistClassiPy/distclassipy/distances.py:763: RuntimeWarning: invalid value encountered in scalar divide\n",
      "  return np.sum(np.abs(u - v)) / np.sum(np.maximum(u, v))\n"
     ]
    },
    {
     "name": "stdout",
     "output_type": "stream",
     "text": [
      "Best F1 score: 93.38%\n",
      "Best subset (8 indices): ['Harmonics_phase_2_z', 'Harmonics_phase_4_i', 'Multiband_period', 'Period_band_i', 'Power_rate_4', 'SPM_A_Y', 'delta_period_i', 'i-z']\n",
      "******************** Wave_Hedges ********************\n",
      "Best F1 score: 93.49%\n",
      "Best subset (6 indices): ['Harmonics_phase_2_i', 'Harmonics_phase_2_r', 'Harmonics_phase_4_i', 'Multiband_period', 'SPM_A_Y', 'r-i']\n",
      "******************** Kulczynski ********************\n"
     ]
    },
    {
     "name": "stderr",
     "output_type": "stream",
     "text": [
      "/Users/sidchaini/Research/DistClassiPy/distclassipy/distances.py:833: RuntimeWarning: invalid value encountered in scalar divide\n",
      "  return np.sum(np.abs(u - v)) / np.sum(np.minimum(u, v))\n",
      "/Users/sidchaini/Research/DistClassiPy/distclassipy/distances.py:833: RuntimeWarning: divide by zero encountered in scalar divide\n",
      "  return np.sum(np.abs(u - v)) / np.sum(np.minimum(u, v))\n",
      "/Users/sidchaini/Research/DistClassiPy/distclassipy/distances.py:833: RuntimeWarning: invalid value encountered in scalar divide\n",
      "  return np.sum(np.abs(u - v)) / np.sum(np.minimum(u, v))\n",
      "/Users/sidchaini/Research/DistClassiPy/distclassipy/distances.py:833: RuntimeWarning: divide by zero encountered in scalar divide\n",
      "  return np.sum(np.abs(u - v)) / np.sum(np.minimum(u, v))\n",
      "/Users/sidchaini/Research/DistClassiPy/distclassipy/distances.py:833: RuntimeWarning: invalid value encountered in scalar divide\n",
      "  return np.sum(np.abs(u - v)) / np.sum(np.minimum(u, v))\n",
      "/Users/sidchaini/Research/DistClassiPy/distclassipy/distances.py:833: RuntimeWarning: divide by zero encountered in scalar divide\n",
      "  return np.sum(np.abs(u - v)) / np.sum(np.minimum(u, v))\n",
      "/Users/sidchaini/Research/DistClassiPy/distclassipy/distances.py:833: RuntimeWarning: divide by zero encountered in scalar divide\n",
      "  return np.sum(np.abs(u - v)) / np.sum(np.minimum(u, v))\n",
      "/Users/sidchaini/Research/DistClassiPy/distclassipy/distances.py:833: RuntimeWarning: invalid value encountered in scalar divide\n",
      "  return np.sum(np.abs(u - v)) / np.sum(np.minimum(u, v))\n",
      "/Users/sidchaini/Research/DistClassiPy/distclassipy/distances.py:833: RuntimeWarning: invalid value encountered in scalar divide\n",
      "  return np.sum(np.abs(u - v)) / np.sum(np.minimum(u, v))\n",
      "/Users/sidchaini/Research/DistClassiPy/distclassipy/distances.py:833: RuntimeWarning: divide by zero encountered in scalar divide\n",
      "  return np.sum(np.abs(u - v)) / np.sum(np.minimum(u, v))\n"
     ]
    },
    {
     "name": "stdout",
     "output_type": "stream",
     "text": [
      "Best F1 score: 93.38%\n",
      "Best subset (8 indices): ['Harmonics_phase_2_z', 'Harmonics_phase_4_i', 'Multiband_period', 'Period_band_i', 'Power_rate_4', 'SPM_A_Y', 'delta_period_i', 'i-z']\n",
      "******************** Add_Chisq ********************\n",
      "Best F1 score: 93.30%\n",
      "Best subset (9 indices): ['Harmonics_phase_2_i', 'Harmonics_phase_2_r', 'Multiband_period', 'Period_band_i', 'Power_rate_4', 'SPM_A_Y', 'g-r', 'i-z', 'r-i']\n"
     ]
    }
   ],
   "source": [
    "for metric in tqdm(all_metrics, desc=\"Metric\", leave=True):\n",
    "    metric_str = utils.get_metric_name(metric)\n",
    "    locpath = os.path.join(\"results\", metric_str)\n",
    "    print(\"*\" * 20, metric_str, \"*\" * 20)\n",
    "    Path(locpath).mkdir(parents=True, exist_ok=True)\n",
    "\n",
    "    lcdc = dcpy.DistanceMetricClassifier(\n",
    "        scale=True,\n",
    "        central_stat=\"median\",\n",
    "        dispersion_stat=\"std\",\n",
    "        metric=metric,\n",
    "    )\n",
    "    # Exhaustive Feature Selection\n",
    "\n",
    "    feat_selector = EFS(\n",
    "        lcdc,\n",
    "        min_features=1,\n",
    "        max_features=len(superset_feats),\n",
    "        scoring=scoring,\n",
    "        print_progress=False,\n",
    "        n_jobs=-1,\n",
    "    ).fit(X_df, y_df)\n",
    "    print(f\"Best F1 score: {feat_selector.best_score_:.2%}\")\n",
    "    print(\n",
    "        f\"Best subset ({len(feat_selector.best_idx_)} indices): {sorted(list(feat_selector.best_feature_names_))}\"\n",
    "    )\n",
    "\n",
    "    res_df = pd.DataFrame.from_dict(feat_selector.get_metric_dict()).T\n",
    "    res_df[\"avg_score\"] = res_df[\"avg_score\"].astype(\"float\")\n",
    "    res_df = res_df.sort_values(\"avg_score\", ascending=False).reset_index(drop=True)\n",
    "    res_df.to_csv(f\"{locpath}/efs_allfeatures.csv\", index=False)"
   ]
  }
 ],
 "metadata": {
  "kernelspec": {
   "display_name": "Python 3 (ipykernel)",
   "language": "python",
   "name": "python3"
  },
  "language_info": {
   "codemirror_mode": {
    "name": "ipython",
    "version": 3
   },
   "file_extension": ".py",
   "mimetype": "text/x-python",
   "name": "python",
   "nbconvert_exporter": "python",
   "pygments_lexer": "ipython3",
   "version": "3.12.4"
  }
 },
 "nbformat": 4,
 "nbformat_minor": 5
}
