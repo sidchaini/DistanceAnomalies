{
 "cells": [
  {
   "cell_type": "code",
   "execution_count": 1,
   "metadata": {
    "_cell_guid": "b1076dfc-b9ad-4769-8c92-a6c4dae69d19",
    "_uuid": "8f2839f25d086af736a60e9eeb907d3b93b6e0e5",
    "execution": {
     "iopub.execute_input": "2025-05-04T03:46:21.086820Z",
     "iopub.status.busy": "2025-05-04T03:46:21.086559Z",
     "iopub.status.idle": "2025-05-04T03:46:34.770821Z",
     "shell.execute_reply": "2025-05-04T03:46:34.769883Z",
     "shell.execute_reply.started": "2025-05-04T03:46:21.086795Z"
    },
    "trusted": true
   },
   "outputs": [
    {
     "name": "stdout",
     "output_type": "stream",
     "text": [
      "Cloning into 'pipeline'...\n",
      "remote: Enumerating objects: 93767, done.\u001b[K\n",
      "remote: Counting objects: 100% (136/136), done.\u001b[K\n",
      "remote: Compressing objects: 100% (87/87), done.\u001b[K\n",
      "remote: Total 93767 (delta 64), reused 72 (delta 48), pack-reused 93631 (from 4)\u001b[K\n",
      "Receiving objects: 100% (93767/93767), 163.36 MiB | 24.87 MiB/s, done.\n",
      "Resolving deltas: 100% (74570/74570), done.\n",
      "Updating files: 100% (2538/2538), done.\n"
     ]
    }
   ],
   "source": [
    "!git clone https://github.com/alercebroker/pipeline"
   ]
  },
  {
   "cell_type": "code",
   "execution_count": 3,
   "metadata": {
    "collapsed": true,
    "execution": {
     "iopub.execute_input": "2025-05-04T03:47:09.651061Z",
     "iopub.status.busy": "2025-05-04T03:47:09.650723Z",
     "iopub.status.idle": "2025-05-04T03:49:17.997177Z",
     "shell.execute_reply": "2025-05-04T03:49:17.995984Z",
     "shell.execute_reply.started": "2025-05-04T03:47:09.651035Z"
    },
    "jupyter": {
     "outputs_hidden": true
    },
    "trusted": true
   },
   "outputs": [
    {
     "name": "stdout",
     "output_type": "stream",
     "text": [
      "Obtaining file:///kaggle/working/pipeline/lc_classifier\n",
      "  Installing build dependencies ... \u001b[?25l\u001b[?25hdone\n",
      "  Checking if build backend supports build_editable ... \u001b[?25l\u001b[?25hdone\n",
      "  Getting requirements to build editable ... \u001b[?25l\u001b[?25hdone\n",
      "  Preparing editable metadata (pyproject.toml) ... \u001b[?25l\u001b[?25hdone\n",
      "Processing ./pipeline/P4J (from lc-classifier==27.5.7a8)\n",
      "  Installing build dependencies ... \u001b[?25l\u001b[?25hdone\n",
      "  Getting requirements to build wheel ... \u001b[?25l\u001b[?25hdone\n",
      "  Preparing metadata (pyproject.toml) ... \u001b[?25l\u001b[?25hdone\n",
      "Processing ./pipeline/mhps (from lc-classifier==27.5.7a8)\n",
      "  Installing build dependencies ... \u001b[?25l\u001b[?25hdone\n",
      "  Getting requirements to build wheel ... \u001b[?25l\u001b[?25hdone\n",
      "  Preparing metadata (pyproject.toml) ... \u001b[?25l\u001b[?25hdone\n",
      "Collecting astropy<7.0,>=6.1 (from lc-classifier==27.5.7a8)\n",
      "  Downloading astropy-6.1.7-cp311-cp311-manylinux_2_17_x86_64.manylinux2014_x86_64.whl.metadata (10 kB)\n",
      "Collecting celerite2<0.4.0,>=0.3.1 (from lc-classifier==27.5.7a8)\n",
      "  Downloading celerite2-0.3.2-cp311-cp311-manylinux_2_17_x86_64.manylinux2014_x86_64.whl.metadata (3.2 kB)\n",
      "Collecting extinction (from lc-classifier==27.5.7a8)\n",
      "  Downloading extinction-0.4.7-cp311-cp311-manylinux_2_17_x86_64.manylinux2014_x86_64.whl.metadata (593 bytes)\n",
      "Requirement already satisfied: jax<0.5.0,>=0.4.26 in /usr/local/lib/python3.11/dist-packages (from jax[cpu]<0.5.0,>=0.4.26->lc-classifier==27.5.7a8) (0.4.33)\n",
      "Collecting matplotlib<4.0.0,>=3.8.4 (from lc-classifier==27.5.7a8)\n",
      "  Downloading matplotlib-3.10.1-cp311-cp311-manylinux_2_17_x86_64.manylinux2014_x86_64.whl.metadata (11 kB)\n",
      "Collecting numba<0.60,>=0.59 (from lc-classifier==27.5.7a8)\n",
      "  Downloading numba-0.59.1-cp311-cp311-manylinux2014_x86_64.manylinux_2_17_x86_64.whl.metadata (2.7 kB)\n",
      "Requirement already satisfied: numpy<2.0,>=1.26 in /usr/local/lib/python3.11/dist-packages (from lc-classifier==27.5.7a8) (1.26.4)\n",
      "Requirement already satisfied: pandas<3.0.0,>=2.2.2 in /usr/local/lib/python3.11/dist-packages (from lc-classifier==27.5.7a8) (2.2.3)\n",
      "Collecting pyarrow<17.0,>=16.0 (from lc-classifier==27.5.7a8)\n",
      "  Downloading pyarrow-16.1.0-cp311-cp311-manylinux_2_28_x86_64.whl.metadata (3.0 kB)\n",
      "Requirement already satisfied: scipy<2.0,>=1.13 in /usr/local/lib/python3.11/dist-packages (from lc-classifier==27.5.7a8) (1.15.2)\n",
      "Requirement already satisfied: statsmodels<0.15.0,>=0.14.2 in /usr/local/lib/python3.11/dist-packages (from lc-classifier==27.5.7a8) (0.14.4)\n",
      "Requirement already satisfied: tqdm<5.0.0,>=4.66.2 in /usr/local/lib/python3.11/dist-packages (from lc-classifier==27.5.7a8) (4.67.1)\n",
      "Requirement already satisfied: pyerfa>=2.0.1.1 in /usr/local/lib/python3.11/dist-packages (from astropy<7.0,>=6.1->lc-classifier==27.5.7a8) (2.0.1.5)\n",
      "Requirement already satisfied: astropy-iers-data>=0.2024.10.28.0.34.7 in /usr/local/lib/python3.11/dist-packages (from astropy<7.0,>=6.1->lc-classifier==27.5.7a8) (0.2025.2.10.0.33.26)\n",
      "Requirement already satisfied: PyYAML>=3.13 in /usr/local/lib/python3.11/dist-packages (from astropy<7.0,>=6.1->lc-classifier==27.5.7a8) (6.0.2)\n",
      "Requirement already satisfied: packaging>=19.0 in /usr/local/lib/python3.11/dist-packages (from astropy<7.0,>=6.1->lc-classifier==27.5.7a8) (24.2)\n",
      "Requirement already satisfied: jaxlib<=0.4.33,>=0.4.33 in /usr/local/lib/python3.11/dist-packages (from jax<0.5.0,>=0.4.26->jax[cpu]<0.5.0,>=0.4.26->lc-classifier==27.5.7a8) (0.4.33)\n",
      "Requirement already satisfied: ml-dtypes>=0.2.0 in /usr/local/lib/python3.11/dist-packages (from jax<0.5.0,>=0.4.26->jax[cpu]<0.5.0,>=0.4.26->lc-classifier==27.5.7a8) (0.4.1)\n",
      "Requirement already satisfied: opt-einsum in /usr/local/lib/python3.11/dist-packages (from jax<0.5.0,>=0.4.26->jax[cpu]<0.5.0,>=0.4.26->lc-classifier==27.5.7a8) (3.4.0)\n",
      "Requirement already satisfied: contourpy>=1.0.1 in /usr/local/lib/python3.11/dist-packages (from matplotlib<4.0.0,>=3.8.4->lc-classifier==27.5.7a8) (1.3.1)\n",
      "Requirement already satisfied: cycler>=0.10 in /usr/local/lib/python3.11/dist-packages (from matplotlib<4.0.0,>=3.8.4->lc-classifier==27.5.7a8) (0.12.1)\n",
      "Requirement already satisfied: fonttools>=4.22.0 in /usr/local/lib/python3.11/dist-packages (from matplotlib<4.0.0,>=3.8.4->lc-classifier==27.5.7a8) (4.56.0)\n",
      "Requirement already satisfied: kiwisolver>=1.3.1 in /usr/local/lib/python3.11/dist-packages (from matplotlib<4.0.0,>=3.8.4->lc-classifier==27.5.7a8) (1.4.8)\n",
      "Requirement already satisfied: pillow>=8 in /usr/local/lib/python3.11/dist-packages (from matplotlib<4.0.0,>=3.8.4->lc-classifier==27.5.7a8) (11.1.0)\n",
      "Requirement already satisfied: pyparsing>=2.3.1 in /usr/local/lib/python3.11/dist-packages (from matplotlib<4.0.0,>=3.8.4->lc-classifier==27.5.7a8) (3.2.1)\n",
      "Requirement already satisfied: python-dateutil>=2.7 in /usr/local/lib/python3.11/dist-packages (from matplotlib<4.0.0,>=3.8.4->lc-classifier==27.5.7a8) (2.9.0.post0)\n",
      "Collecting llvmlite<0.43,>=0.42.0dev0 (from numba<0.60,>=0.59->lc-classifier==27.5.7a8)\n",
      "  Downloading llvmlite-0.42.0-cp311-cp311-manylinux_2_17_x86_64.manylinux2014_x86_64.whl.metadata (4.8 kB)\n",
      "Requirement already satisfied: mkl_fft in /usr/local/lib/python3.11/dist-packages (from numpy<2.0,>=1.26->lc-classifier==27.5.7a8) (1.3.8)\n",
      "Requirement already satisfied: mkl_random in /usr/local/lib/python3.11/dist-packages (from numpy<2.0,>=1.26->lc-classifier==27.5.7a8) (1.2.4)\n",
      "Requirement already satisfied: mkl_umath in /usr/local/lib/python3.11/dist-packages (from numpy<2.0,>=1.26->lc-classifier==27.5.7a8) (0.1.1)\n",
      "Requirement already satisfied: mkl in /usr/local/lib/python3.11/dist-packages (from numpy<2.0,>=1.26->lc-classifier==27.5.7a8) (2025.1.0)\n",
      "Requirement already satisfied: tbb4py in /usr/local/lib/python3.11/dist-packages (from numpy<2.0,>=1.26->lc-classifier==27.5.7a8) (2022.1.0)\n",
      "Requirement already satisfied: mkl-service in /usr/local/lib/python3.11/dist-packages (from numpy<2.0,>=1.26->lc-classifier==27.5.7a8) (2.4.1)\n",
      "Requirement already satisfied: pytz>=2020.1 in /usr/local/lib/python3.11/dist-packages (from pandas<3.0.0,>=2.2.2->lc-classifier==27.5.7a8) (2025.2)\n",
      "Requirement already satisfied: tzdata>=2022.7 in /usr/local/lib/python3.11/dist-packages (from pandas<3.0.0,>=2.2.2->lc-classifier==27.5.7a8) (2025.2)\n",
      "Requirement already satisfied: patsy>=0.5.6 in /usr/local/lib/python3.11/dist-packages (from statsmodels<0.15.0,>=0.14.2->lc-classifier==27.5.7a8) (1.0.1)\n",
      "Requirement already satisfied: Cython>=0.29.12 in /usr/local/lib/python3.11/dist-packages (from mhps@ file:///kaggle/working/pipeline/mhps->lc-classifier==27.5.7a8) (3.0.12)\n",
      "Requirement already satisfied: six>=1.5 in /usr/local/lib/python3.11/dist-packages (from python-dateutil>=2.7->matplotlib<4.0.0,>=3.8.4->lc-classifier==27.5.7a8) (1.17.0)\n",
      "Requirement already satisfied: intel-openmp<2026,>=2024 in /usr/local/lib/python3.11/dist-packages (from mkl->numpy<2.0,>=1.26->lc-classifier==27.5.7a8) (2024.2.0)\n",
      "Requirement already satisfied: tbb==2022.* in /usr/local/lib/python3.11/dist-packages (from mkl->numpy<2.0,>=1.26->lc-classifier==27.5.7a8) (2022.1.0)\n",
      "Requirement already satisfied: tcmlib==1.* in /usr/local/lib/python3.11/dist-packages (from tbb==2022.*->mkl->numpy<2.0,>=1.26->lc-classifier==27.5.7a8) (1.2.0)\n",
      "Requirement already satisfied: intel-cmplr-lib-rt in /usr/local/lib/python3.11/dist-packages (from mkl_umath->numpy<2.0,>=1.26->lc-classifier==27.5.7a8) (2024.2.0)\n",
      "Requirement already satisfied: intel-cmplr-lib-ur==2024.2.0 in /usr/local/lib/python3.11/dist-packages (from intel-openmp<2026,>=2024->mkl->numpy<2.0,>=1.26->lc-classifier==27.5.7a8) (2024.2.0)\n",
      "Downloading astropy-6.1.7-cp311-cp311-manylinux_2_17_x86_64.manylinux2014_x86_64.whl (10.2 MB)\n",
      "\u001b[2K   \u001b[90m━━━━━━━━━━━━━━━━━━━━━━━━━━━━━━━━━━━━━━━━\u001b[0m \u001b[32m10.2/10.2 MB\u001b[0m \u001b[31m11.6 MB/s\u001b[0m eta \u001b[36m0:00:00\u001b[0m00:01\u001b[0m:01\u001b[0mm\n",
      "\u001b[?25hDownloading celerite2-0.3.2-cp311-cp311-manylinux_2_17_x86_64.manylinux2014_x86_64.whl (642 kB)\n",
      "\u001b[2K   \u001b[90m━━━━━━━━━━━━━━━━━━━━━━━━━━━━━━━━━━━━━━━━\u001b[0m \u001b[32m642.2/642.2 kB\u001b[0m \u001b[31m34.8 MB/s\u001b[0m eta \u001b[36m0:00:00\u001b[0m\n",
      "\u001b[?25hDownloading matplotlib-3.10.1-cp311-cp311-manylinux_2_17_x86_64.manylinux2014_x86_64.whl (8.6 MB)\n",
      "\u001b[2K   \u001b[90m━━━━━━━━━━━━━━━━━━━━━━━━━━━━━━━━━━━━━━━━\u001b[0m \u001b[32m8.6/8.6 MB\u001b[0m \u001b[31m92.1 MB/s\u001b[0m eta \u001b[36m0:00:00\u001b[0m:00:01\u001b[0m00:01\u001b[0m\n",
      "\u001b[?25hDownloading numba-0.59.1-cp311-cp311-manylinux2014_x86_64.manylinux_2_17_x86_64.whl (3.7 MB)\n",
      "\u001b[2K   \u001b[90m━━━━━━━━━━━━━━━━━━━━━━━━━━━━━━━━━━━━━━━━\u001b[0m \u001b[32m3.7/3.7 MB\u001b[0m \u001b[31m80.7 MB/s\u001b[0m eta \u001b[36m0:00:00\u001b[0m:00:01\u001b[0m\n",
      "\u001b[?25hDownloading pyarrow-16.1.0-cp311-cp311-manylinux_2_28_x86_64.whl (40.8 MB)\n",
      "\u001b[2K   \u001b[90m━━━━━━━━━━━━━━━━━━━━━━━━━━━━━━━━━━━━━━━━\u001b[0m \u001b[32m40.8/40.8 MB\u001b[0m \u001b[31m35.9 MB/s\u001b[0m eta \u001b[36m0:00:00\u001b[0m:00:01\u001b[0m00:01\u001b[0m\n",
      "\u001b[?25hDownloading extinction-0.4.7-cp311-cp311-manylinux_2_17_x86_64.manylinux2014_x86_64.whl (600 kB)\n",
      "\u001b[2K   \u001b[90m━━━━━━━━━━━━━━━━━━━━━━━━━━━━━━━━━━━━━━━━\u001b[0m \u001b[32m600.1/600.1 kB\u001b[0m \u001b[31m30.6 MB/s\u001b[0m eta \u001b[36m0:00:00\u001b[0m\n",
      "\u001b[?25hDownloading llvmlite-0.42.0-cp311-cp311-manylinux_2_17_x86_64.manylinux2014_x86_64.whl (43.8 MB)\n",
      "\u001b[2K   \u001b[90m━━━━━━━━━━━━━━━━━━━━━━━━━━━━━━━━━━━━━━━━\u001b[0m \u001b[32m43.8/43.8 MB\u001b[0m \u001b[31m38.0 MB/s\u001b[0m eta \u001b[36m0:00:00\u001b[0m:00:01\u001b[0m00:01\u001b[0m\n",
      "\u001b[?25hBuilding wheels for collected packages: lc-classifier, mhps, P4J\n",
      "  Building editable for lc-classifier (pyproject.toml) ... \u001b[?25l\u001b[?25hdone\n",
      "  Created wheel for lc-classifier: filename=lc_classifier-27.5.7a8-py3-none-any.whl size=3004 sha256=5519b806da027aa577955d722ba146b601176d6caa0f504211fcd3f1cfd52aa5\n",
      "  Stored in directory: /tmp/pip-ephem-wheel-cache-okdgffb9/wheels/37/9a/39/d7ae7b7716f39a3e2ef169bf5080fb87b43bf0954cee2b0ac3\n",
      "  Building wheel for mhps (pyproject.toml) ... \u001b[?25l\u001b[?25hdone\n",
      "  Created wheel for mhps: filename=mhps-0.1.1-cp311-cp311-linux_x86_64.whl size=211966 sha256=344449c6a98fad3660bddf34ec9d9f807de9a3d0c8b8765fd47cd6474f5f6afd\n",
      "  Stored in directory: /tmp/pip-ephem-wheel-cache-okdgffb9/wheels/cf/68/7f/b6522dde03daaabbb0c11d41124c954a20975d186df4b0ac7b\n",
      "  Building wheel for P4J (pyproject.toml) ... \u001b[?25l\u001b[?25hdone\n",
      "  Created wheel for P4J: filename=p4j-1.2.0-cp311-cp311-linux_x86_64.whl size=2365221 sha256=17b67ad865f3032f8ac67608b88d90b27dfe2b537589b28e522e873e54aeeeec\n",
      "  Stored in directory: /tmp/pip-ephem-wheel-cache-okdgffb9/wheels/60/42/fb/b1f4ea2e1004fb216f3f56cb405248fa696a470ce071c2bdc4\n",
      "Successfully built lc-classifier mhps P4J\n",
      "Installing collected packages: llvmlite, pyarrow, P4J, numba, mhps, matplotlib, extinction, celerite2, astropy, lc-classifier\n",
      "  Attempting uninstall: llvmlite\n",
      "    Found existing installation: llvmlite 0.43.0\n",
      "    Uninstalling llvmlite-0.43.0:\n",
      "      Successfully uninstalled llvmlite-0.43.0\n",
      "  Attempting uninstall: pyarrow\n",
      "    Found existing installation: pyarrow 19.0.1\n",
      "    Uninstalling pyarrow-19.0.1:\n",
      "      Successfully uninstalled pyarrow-19.0.1\n",
      "  Attempting uninstall: numba\n",
      "    Found existing installation: numba 0.60.0\n",
      "    Uninstalling numba-0.60.0:\n",
      "      Successfully uninstalled numba-0.60.0\n",
      "  Attempting uninstall: matplotlib\n",
      "    Found existing installation: matplotlib 3.7.5\n",
      "    Uninstalling matplotlib-3.7.5:\n",
      "      Successfully uninstalled matplotlib-3.7.5\n",
      "  Attempting uninstall: astropy\n",
      "    Found existing installation: astropy 7.0.1\n",
      "    Uninstalling astropy-7.0.1:\n",
      "      Successfully uninstalled astropy-7.0.1\n",
      "\u001b[31mERROR: pip's dependency resolver does not currently take into account all the packages that are installed. This behaviour is the source of the following dependency conflicts.\n",
      "datasets 3.5.0 requires fsspec[http]<=2024.12.0,>=2023.1.0, but you have fsspec 2025.3.2 which is incompatible.\n",
      "ydata-profiling 4.16.1 requires matplotlib<=3.10,>=3.5, but you have matplotlib 3.10.1 which is incompatible.\n",
      "pandas-gbq 0.26.1 requires google-api-core<3.0.0dev,>=2.10.2, but you have google-api-core 1.34.1 which is incompatible.\n",
      "bigframes 1.36.0 requires rich<14,>=12.4.4, but you have rich 14.0.0 which is incompatible.\n",
      "mlxtend 0.23.4 requires scikit-learn>=1.3.1, but you have scikit-learn 1.2.2 which is incompatible.\u001b[0m\u001b[31m\n",
      "\u001b[0mSuccessfully installed P4J-1.2.0 astropy-6.1.7 celerite2-0.3.2 extinction-0.4.7 lc-classifier-27.5.7a8 llvmlite-0.42.0 matplotlib-3.10.1 mhps-0.1.1 numba-0.59.1 pyarrow-16.1.0\n"
     ]
    }
   ],
   "source": [
    "!pip install -e /kaggle/working/pipeline/lc_classifier"
   ]
  },
  {
   "cell_type": "code",
   "execution_count": 5,
   "metadata": {
    "execution": {
     "iopub.execute_input": "2025-05-04T03:49:28.475181Z",
     "iopub.status.busy": "2025-05-04T03:49:28.474336Z",
     "iopub.status.idle": "2025-05-04T03:49:28.479759Z",
     "shell.execute_reply": "2025-05-04T03:49:28.478790Z",
     "shell.execute_reply.started": "2025-05-04T03:49:28.475151Z"
    },
    "trusted": true
   },
   "outputs": [],
   "source": [
    "import numpy as np\n",
    "import pandas as pd\n",
    "import matplotlib.pyplot as plt\n",
    "import sys\n",
    "import os\n",
    "import glob\n",
    "from tqdm.auto import tqdm"
   ]
  },
  {
   "cell_type": "code",
   "execution_count": 7,
   "metadata": {
    "execution": {
     "iopub.execute_input": "2025-05-04T03:50:05.671988Z",
     "iopub.status.busy": "2025-05-04T03:50:05.671642Z",
     "iopub.status.idle": "2025-05-04T03:50:11.821726Z",
     "shell.execute_reply": "2025-05-04T03:50:11.820901Z",
     "shell.execute_reply.started": "2025-05-04T03:50:05.671963Z"
    },
    "trusted": true
   },
   "outputs": [],
   "source": [
    "sys.path.append(\"/kaggle/working/pipeline/lc_classifier\")\n",
    "from lc_classifier.features.composites.elasticc import ElasticcFeatureExtractor\n",
    "from lc_classifier.features.core.base import AstroObject"
   ]
  },
  {
   "cell_type": "code",
   "execution_count": 11,
   "metadata": {
    "execution": {
     "iopub.execute_input": "2025-05-04T03:53:42.287836Z",
     "iopub.status.busy": "2025-05-04T03:53:42.287283Z",
     "iopub.status.idle": "2025-05-04T03:53:42.297125Z",
     "shell.execute_reply": "2025-05-04T03:53:42.296015Z",
     "shell.execute_reply.started": "2025-05-04T03:53:42.287810Z"
    },
    "trusted": true
   },
   "outputs": [],
   "source": [
    "def get_detections(chosen_df, snid):\n",
    "    detections_colnames = [\"SNID\", \"MJD\", \"BAND\", \"FLUXCAL\", \"FLUXCALERR\", \"PHOTFLAG\"]\n",
    "    tot_pts = chosen_df[\"MJD\"].shape[0]\n",
    "    dat = []\n",
    "    dat.append([snid] * (tot_pts))\n",
    "    for col in detections_colnames[1:]:\n",
    "        dat.append(chosen_df.loc[col])\n",
    "    dat = np.array(dat).T\n",
    "    detections = (\n",
    "        pd.DataFrame(data=dat, columns=detections_colnames)\n",
    "        .sort_values(by=\"MJD\")\n",
    "        .reset_index(drop=True)\n",
    "    )\n",
    "    return detections\n",
    "\n",
    "\n",
    "def get_meta(chosen_df, snid):\n",
    "    metacols = [\n",
    "        \"SNID\",\n",
    "        \"RA\",\n",
    "        \"DEC\",\n",
    "        \"SNTYPE\",\n",
    "        \"NOBS\",\n",
    "        \"PTROBS_MIN\",\n",
    "        \"PTROBS_MAX\",\n",
    "        \"MWEBV\",\n",
    "        \"MWEBV_ERR\",\n",
    "        \"REDSHIFT_HELIO\",\n",
    "        \"REDSHIFT_HELIO_ERR\",\n",
    "        \"REDSHIFT_FINAL\",\n",
    "        \"REDSHIFT_FINAL_ERR\",\n",
    "        \"VPEC\",\n",
    "        \"VPEC_ERR\",\n",
    "    ]\n",
    "\n",
    "    names = chosen_df.loc[metacols].index.to_numpy()\n",
    "    values = chosen_df.loc[metacols].to_numpy()\n",
    "    names = np.append(names, \"aid\")\n",
    "    values = np.append(values, np.nan)\n",
    "    dat = np.stack([names, values]).T\n",
    "    metadata = pd.DataFrame(data=dat, columns=[\"name\", \"value\"])\n",
    "    return metadata\n",
    "\n",
    "\n",
    "def get_sniddata(df_parquet, snid):\n",
    "    chosen_df = df_parquet[df_parquet[\"SNID\"] == snid].iloc[0]\n",
    "    detections = get_detections(chosen_df, snid)\n",
    "    metadata = get_meta(chosen_df, snid)\n",
    "\n",
    "    return detections, metadata"
   ]
  },
  {
   "cell_type": "code",
   "execution_count": 12,
   "metadata": {
    "execution": {
     "iopub.execute_input": "2025-05-04T03:53:47.986799Z",
     "iopub.status.busy": "2025-05-04T03:53:47.986512Z",
     "iopub.status.idle": "2025-05-04T03:53:48.024797Z",
     "shell.execute_reply": "2025-05-04T03:53:48.023780Z",
     "shell.execute_reply.started": "2025-05-04T03:53:47.986779Z"
    },
    "trusted": true
   },
   "outputs": [],
   "source": [
    "def alerce_lcobj(detections, metadata):\n",
    "    # assert detections[\"SNID\"].unique().shape[0] == 1\n",
    "    detections.rename(\n",
    "        columns={\n",
    "            \"MJD\": \"mjd\",\n",
    "            \"BAND\": \"fid\",\n",
    "            \"FLUXCAL\": \"brightness\",\n",
    "            \"FLUXCALERR\": \"e_brightness\",\n",
    "        },\n",
    "        inplace=True,\n",
    "    )\n",
    "    detections[\"candid\"] = None\n",
    "    detections[\"tid\"] = \"elasticc_telescope\"\n",
    "    detections[\"sid\"] = \"elasticc_survey\"\n",
    "    detections[\"pid\"] = \"elasticc_program\"\n",
    "\n",
    "    detections[\"ra\"] = float(metadata[metadata[\"name\"] == \"RA\"][\"value\"].values[0])\n",
    "    detections[\"dec\"] = float(metadata[metadata[\"name\"] == \"DEC\"][\"value\"].values[0])\n",
    "    detections[\"unit\"] = \"diff_flux\"\n",
    "\n",
    "    is_detected = detections[\"PHOTFLAG\"] > 0\n",
    "    detections.drop(columns=[\"PHOTFLAG\"], inplace=True)\n",
    "    forced_photometry = detections[~is_detected]\n",
    "    detections = detections[is_detected]\n",
    "\n",
    "    astro_object = AstroObject(\n",
    "        detections=detections, forced_photometry=forced_photometry, metadata=metadata\n",
    "    )\n",
    "\n",
    "    return astro_object\n",
    "\n",
    "\n",
    "def alerce_feature_listobjs(\n",
    "    astro_objects, feature_extractor=ElasticcFeatureExtractor(), progress_bar=False\n",
    "):\n",
    "    # astro_objects is list of astro_object e.g. [astro_object1, astro_object2, etc.]\n",
    "    feature_extractor.compute_features_batch(\n",
    "        [elasticc_object], progress_bar=progress_bar\n",
    "    )\n",
    "    return astro_objects"
   ]
  },
  {
   "cell_type": "code",
   "execution_count": 9,
   "metadata": {
    "execution": {
     "iopub.execute_input": "2025-05-04T03:53:27.841980Z",
     "iopub.status.busy": "2025-05-04T03:53:27.841345Z",
     "iopub.status.idle": "2025-05-04T03:53:28.024811Z",
     "shell.execute_reply": "2025-05-04T03:53:28.023941Z",
     "shell.execute_reply.started": "2025-05-04T03:53:27.841953Z"
    },
    "trusted": true
   },
   "outputs": [],
   "source": [
    "# glob.glob(\"/global/cfs/cdirs/desc-td/ELASTICC2_parquet/*.parquet\")\n",
    "\n",
    "df = pd.read_parquet(\"/kaggle/input/elasticc2-parquet/Cepheid.parquet\")\n",
    "# dftrain = pd.read_parquet(\"/kaggle/input/elasticc2-train02-parquet/Cepheid.parquet\")"
   ]
  },
  {
   "cell_type": "code",
   "execution_count": 10,
   "metadata": {
    "execution": {
     "iopub.execute_input": "2025-05-04T03:53:31.832858Z",
     "iopub.status.busy": "2025-05-04T03:53:31.832479Z",
     "iopub.status.idle": "2025-05-04T03:53:31.842780Z",
     "shell.execute_reply": "2025-05-04T03:53:31.841839Z",
     "shell.execute_reply.started": "2025-05-04T03:53:31.832832Z"
    },
    "trusted": true
   },
   "outputs": [],
   "source": [
    "snids = df[\"SNID\"].to_numpy()"
   ]
  },
  {
   "cell_type": "code",
   "execution_count": 16,
   "metadata": {
    "execution": {
     "iopub.execute_input": "2025-05-04T03:54:30.400980Z",
     "iopub.status.busy": "2025-05-04T03:54:30.400601Z",
     "iopub.status.idle": "2025-05-04T03:54:30.409811Z",
     "shell.execute_reply": "2025-05-04T03:54:30.408973Z",
     "shell.execute_reply.started": "2025-05-04T03:54:30.400951Z"
    },
    "trusted": true
   },
   "outputs": [],
   "source": [
    "detections, metadata = get_sniddata(df, snids[2])"
   ]
  },
  {
   "cell_type": "code",
   "execution_count": 17,
   "metadata": {
    "execution": {
     "iopub.execute_input": "2025-05-04T03:54:31.227884Z",
     "iopub.status.busy": "2025-05-04T03:54:31.227550Z",
     "iopub.status.idle": "2025-05-04T03:54:31.240405Z",
     "shell.execute_reply": "2025-05-04T03:54:31.239519Z",
     "shell.execute_reply.started": "2025-05-04T03:54:31.227862Z"
    },
    "trusted": true
   },
   "outputs": [],
   "source": [
    "elasticc_object = alerce_lcobj(detections, metadata)"
   ]
  },
  {
   "cell_type": "code",
   "execution_count": 18,
   "metadata": {
    "execution": {
     "iopub.execute_input": "2025-05-04T03:54:31.557601Z",
     "iopub.status.busy": "2025-05-04T03:54:31.556470Z",
     "iopub.status.idle": "2025-05-04T03:54:32.114840Z",
     "shell.execute_reply": "2025-05-04T03:54:32.113651Z",
     "shell.execute_reply.started": "2025-05-04T03:54:31.557575Z"
    },
    "trusted": true
   },
   "outputs": [
    {
     "name": "stderr",
     "output_type": "stream",
     "text": [
      "  0%|          | 0/1 [00:00<?, ?it/s]\n"
     ]
    },
    {
     "ename": "TypeError",
     "evalue": "loop of ufunc does not support argument 0 of type float which has no callable cos method",
     "output_type": "error",
     "traceback": [
      "\u001b[0;31m---------------------------------------------------------------------------\u001b[0m",
      "\u001b[0;31mAttributeError\u001b[0m                            Traceback (most recent call last)",
      "\u001b[0;31mAttributeError\u001b[0m: 'float' object has no attribute 'cos'",
      "\nThe above exception was the direct cause of the following exception:\n",
      "\u001b[0;31mTypeError\u001b[0m                                 Traceback (most recent call last)",
      "\u001b[0;32m/tmp/ipykernel_31/1518476294.py\u001b[0m in \u001b[0;36m<cell line: 0>\u001b[0;34m()\u001b[0m\n\u001b[1;32m      1\u001b[0m \u001b[0mfeature_extractor\u001b[0m \u001b[0;34m=\u001b[0m \u001b[0mElasticcFeatureExtractor\u001b[0m\u001b[0;34m(\u001b[0m\u001b[0;34m)\u001b[0m\u001b[0;34m\u001b[0m\u001b[0;34m\u001b[0m\u001b[0m\n\u001b[0;32m----> 2\u001b[0;31m \u001b[0mfeature_extractor\u001b[0m\u001b[0;34m.\u001b[0m\u001b[0mcompute_features_batch\u001b[0m\u001b[0;34m(\u001b[0m\u001b[0;34m[\u001b[0m\u001b[0melasticc_object\u001b[0m\u001b[0;34m]\u001b[0m\u001b[0;34m,\u001b[0m \u001b[0mprogress_bar\u001b[0m\u001b[0;34m=\u001b[0m\u001b[0;32mTrue\u001b[0m\u001b[0;34m)\u001b[0m\u001b[0;34m\u001b[0m\u001b[0;34m\u001b[0m\u001b[0m\n\u001b[0m\u001b[1;32m      3\u001b[0m \u001b[0mprint\u001b[0m\u001b[0;34m(\u001b[0m\u001b[0melasticc_object\u001b[0m\u001b[0;34m.\u001b[0m\u001b[0mfeatures\u001b[0m\u001b[0;34m)\u001b[0m\u001b[0;34m\u001b[0m\u001b[0;34m\u001b[0m\u001b[0m\n",
      "\u001b[0;32m/kaggle/working/pipeline/lc_classifier/lc_classifier/features/core/base.py\u001b[0m in \u001b[0;36mcompute_features_batch\u001b[0;34m(self, astro_objects, progress_bar)\u001b[0m\n\u001b[1;32m     79\u001b[0m     ):\n\u001b[1;32m     80\u001b[0m         \u001b[0;32mfor\u001b[0m \u001b[0mastro_object\u001b[0m \u001b[0;32min\u001b[0m \u001b[0mtqdm\u001b[0m\u001b[0;34m(\u001b[0m\u001b[0mastro_objects\u001b[0m\u001b[0;34m,\u001b[0m \u001b[0mdisable\u001b[0m\u001b[0;34m=\u001b[0m\u001b[0;34m(\u001b[0m\u001b[0;32mnot\u001b[0m \u001b[0mprogress_bar\u001b[0m\u001b[0;34m)\u001b[0m\u001b[0;34m)\u001b[0m\u001b[0;34m:\u001b[0m\u001b[0;34m\u001b[0m\u001b[0;34m\u001b[0m\u001b[0m\n\u001b[0;32m---> 81\u001b[0;31m             \u001b[0mself\u001b[0m\u001b[0;34m.\u001b[0m\u001b[0mcompute_features_single_object\u001b[0m\u001b[0;34m(\u001b[0m\u001b[0mastro_object\u001b[0m\u001b[0;34m)\u001b[0m\u001b[0;34m\u001b[0m\u001b[0;34m\u001b[0m\u001b[0m\n\u001b[0m\u001b[1;32m     82\u001b[0m \u001b[0;34m\u001b[0m\u001b[0m\n\u001b[1;32m     83\u001b[0m \u001b[0;34m\u001b[0m\u001b[0m\n",
      "\u001b[0;32m/kaggle/working/pipeline/lc_classifier/lc_classifier/features/core/base.py\u001b[0m in \u001b[0;36mcompute_features_single_object\u001b[0;34m(self, astro_object)\u001b[0m\n\u001b[1;32m     92\u001b[0m     \u001b[0;32mdef\u001b[0m \u001b[0mcompute_features_single_object\u001b[0m\u001b[0;34m(\u001b[0m\u001b[0mself\u001b[0m\u001b[0;34m,\u001b[0m \u001b[0mastro_object\u001b[0m\u001b[0;34m:\u001b[0m \u001b[0mAstroObject\u001b[0m\u001b[0;34m)\u001b[0m\u001b[0;34m:\u001b[0m\u001b[0;34m\u001b[0m\u001b[0;34m\u001b[0m\u001b[0m\n\u001b[1;32m     93\u001b[0m         \u001b[0;32mfor\u001b[0m \u001b[0mextractor\u001b[0m \u001b[0;32min\u001b[0m \u001b[0mself\u001b[0m\u001b[0;34m.\u001b[0m\u001b[0mextractors\u001b[0m\u001b[0;34m:\u001b[0m\u001b[0;34m\u001b[0m\u001b[0;34m\u001b[0m\u001b[0m\n\u001b[0;32m---> 94\u001b[0;31m             \u001b[0mextractor\u001b[0m\u001b[0;34m.\u001b[0m\u001b[0mcompute_features_single_object\u001b[0m\u001b[0;34m(\u001b[0m\u001b[0mastro_object\u001b[0m\u001b[0;34m)\u001b[0m\u001b[0;34m\u001b[0m\u001b[0;34m\u001b[0m\u001b[0m\n\u001b[0m\u001b[1;32m     95\u001b[0m \u001b[0;34m\u001b[0m\u001b[0m\n\u001b[1;32m     96\u001b[0m \u001b[0;34m\u001b[0m\u001b[0m\n",
      "\u001b[0;32m/kaggle/working/pipeline/lc_classifier/lc_classifier/features/extractors/harmonics_extractor.py\u001b[0m in \u001b[0;36mcompute_features_single_object\u001b[0;34m(self, astro_object)\u001b[0m\n\u001b[1;32m     71\u001b[0m                 \u001b[0;36m2.0\u001b[0m \u001b[0;34m*\u001b[0m \u001b[0mnp\u001b[0m\u001b[0;34m.\u001b[0m\u001b[0mpi\u001b[0m \u001b[0;34m*\u001b[0m \u001b[0mbest_freq\u001b[0m \u001b[0;34m*\u001b[0m \u001b[0mnp\u001b[0m\u001b[0;34m.\u001b[0m\u001b[0marange\u001b[0m\u001b[0;34m(\u001b[0m\u001b[0;36m1\u001b[0m\u001b[0;34m,\u001b[0m \u001b[0mself\u001b[0m\u001b[0;34m.\u001b[0m\u001b[0mn_harmonics\u001b[0m \u001b[0;34m+\u001b[0m \u001b[0;36m1\u001b[0m\u001b[0;34m)\u001b[0m\u001b[0;34m\u001b[0m\u001b[0;34m\u001b[0m\u001b[0m\n\u001b[1;32m     72\u001b[0m             ).reshape(1, -1).T * time\n\u001b[0;32m---> 73\u001b[0;31m             \u001b[0momega\u001b[0m\u001b[0;34m.\u001b[0m\u001b[0mappend\u001b[0m\u001b[0;34m(\u001b[0m\u001b[0mnp\u001b[0m\u001b[0;34m.\u001b[0m\u001b[0mcos\u001b[0m\u001b[0;34m(\u001b[0m\u001b[0mtimefreq\u001b[0m\u001b[0;34m)\u001b[0m\u001b[0;34m)\u001b[0m\u001b[0;34m\u001b[0m\u001b[0;34m\u001b[0m\u001b[0m\n\u001b[0m\u001b[1;32m     74\u001b[0m             \u001b[0momega\u001b[0m\u001b[0;34m.\u001b[0m\u001b[0mappend\u001b[0m\u001b[0;34m(\u001b[0m\u001b[0mnp\u001b[0m\u001b[0;34m.\u001b[0m\u001b[0msin\u001b[0m\u001b[0;34m(\u001b[0m\u001b[0mtimefreq\u001b[0m\u001b[0;34m)\u001b[0m\u001b[0;34m)\u001b[0m\u001b[0;34m\u001b[0m\u001b[0;34m\u001b[0m\u001b[0m\n\u001b[1;32m     75\u001b[0m \u001b[0;34m\u001b[0m\u001b[0m\n",
      "\u001b[0;31mTypeError\u001b[0m: loop of ufunc does not support argument 0 of type float which has no callable cos method"
     ]
    }
   ],
   "source": [
    "feature_extractor = ElasticcFeatureExtractor()\n",
    "feature_extractor.compute_features_batch([elasticc_object], progress_bar=True)\n",
    "print(elasticc_object.features)"
   ]
  },
  {
   "cell_type": "code",
   "execution_count": null,
   "metadata": {
    "trusted": true
   },
   "outputs": [],
   "source": []
  }
 ],
 "metadata": {
  "kaggle": {
   "accelerator": "none",
   "dataSources": [
    {
     "datasetId": 7322330,
     "sourceId": 11667223,
     "sourceType": "datasetVersion"
    }
   ],
   "dockerImageVersionId": 31012,
   "isGpuEnabled": false,
   "isInternetEnabled": true,
   "language": "python",
   "sourceType": "notebook"
  },
  "kernelspec": {
   "display_name": "Python 3",
   "language": "python",
   "name": "python3"
  },
  "language_info": {
   "codemirror_mode": {
    "name": "ipython",
    "version": 3
   },
   "file_extension": ".py",
   "mimetype": "text/x-python",
   "name": "python",
   "nbconvert_exporter": "python",
   "pygments_lexer": "ipython3",
   "version": "3.11.11"
  }
 },
 "nbformat": 4,
 "nbformat_minor": 4
}
