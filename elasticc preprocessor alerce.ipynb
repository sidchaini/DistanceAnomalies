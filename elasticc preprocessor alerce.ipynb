{
 "cells": [
  {
   "cell_type": "code",
   "execution_count": 1,
   "id": "bb3a7221-8c32-4d34-95ba-033d5d5b379f",
   "metadata": {},
   "outputs": [],
   "source": [
    "import numpy as np\n",
    "import pandas as pd\n",
    "import matplotlib.pyplot as plt\n",
    "\n",
    "plt.style.use(\n",
    "    \"https://raw.githubusercontent.com/erinhay/jolteon/refs/heads/main/notebooks/stylesheet/style.mplstyle\"\n",
    ")"
   ]
  },
  {
   "cell_type": "code",
   "execution_count": 2,
   "id": "c4a29510-6dd2-44cb-81f3-7fb1b5c746a5",
   "metadata": {},
   "outputs": [],
   "source": [
    "# !ls /global/cfs/cdirs/desc-td/ELASTICC2/ELASTICC2_FINAL_Cepheid/"
   ]
  },
  {
   "cell_type": "code",
   "execution_count": 3,
   "id": "5a1ecdc9-13f4-49d2-9892-9d53a7050167",
   "metadata": {},
   "outputs": [],
   "source": [
    "# !ls /global/cfs/cdirs/desc-td/ELASTICC2_parquet"
   ]
  },
  {
   "cell_type": "code",
   "execution_count": 4,
   "id": "89b22d09-515e-4d9c-9868-fdb5af1de649",
   "metadata": {},
   "outputs": [],
   "source": [
    "# !ls /global/cfs/cdirs/desc-td/ELASTICC2_TRAIN02_parquet"
   ]
  },
  {
   "cell_type": "code",
   "execution_count": 5,
   "id": "0d921ba9-b51e-447b-bf48-96feaf0d2bb8",
   "metadata": {},
   "outputs": [],
   "source": [
    "letter_to_num = {\"u\": 0, \"g\": 1, \"r\": 2, \"i\": 3, \"z\": 4, \"y\": 5}\n",
    "num_to_letter = {val: key for key, val in letter_to_num.items()}\n",
    "\n",
    "# Peak wavelength for passband in Armstrong\n",
    "lsst_wavelengths = {\n",
    "    \"u\": 3670.69,\n",
    "    \"g\": 4826.85,\n",
    "    \"r\": 6223.24,\n",
    "    \"i\": 7545.98,\n",
    "    \"z\": 8590.90,\n",
    "    \"y\": 9710.28,\n",
    "}"
   ]
  },
  {
   "cell_type": "code",
   "execution_count": 6,
   "id": "6f3c01d0-4413-424c-887d-4145daaa49d6",
   "metadata": {},
   "outputs": [],
   "source": [
    "import glob"
   ]
  },
  {
   "cell_type": "code",
   "execution_count": 7,
   "id": "8809f000-0328-4ce9-9900-d60f99848edd",
   "metadata": {},
   "outputs": [
    {
     "data": {
      "text/plain": [
       "['/global/cfs/cdirs/desc-td/ELASTICC2_parquet/PISN-STELLA_HYDROGENIC.parquet',\n",
       " '/global/cfs/cdirs/desc-td/ELASTICC2_parquet/PISN-MOSFIT.parquet',\n",
       " '/global/cfs/cdirs/desc-td/ELASTICC2_parquet/uLens-Single_PyLIMA.parquet',\n",
       " '/global/cfs/cdirs/desc-td/ELASTICC2_parquet/TDE.parquet',\n",
       " '/global/cfs/cdirs/desc-td/ELASTICC2_parquet/SNIcBL+HostXT_V19.parquet',\n",
       " '/global/cfs/cdirs/desc-td/ELASTICC2_parquet/KN_B19.parquet',\n",
       " '/global/cfs/cdirs/desc-td/ELASTICC2_parquet/uLens-Binary.parquet',\n",
       " '/global/cfs/cdirs/desc-td/ELASTICC2_parquet/SL-SNII.parquet',\n",
       " '/global/cfs/cdirs/desc-td/ELASTICC2_parquet/SNIc-Templates.parquet',\n",
       " '/global/cfs/cdirs/desc-td/ELASTICC2_parquet/SLSN-I+host.parquet',\n",
       " '/global/cfs/cdirs/desc-td/ELASTICC2_parquet/SNIa-SALT3.parquet',\n",
       " '/global/cfs/cdirs/desc-td/ELASTICC2_parquet/d-Sct.parquet',\n",
       " '/global/cfs/cdirs/desc-td/ELASTICC2_parquet/SNIb-Templates.parquet',\n",
       " '/global/cfs/cdirs/desc-td/ELASTICC2_parquet/SNII+HostXT_V19.parquet',\n",
       " '/global/cfs/cdirs/desc-td/ELASTICC2_parquet/SNIa-91bg.parquet',\n",
       " '/global/cfs/cdirs/desc-td/ELASTICC2_parquet/SL-SNIb.parquet',\n",
       " '/global/cfs/cdirs/desc-td/ELASTICC2_parquet/Mdwarf-flare.parquet',\n",
       " '/global/cfs/cdirs/desc-td/ELASTICC2_parquet/ILOT.parquet',\n",
       " '/global/cfs/cdirs/desc-td/ELASTICC2_parquet/KN_K17.parquet',\n",
       " '/global/cfs/cdirs/desc-td/ELASTICC2_parquet/CART.parquet',\n",
       " '/global/cfs/cdirs/desc-td/ELASTICC2_parquet/SNIIb+HostXT_V19.parquet',\n",
       " '/global/cfs/cdirs/desc-td/ELASTICC2_parquet/SNIb+HostXT_V19.parquet',\n",
       " '/global/cfs/cdirs/desc-td/ELASTICC2_parquet/SL-SN1a.parquet',\n",
       " '/global/cfs/cdirs/desc-td/ELASTICC2_parquet/SNII-NMF.parquet',\n",
       " '/global/cfs/cdirs/desc-td/ELASTICC2_parquet/SNIIn+HostXT_V19.parquet',\n",
       " '/global/cfs/cdirs/desc-td/ELASTICC2_parquet/SNII-Templates.parquet',\n",
       " '/global/cfs/cdirs/desc-td/ELASTICC2_parquet/SNIc+HostXT_V19.parquet',\n",
       " '/global/cfs/cdirs/desc-td/ELASTICC2_parquet/Cepheid.parquet',\n",
       " '/global/cfs/cdirs/desc-td/ELASTICC2_parquet/SNIax.parquet',\n",
       " '/global/cfs/cdirs/desc-td/ELASTICC2_parquet/EB.parquet',\n",
       " '/global/cfs/cdirs/desc-td/ELASTICC2_parquet/SNIIn-MOSFIT.parquet',\n",
       " '/global/cfs/cdirs/desc-td/ELASTICC2_parquet/uLens-Single-GenLens.parquet',\n",
       " '/global/cfs/cdirs/desc-td/ELASTICC2_parquet/PISN-STELLA_HECORE.parquet',\n",
       " '/global/cfs/cdirs/desc-td/ELASTICC2_parquet/AGN.parquet',\n",
       " '/global/cfs/cdirs/desc-td/ELASTICC2_parquet/RRL.parquet',\n",
       " '/global/cfs/cdirs/desc-td/ELASTICC2_parquet/SLSN-I_no_host.parquet',\n",
       " '/global/cfs/cdirs/desc-td/ELASTICC2_parquet/SL-SNIc.parquet',\n",
       " '/global/cfs/cdirs/desc-td/ELASTICC2_parquet/dwarf-nova.parquet']"
      ]
     },
     "execution_count": 7,
     "metadata": {},
     "output_type": "execute_result"
    }
   ],
   "source": [
    "glob.glob(\"/global/cfs/cdirs/desc-td/ELASTICC2_parquet/*.parquet\")"
   ]
  },
  {
   "cell_type": "code",
   "execution_count": 8,
   "id": "47f54248-6cbf-4edb-8652-b8e8d42f81cf",
   "metadata": {},
   "outputs": [],
   "source": [
    "df = pd.read_parquet(\"/global/cfs/cdirs/desc-td/ELASTICC2_parquet/Cepheid.parquet\")\n",
    "# dftrain = pd.read_parquet(\"/global/cfs/cdirs/desc-td/ELASTICC2_TRAIN02_parquet/Cepheid.parquet\")"
   ]
  },
  {
   "cell_type": "code",
   "execution_count": 9,
   "id": "4953aa43-d104-44a0-8979-366a2c75a567",
   "metadata": {},
   "outputs": [],
   "source": [
    "from tqdm.auto import tqdm"
   ]
  },
  {
   "cell_type": "code",
   "execution_count": 10,
   "id": "8be95295-f431-4fca-8f32-ec11b0125ad5",
   "metadata": {},
   "outputs": [],
   "source": [
    "# for path in tqdm(glob.glob(\"/global/cfs/cdirs/desc-td/ELASTICC2_parquet/*.parquet\")):\n",
    "#     df = pd.read_parquet(path)\n",
    "#     if 53125011 in df[\"SNID\"]:\n",
    "#         print(\"SUCCESS\", path)\n",
    "#         break"
   ]
  },
  {
   "cell_type": "code",
   "execution_count": 11,
   "id": "41aff915-23ae-4675-a40c-0d77607106c9",
   "metadata": {},
   "outputs": [],
   "source": [
    "for snid in df[\"SNID\"]:\n",
    "    chosen_df = df[df[\"SNID\"] == snid].iloc[0]\n",
    "    break"
   ]
  },
  {
   "cell_type": "code",
   "execution_count": 12,
   "id": "73c6c570-7e3d-4ec4-a614-5bc9c8770e6c",
   "metadata": {},
   "outputs": [],
   "source": [
    "cols = [\"MJD\", \"FLUXCAL\", \"FLUXCALERR\", \"BAND\", \"PHOTFLAG\", \"ZEROPT\"]\n",
    "dat = []\n",
    "for col in cols:\n",
    "    dat.append(chosen_df.loc[col])\n",
    "dat = np.array(dat).T\n",
    "lc = pd.DataFrame(data=dat, columns=cols).sort_values(by=\"MJD\")"
   ]
  },
  {
   "cell_type": "code",
   "execution_count": 13,
   "id": "8a56190f-f1ff-40b3-9456-90e543ae6490",
   "metadata": {},
   "outputs": [],
   "source": [
    "# only keep detections i.e. >5 SNR\n",
    "lc = (\n",
    "    lc[lc[\"PHOTFLAG\"] == 4096]\n",
    "    .reset_index(drop=True)\n",
    "    .drop([\"PHOTFLAG\", \"ZEROPT\"], axis=1)\n",
    ")"
   ]
  },
  {
   "cell_type": "code",
   "execution_count": 14,
   "id": "d6988653-6fe5-4cc7-93c9-9ea7c808da43",
   "metadata": {},
   "outputs": [
    {
     "data": {
      "text/html": [
       "<div>\n",
       "<style scoped>\n",
       "    .dataframe tbody tr th:only-of-type {\n",
       "        vertical-align: middle;\n",
       "    }\n",
       "\n",
       "    .dataframe tbody tr th {\n",
       "        vertical-align: top;\n",
       "    }\n",
       "\n",
       "    .dataframe thead th {\n",
       "        text-align: right;\n",
       "    }\n",
       "</style>\n",
       "<table border=\"1\" class=\"dataframe\">\n",
       "  <thead>\n",
       "    <tr style=\"text-align: right;\">\n",
       "      <th></th>\n",
       "      <th>MJD</th>\n",
       "      <th>FLUXCAL</th>\n",
       "      <th>FLUXCALERR</th>\n",
       "      <th>BAND</th>\n",
       "    </tr>\n",
       "  </thead>\n",
       "  <tbody>\n",
       "    <tr>\n",
       "      <th>0</th>\n",
       "      <td>60804.3538</td>\n",
       "      <td>-25319.236328</td>\n",
       "      <td>184.068268</td>\n",
       "      <td>Y</td>\n",
       "    </tr>\n",
       "    <tr>\n",
       "      <th>1</th>\n",
       "      <td>60804.3543</td>\n",
       "      <td>-25362.929688</td>\n",
       "      <td>179.296494</td>\n",
       "      <td>Y</td>\n",
       "    </tr>\n",
       "    <tr>\n",
       "      <th>2</th>\n",
       "      <td>60804.377</td>\n",
       "      <td>-26486.181641</td>\n",
       "      <td>183.822189</td>\n",
       "      <td>Y</td>\n",
       "    </tr>\n",
       "    <tr>\n",
       "      <th>3</th>\n",
       "      <td>60804.3774</td>\n",
       "      <td>-26504.472656</td>\n",
       "      <td>183.894058</td>\n",
       "      <td>Y</td>\n",
       "    </tr>\n",
       "    <tr>\n",
       "      <th>4</th>\n",
       "      <td>60813.385</td>\n",
       "      <td>-40566.726562</td>\n",
       "      <td>233.469772</td>\n",
       "      <td>Y</td>\n",
       "    </tr>\n",
       "    <tr>\n",
       "      <th>...</th>\n",
       "      <td>...</td>\n",
       "      <td>...</td>\n",
       "      <td>...</td>\n",
       "      <td>...</td>\n",
       "    </tr>\n",
       "    <tr>\n",
       "      <th>260</th>\n",
       "      <td>61879.2709</td>\n",
       "      <td>-1936.375977</td>\n",
       "      <td>23.415865</td>\n",
       "      <td>r</td>\n",
       "    </tr>\n",
       "    <tr>\n",
       "      <th>261</th>\n",
       "      <td>61879.4186</td>\n",
       "      <td>-17970.359375</td>\n",
       "      <td>107.335777</td>\n",
       "      <td>z</td>\n",
       "    </tr>\n",
       "    <tr>\n",
       "      <th>262</th>\n",
       "      <td>61885.2894</td>\n",
       "      <td>-4222.575195</td>\n",
       "      <td>28.622515</td>\n",
       "      <td>r</td>\n",
       "    </tr>\n",
       "    <tr>\n",
       "      <th>263</th>\n",
       "      <td>61889.2473</td>\n",
       "      <td>113.128914</td>\n",
       "      <td>5.441917</td>\n",
       "      <td>g</td>\n",
       "    </tr>\n",
       "    <tr>\n",
       "      <th>264</th>\n",
       "      <td>61889.2716</td>\n",
       "      <td>2590.65332</td>\n",
       "      <td>27.473347</td>\n",
       "      <td>r</td>\n",
       "    </tr>\n",
       "  </tbody>\n",
       "</table>\n",
       "<p>265 rows × 4 columns</p>\n",
       "</div>"
      ],
      "text/plain": [
       "            MJD       FLUXCAL  FLUXCALERR BAND\n",
       "0    60804.3538 -25319.236328  184.068268    Y\n",
       "1    60804.3543 -25362.929688  179.296494    Y\n",
       "2     60804.377 -26486.181641  183.822189    Y\n",
       "3    60804.3774 -26504.472656  183.894058    Y\n",
       "4     60813.385 -40566.726562  233.469772    Y\n",
       "..          ...           ...         ...  ...\n",
       "260  61879.2709  -1936.375977   23.415865    r\n",
       "261  61879.4186 -17970.359375  107.335777    z\n",
       "262  61885.2894  -4222.575195   28.622515    r\n",
       "263  61889.2473    113.128914    5.441917    g\n",
       "264  61889.2716    2590.65332   27.473347    r\n",
       "\n",
       "[265 rows x 4 columns]"
      ]
     },
     "execution_count": 14,
     "metadata": {},
     "output_type": "execute_result"
    }
   ],
   "source": [
    "lc"
   ]
  },
  {
   "cell_type": "markdown",
   "id": "aa0cd9a8-6a0c-49c1-a1a2-d04f2c62fe49",
   "metadata": {},
   "source": [
    "---"
   ]
  },
  {
   "cell_type": "code",
   "execution_count": 15,
   "id": "1d9f0ebc-9ba5-45de-bd96-1eaa5f31ab9e",
   "metadata": {},
   "outputs": [],
   "source": [
    "# !git clone https://github.com/alercebroker/pipeline.git"
   ]
  },
  {
   "cell_type": "code",
   "execution_count": 16,
   "id": "da029287-be20-4a98-b1d5-eef976d8253b",
   "metadata": {},
   "outputs": [
    {
     "name": "stdout",
     "output_type": "stream",
     "text": [
      "Added /global/homes/c/chaini/packages to sys.path\n"
     ]
    }
   ],
   "source": [
    "import sys\n",
    "import os\n",
    "\n",
    "# Path to where conda's pip installed the packages\n",
    "packages_path = os.path.expanduser(\"~/packages\")\n",
    "\n",
    "# Add this path to the beginning of Python's search list\n",
    "if packages_path not in sys.path:\n",
    "    sys.path.insert(0, packages_path)\n",
    "\n",
    "print(f\"Added {packages_path} to sys.path\")\n",
    "# Optional: Print sys.path to verify\n",
    "# print(sys.path)"
   ]
  },
  {
   "cell_type": "code",
   "execution_count": 17,
   "id": "7ff31389-52ed-4a2b-9db4-e45f677cce13",
   "metadata": {},
   "outputs": [],
   "source": [
    "from lc_classifier.examples.data import get_elasticc_example\n",
    "from lc_classifier.features.composites.elasticc import ElasticcFeatureExtractor\n",
    "from lc_classifier.features.core.base import AstroObject"
   ]
  },
  {
   "cell_type": "code",
   "execution_count": 18,
   "id": "20bfbe37-6e14-403a-baab-f3853271b047",
   "metadata": {},
   "outputs": [],
   "source": [
    "feature_extractor = ElasticcFeatureExtractor()"
   ]
  },
  {
   "cell_type": "code",
   "execution_count": 19,
   "id": "2015695a-cd5c-4dbb-9fab-1d2cf31a4eff",
   "metadata": {},
   "outputs": [],
   "source": [
    "def alerce_lcobj(detections, metadata):\n",
    "    # assert detections[\"SNID\"].unique().shape[0] == 1\n",
    "    detections.rename(\n",
    "        columns={\n",
    "            \"MJD\": \"mjd\",\n",
    "            \"BAND\": \"fid\",\n",
    "            \"FLUXCAL\": \"brightness\",\n",
    "            \"FLUXCALERR\": \"e_brightness\",\n",
    "        },\n",
    "        inplace=True,\n",
    "    )\n",
    "    detections[\"candid\"] = None\n",
    "    detections[\"tid\"] = \"elasticc_telescope\"\n",
    "    detections[\"sid\"] = \"elasticc_survey\"\n",
    "    detections[\"pid\"] = \"elasticc_program\"\n",
    "\n",
    "    metadata = metadata.loc[:, [\"name\", \"value\"]]\n",
    "\n",
    "    detections[\"ra\"] = float(metadata[metadata[\"name\"] == \"RA\"][\"value\"].values[0])\n",
    "    detections[\"dec\"] = float(metadata[metadata[\"name\"] == \"DEC\"][\"value\"].values[0])\n",
    "    detections[\"unit\"] = \"diff_flux\"\n",
    "\n",
    "    is_detected = detections[\"PHOTFLAG\"] > 0\n",
    "    detections.drop(columns=[\"PHOTFLAG\"], inplace=True)\n",
    "    forced_photometry = detections[~is_detected]\n",
    "    detections = detections[is_detected]\n",
    "\n",
    "    metadata.loc[len(metadata)] = [\"aid\", \"aid_example\"]\n",
    "\n",
    "    astro_object = AstroObject(\n",
    "        detections=detections, forced_photometry=forced_photometry, metadata=metadata\n",
    "    )\n",
    "\n",
    "    return astro_object"
   ]
  },
  {
   "cell_type": "code",
   "execution_count": 20,
   "id": "b9477c13-ed4f-4852-a7e9-c19273bb4a20",
   "metadata": {},
   "outputs": [],
   "source": [
    "def alerce_feature_listobjs(\n",
    "    astro_objects, feature_extractor=ElasticcFeatureExtractor(), progress_bar=False\n",
    "):\n",
    "    # astro_objects is list of astro_object e.g. [astro_object1, astro_object2, etc.]\n",
    "    feature_extractor.compute_features_batch(\n",
    "        [elasticc_object], progress_bar=progress_bar\n",
    "    )\n",
    "    return astro_objects"
   ]
  },
  {
   "cell_type": "code",
   "execution_count": 44,
   "id": "16da84f1-274a-4488-9d97-4c0f84e9be56",
   "metadata": {},
   "outputs": [],
   "source": [
    "def get_detections(chosen_df, snid):\n",
    "    detections_colnames = [\"SNID\", \"MJD\", \"BAND\", \"FLUXCAL\", \"FLUXCALERR\", \"PHOTFLAG\"]\n",
    "    tot_pts = chosen_df[\"MJD\"].shape[0]\n",
    "    dat = []\n",
    "    dat.append([snid] * (tot_pts))\n",
    "    for col in detections_colnames[1:]:\n",
    "        dat.append(chosen_df.loc[col])\n",
    "    dat = np.array(dat).T\n",
    "    detections = (\n",
    "        pd.DataFrame(data=dat, columns=detections_colnames)\n",
    "        .sort_values(by=\"MJD\")\n",
    "        .reset_index(drop=True)\n",
    "    )\n",
    "    return detections\n",
    "\n",
    "\n",
    "def get_meta(chosen_df, snid):\n",
    "    metacols = [\n",
    "        \"SNID\",\n",
    "        \"RA\",\n",
    "        \"DEC\",\n",
    "        \"SNTYPE\",\n",
    "        \"NOBS\",\n",
    "        \"PTROBS_MIN\",\n",
    "        \"PTROBS_MAX\",\n",
    "        \"MWEBV\",\n",
    "        \"MWEBV_ERR\",\n",
    "        \"REDSHIFT_HELIO\",\n",
    "        \"REDSHIFT_HELIO_ERR\",\n",
    "        \"REDSHIFT_FINAL\",\n",
    "        \"REDSHIFT_FINAL_ERR\",\n",
    "        \"VPEC\",\n",
    "        \"VPEC_ERR\",\n",
    "    ]\n",
    "\n",
    "    names = chosen_df.loc[metacols].index.to_numpy()\n",
    "    values = chosen_df.loc[metacols].to_numpy()\n",
    "    dat = np.stack([names, values]).T\n",
    "    metadata = pd.DataFrame(data=dat, columns=[\"name\", \"value\"])\n",
    "    return metadata\n",
    "\n",
    "\n",
    "def get_sniddata(df_parquet, snid):\n",
    "    chosen_df = df_parquet[df_parquet[\"SNID\"] == snid].iloc[0]\n",
    "    detections = get_detections(chosen_df, snid)\n",
    "    metadata = get_meta(chosen_df, snid)\n",
    "\n",
    "    return detections, metadata"
   ]
  },
  {
   "cell_type": "code",
   "execution_count": 45,
   "id": "77e02912-82ec-4f30-84d5-cc832da3b33e",
   "metadata": {},
   "outputs": [],
   "source": [
    "# get_detections(df, snid_val)"
   ]
  },
  {
   "cell_type": "code",
   "execution_count": 46,
   "id": "9531a010-c142-44fc-abf3-56079bcc0d73",
   "metadata": {},
   "outputs": [],
   "source": [
    "detections = pd.read_csv(\n",
    "    \"https://github.com/alercebroker/pipeline/raw/refs/heads/main/lc_classifier/lc_classifier/examples/elasticc/elasticc_snid_53125011_detections.csv\"\n",
    ")\n",
    "metadata = pd.read_csv(\n",
    "    \"https://github.com/alercebroker/pipeline/raw/refs/heads/main/lc_classifier/lc_classifier/examples/elasticc/elasticc_snid_53125011_metadata.csv\"\n",
    ")"
   ]
  },
  {
   "cell_type": "code",
   "execution_count": 47,
   "id": "15ada3c6-f198-4d3a-8cc8-a122371c67e8",
   "metadata": {},
   "outputs": [],
   "source": [
    "elasticc_object = alerce_lcobj(detections, metadata)"
   ]
  },
  {
   "cell_type": "code",
   "execution_count": 41,
   "id": "f584c47c-155b-47b0-a0a4-475b7de4a6b9",
   "metadata": {},
   "outputs": [
    {
     "ename": "AttributeError",
     "evalue": "'AstroObject' object has no attribute 'redshift_name'",
     "output_type": "error",
     "traceback": [
      "\u001b[0;31m---------------------------------------------------------------------------\u001b[0m",
      "\u001b[0;31mAttributeError\u001b[0m                            Traceback (most recent call last)",
      "Cell \u001b[0;32mIn[41], line 1\u001b[0m\n\u001b[0;32m----> 1\u001b[0m \u001b[38;5;28;01mif\u001b[39;00m \u001b[43melasticc_object\u001b[49m\u001b[38;5;241;43m.\u001b[39;49m\u001b[43mredshift_name\u001b[49m \u001b[38;5;129;01mis\u001b[39;00m \u001b[38;5;28;01mNone\u001b[39;00m:\n\u001b[1;32m      2\u001b[0m     \u001b[38;5;28;01mpass\u001b[39;00m\n",
      "\u001b[0;31mAttributeError\u001b[0m: 'AstroObject' object has no attribute 'redshift_name'"
     ]
    }
   ],
   "source": [
    "if elasticc_object.redshift_name is None:\n",
    "    pass"
   ]
  },
  {
   "cell_type": "code",
   "execution_count": 35,
   "id": "ca37b05f-040e-4b58-8527-771166e759f2",
   "metadata": {},
   "outputs": [
    {
     "data": {
      "text/plain": [
       "'aid_example'"
      ]
     },
     "execution_count": 35,
     "metadata": {},
     "output_type": "execute_result"
    }
   ],
   "source": [
    "# # PeriodExtractor: Only used for logging\n",
    "# elasticc_object.metadata[elasticc_object.metadata[\"name\"] == \"aid\"][\"value\"].values[0]"
   ]
  },
  {
   "cell_type": "code",
   "execution_count": null,
   "id": "75026997-8aa0-442c-9f77-849bc15df150",
   "metadata": {},
   "outputs": [],
   "source": []
  },
  {
   "cell_type": "code",
   "execution_count": 32,
   "id": "5832e042-97cd-4f8c-850d-1c5b7b9cbedc",
   "metadata": {},
   "outputs": [
    {
     "data": {
      "text/html": [
       "<div>\n",
       "<style scoped>\n",
       "    .dataframe tbody tr th:only-of-type {\n",
       "        vertical-align: middle;\n",
       "    }\n",
       "\n",
       "    .dataframe tbody tr th {\n",
       "        vertical-align: top;\n",
       "    }\n",
       "\n",
       "    .dataframe thead th {\n",
       "        text-align: right;\n",
       "    }\n",
       "</style>\n",
       "<table border=\"1\" class=\"dataframe\">\n",
       "  <thead>\n",
       "    <tr style=\"text-align: right;\">\n",
       "      <th></th>\n",
       "      <th>name</th>\n",
       "      <th>value</th>\n",
       "    </tr>\n",
       "  </thead>\n",
       "  <tbody>\n",
       "    <tr>\n",
       "      <th>0</th>\n",
       "      <td>SNID</td>\n",
       "      <td>53125011</td>\n",
       "    </tr>\n",
       "    <tr>\n",
       "      <th>1</th>\n",
       "      <td>IAUC</td>\n",
       "      <td>NaN</td>\n",
       "    </tr>\n",
       "    <tr>\n",
       "      <th>2</th>\n",
       "      <td>FAKE</td>\n",
       "      <td>2</td>\n",
       "    </tr>\n",
       "    <tr>\n",
       "      <th>3</th>\n",
       "      <td>RA</td>\n",
       "      <td>82.50327958115051</td>\n",
       "    </tr>\n",
       "    <tr>\n",
       "      <th>4</th>\n",
       "      <td>DEC</td>\n",
       "      <td>-8.543473129539061</td>\n",
       "    </tr>\n",
       "    <tr>\n",
       "      <th>...</th>\n",
       "      <td>...</td>\n",
       "      <td>...</td>\n",
       "    </tr>\n",
       "    <tr>\n",
       "      <th>166</th>\n",
       "      <td>SIM_GALFRAC_i</td>\n",
       "      <td>22.15407943725586</td>\n",
       "    </tr>\n",
       "    <tr>\n",
       "      <th>167</th>\n",
       "      <td>SIM_GALFRAC_z</td>\n",
       "      <td>29.115129470825195</td>\n",
       "    </tr>\n",
       "    <tr>\n",
       "      <th>168</th>\n",
       "      <td>SIM_GALFRAC_Y</td>\n",
       "      <td>26.309558868408203</td>\n",
       "    </tr>\n",
       "    <tr>\n",
       "      <th>169</th>\n",
       "      <td>SIM_SUBSAMPLE_INDEX</td>\n",
       "      <td>-9</td>\n",
       "    </tr>\n",
       "    <tr>\n",
       "      <th>170</th>\n",
       "      <td>aid</td>\n",
       "      <td>aid_example</td>\n",
       "    </tr>\n",
       "  </tbody>\n",
       "</table>\n",
       "<p>171 rows × 2 columns</p>\n",
       "</div>"
      ],
      "text/plain": [
       "                    name               value\n",
       "0                   SNID            53125011\n",
       "1                   IAUC                 NaN\n",
       "2                   FAKE                   2\n",
       "3                     RA   82.50327958115051\n",
       "4                    DEC  -8.543473129539061\n",
       "..                   ...                 ...\n",
       "166        SIM_GALFRAC_i   22.15407943725586\n",
       "167        SIM_GALFRAC_z  29.115129470825195\n",
       "168        SIM_GALFRAC_Y  26.309558868408203\n",
       "169  SIM_SUBSAMPLE_INDEX                  -9\n",
       "170                  aid         aid_example\n",
       "\n",
       "[171 rows x 2 columns]"
      ]
     },
     "execution_count": 32,
     "metadata": {},
     "output_type": "execute_result"
    }
   ],
   "source": [
    "elasticc_object.metadata"
   ]
  },
  {
   "cell_type": "code",
   "execution_count": 23,
   "id": "7bae6543-6279-4724-b24e-6d2ff59248c3",
   "metadata": {},
   "outputs": [
    {
     "name": "stderr",
     "output_type": "stream",
     "text": [
      "WARNING:2025-05-03 10:26:22,471:jax._src.xla_bridge:969: An NVIDIA GPU may be present on this machine, but a CUDA-enabled jaxlib is not installed. Falling back to cpu.\n",
      "100%|██████████| 1/1 [00:06<00:00,  6.27s/it]"
     ]
    },
    {
     "name": "stdout",
     "output_type": "stream",
     "text": [
      "                            name      value          fid              sid  \\\n",
      "0                            u-g        NaN  u,g,r,i,z,Y  elasticc_survey   \n",
      "1                            g-r        NaN  u,g,r,i,z,Y  elasticc_survey   \n",
      "2                            r-i   0.818937  u,g,r,i,z,Y  elasticc_survey   \n",
      "3                            i-z   1.383519  u,g,r,i,z,Y  elasticc_survey   \n",
      "4                            z-Y        NaN  u,g,r,i,z,Y  elasticc_survey   \n",
      "..                           ...        ...          ...              ...   \n",
      "59  median_brightness_after_band  11.560403            Y  elasticc_survey   \n",
      "0                       Timespan  40.979100         None  elasticc_survey   \n",
      "0                   Coordinate_x   0.129022         None  elasticc_survey   \n",
      "1                   Coordinate_y   0.980451         None  elasticc_survey   \n",
      "2                   Coordinate_z  -0.148560         None  elasticc_survey   \n",
      "\n",
      "   version  \n",
      "0    1.0.0  \n",
      "1    1.0.0  \n",
      "2    1.0.0  \n",
      "3    1.0.0  \n",
      "4    1.0.0  \n",
      "..     ...  \n",
      "59   1.0.0  \n",
      "0    1.0.0  \n",
      "0    1.0.0  \n",
      "1    1.0.0  \n",
      "2    1.0.0  \n",
      "\n",
      "[419 rows x 5 columns]\n"
     ]
    },
    {
     "name": "stderr",
     "output_type": "stream",
     "text": [
      "\n"
     ]
    }
   ],
   "source": [
    "feature_extractor = ElasticcFeatureExtractor()\n",
    "feature_extractor.compute_features_batch([elasticc_object], progress_bar=True)\n",
    "print(elasticc_object.features)"
   ]
  }
 ],
 "metadata": {
  "kernelspec": {
   "display_name": "NERSC Python",
   "language": "python",
   "name": "python3"
  },
  "language_info": {
   "codemirror_mode": {
    "name": "ipython",
    "version": 3
   },
   "file_extension": ".py",
   "mimetype": "text/x-python",
   "name": "python",
   "nbconvert_exporter": "python",
   "pygments_lexer": "ipython3",
   "version": "3.11.7"
  }
 },
 "nbformat": 4,
 "nbformat_minor": 5
}
